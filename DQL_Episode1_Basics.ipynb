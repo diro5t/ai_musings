{
  "nbformat": 4,
  "nbformat_minor": 0,
  "metadata": {
    "colab": {
      "provenance": [],
      "authorship_tag": "ABX9TyNn4YD8ivWki9uUKu8XSQWU",
      "include_colab_link": true
    },
    "kernelspec": {
      "name": "python3",
      "display_name": "Python 3"
    },
    "language_info": {
      "name": "python"
    }
  },
  "cells": [
    {
      "cell_type": "markdown",
      "metadata": {
        "id": "view-in-github",
        "colab_type": "text"
      },
      "source": [
        "<a href=\"https://colab.research.google.com/github/diro5t/dql_deep_quadric_learning/blob/main/DQL_Episode1_Basics.ipynb\" target=\"_parent\"><img src=\"https://colab.research.google.com/assets/colab-badge.svg\" alt=\"Open In Colab\"/></a>"
      ]
    },
    {
      "cell_type": "markdown",
      "source": [
        "#Deep Quadric Learning - A tale in 4 episodes\n",
        "## Episode 1: The Basics\n",
        "### (C) Dirk Roeckmann 2023"
      ],
      "metadata": {
        "id": "S6UjraT-9IuV"
      }
    },
    {
      "cell_type": "markdown",
      "source": [
        "LaTeX works well! $\\mathbf{a} \\cdot \\mathbf{b} = \\sum_{i=1}^n a_i b_i$"
      ],
      "metadata": {
        "id": "bSxQDMIs-PJr"
      }
    }
  ]
}
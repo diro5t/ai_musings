{
  "nbformat": 4,
  "nbformat_minor": 0,
  "metadata": {
    "colab": {
      "provenance": [],
      "collapsed_sections": [
        "dxiKEQiKv7cU"
      ],
      "toc_visible": true,
      "authorship_tag": "ABX9TyMIe/7XsxS8clomF4xJl99o",
      "include_colab_link": true
    },
    "kernelspec": {
      "name": "python3",
      "display_name": "Python 3"
    },
    "language_info": {
      "name": "python"
    }
  },
  "cells": [
    {
      "cell_type": "markdown",
      "metadata": {
        "id": "view-in-github",
        "colab_type": "text"
      },
      "source": [
        "<a href=\"https://colab.research.google.com/github/diro5t/deep_quadric_learning/blob/main/DQL_Episode1_Motivation.ipynb\" target=\"_parent\"><img src=\"https://colab.research.google.com/assets/colab-badge.svg\" alt=\"Open In Colab\"/></a>"
      ]
    },
    {
      "cell_type": "markdown",
      "source": [
        "#Deep Quadric Learning - A tale in 4 episodes\n",
        "## Episode 1: The Motivation\n",
        "### (C) Dirk Roeckmann 2023"
      ],
      "metadata": {
        "id": "S6UjraT-9IuV"
      }
    },
    {
      "cell_type": "markdown",
      "source": [
        "# Why quadric learning?\n",
        "\n",
        "- LLM hype and ever bigger data and models \n",
        "- ressources,equality, carbon foot-print, sustainability\n",
        "- everything that contributes positively in these regards will be crucial in the future\n",
        "- dql as humble contribution"
      ],
      "metadata": {
        "id": "Z19M20cktYxK"
      }
    },
    {
      "cell_type": "markdown",
      "source": [
        "## Decision Planes And Separability\n"
      ],
      "metadata": {
        "id": "ZWIrQpN4uirI"
      }
    },
    {
      "cell_type": "markdown",
      "source": [
        "## Model size"
      ],
      "metadata": {
        "id": "sdcUYox_uwT3"
      }
    },
    {
      "cell_type": "markdown",
      "source": [
        "# The Math\n"
      ],
      "metadata": {
        "id": "YWrtzH6kshQ5"
      }
    },
    {
      "cell_type": "markdown",
      "source": [
        "## Linear Functions"
      ],
      "metadata": {
        "id": "dxiKEQiKv7cU"
      }
    },
    {
      "cell_type": "markdown",
      "source": [
        "LaTeX works best! $\\mathbf{a} \\cdot \\mathbf{b} = \\sum_{i=1}^n a_i b_i$"
      ],
      "metadata": {
        "id": "bSxQDMIs-PJr"
      }
    },
    {
      "cell_type": "markdown",
      "source": [
        "## Quadratic Functions"
      ],
      "metadata": {
        "id": "ebo7nFogv7yB"
      }
    },
    {
      "cell_type": "markdown",
      "source": [
        "## Conic Sections"
      ],
      "metadata": {
        "id": "DU-9fjeYzTKN"
      }
    },
    {
      "cell_type": "markdown",
      "source": [
        "## Quadrics"
      ],
      "metadata": {
        "id": "qW1R-47-vlVK"
      }
    },
    {
      "cell_type": "markdown",
      "source": [
        "# Application in Deep Learning"
      ],
      "metadata": {
        "id": "G48yXXxIs5eD"
      }
    },
    {
      "cell_type": "markdown",
      "source": [
        "## Own Research"
      ],
      "metadata": {
        "id": "fu-FZJVpzs7y"
      }
    },
    {
      "cell_type": "markdown",
      "source": [
        "## Other Research"
      ],
      "metadata": {
        "id": "n3Dq9y3ozs-j"
      }
    },
    {
      "cell_type": "markdown",
      "source": [
        "# Teaser Episode 2 : The Single Quadric Neuron"
      ],
      "metadata": {
        "id": "QVtI7nYm0oEM"
      }
    }
  ]
}
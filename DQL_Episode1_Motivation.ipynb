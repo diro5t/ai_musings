{
  "nbformat": 4,
  "nbformat_minor": 0,
  "metadata": {
    "colab": {
      "provenance": [],
      "authorship_tag": "ABX9TyNJzq7OTYgt+knp5QS8mmCe",
      "include_colab_link": true
    },
    "kernelspec": {
      "name": "python3",
      "display_name": "Python 3"
    },
    "language_info": {
      "name": "python"
    }
  },
  "cells": [
    {
      "cell_type": "markdown",
      "metadata": {
        "id": "view-in-github",
        "colab_type": "text"
      },
      "source": [
        "<a href=\"https://colab.research.google.com/github/diro5t/deep_quadric_learning/blob/main/DQL_Episode1_Motivation.ipynb\" target=\"_parent\"><img src=\"https://colab.research.google.com/assets/colab-badge.svg\" alt=\"Open In Colab\"/></a>"
      ]
    },
    {
      "cell_type": "markdown",
      "source": [
        "#Deep Quadric Learning - A tale in 4 episodes\n",
        "## Episode 1: The Motivation\n",
        "### (C) Dirk Roeckmann 2023"
      ],
      "metadata": {
        "id": "S6UjraT-9IuV"
      }
    },
    {
      "cell_type": "markdown",
      "source": [
        "# Why quadric learning?\n",
        "\n",
        "If digital technological evolution taught us one thing then it's this: Moore's 1st law will not always be on our side, his 2nd law never was.\n",
        "\n",
        "The current hype concerning Large Language Models (LLM), the huge amount of data and parameters to build and train them clearly show that the trend of ever bigger data and ever bigger models can't be sustained and clearly negatively impacts \n",
        "\n",
        "- available AI compute power\n",
        "- AI costs\n",
        "- the democratization of access to AI technology\n",
        "- the AI carbon foot-print & sustainability of deep learning models\n",
        "\n",
        "Everything that contributes positively in a meaningful way in order to improve the situation is absolutely crucial.\n",
        "\n",
        "Yes, I am aware that we need a paradigm shift in AI because it is an illusion that much more progress can be achieved just by inflating the model. The JEPA approach of Yann LeCun seems to be a very promising next step but real world applicability is not imminent to say the least.\n",
        "\n",
        "In the meantime, reducing the number of parameters is always a good idea.\n",
        "\n",
        "This project of Deep Quadric Learning wants to be a small and humble contribution to the above mentioned dilemma by introducing quadric decision hypersurfaces and 2nd order separability and enable the study of its impact on model size, parameters and  interconnectivity of deep learning models. In one of the later episodes you'll find references to past and current research in this field including my own.\n",
        "\n",
        "While reducing net model size itself, quadric learning at the same time allows for various subsequent methods like hyper parameter optimization, model distillation, sparse activation, evolutionary architecture search etc. etc.\n",
        "\n",
        "In 4 episodes this project tries to introduce the concept of quadric learning from the motivation (1) the single quadric neuron (2) to quadric layers (3) and lastly hybrid and purely quadric models (4).\n",
        "\n",
        "The proof of concept implementation in PyTorch does in no way affect the applicability of Deep Quadric Learning to other frameworks like Tensor Flow etc.\n"
      ],
      "metadata": {
        "id": "Z19M20cktYxK"
      }
    },
    {
      "cell_type": "markdown",
      "source": [
        "# The Math\n",
        "\n",
        "In this section you'll find the definition of quadrics, their relationship to linear and quadratic equations and lastly their interpretation as n-dimensional hypersurfaces in n+1-dimensional euclidean space or in 'Deep Learning speak' as n-dimensional decision hypersurfaces in n+1-dimensional feature space."
      ],
      "metadata": {
        "id": "YWrtzH6kshQ5"
      }
    },
    {
      "cell_type": "markdown",
      "source": [
        "## Linear Equation\n",
        "\n",
        "A linear equation is an algebraic equation of the form consisting only of a first-order term A (also called slope) \n",
        "\\begin{equation}\n",
        "Ax+B=0 \\tag{1}\n",
        "\\end{equation}\n",
        "and a constant B (also called y-intercept or bias).\n",
        "\n",
        "The example for $A=2$ and $B=1$ shows the graph of the related function to (1) and the solution for this equation $x=-\\frac{1}{2}$:"
      ],
      "metadata": {
        "id": "dxiKEQiKv7cU"
      }
    },
    {
      "cell_type": "code",
      "source": [
        "import matplotlib.pyplot as plt\n",
        "import numpy as np\n",
        "x = np.linspace(-5,5,100)\n",
        "y = 2*x+1\n",
        "plt.plot(x, y, '-r', label='y=2x+1')\n",
        "plt.xlabel('x', color='#1C2833')\n",
        "plt.ylabel('y', color='#1C2833')\n",
        "plt.legend(loc='upper left')\n",
        "plt.scatter(-0.5, 0)\n",
        "plt.grid()\n",
        "plt.show()"
      ],
      "metadata": {
        "colab": {
          "base_uri": "https://localhost:8080/",
          "height": 449
        },
        "id": "CeZNqxuAnGp1",
        "outputId": "86b111d4-ce1a-4ac3-d816-344eec7dea5c"
      },
      "execution_count": 6,
      "outputs": [
        {
          "output_type": "display_data",
          "data": {
            "text/plain": [
              "<Figure size 640x480 with 1 Axes>"
            ],
            "image/png": "[encoded data removed]"
          },
          "metadata": {}
        }
      ]
    },
    {
      "cell_type": "markdown",
      "source": [
        "## Quadratic Equation\n",
        "\n",
        "A quadratic equation is an algrabraic equation of the second degree with one or more variables raised to the second order. Here is the general form with two variables in $\\mathbb{R}^2$:\n",
        "\\begin{equation}\n",
        "Ax^2+Bxy+Cy^2+Dx+Ey+F=0 \\tag{2}\n",
        "\\end{equation}\n",
        "You might have noticed the mixed term $xy$ in the equation. We can rewrite this equation in it's canonical form eliminating the mixed term without any loss, because it only reflects a rotation in the coordinate system:\n",
        "\\begin{equation}\n",
        "Ax^2+By^2+Cx+Dy+E=0 \\tag{3}\n",
        "\\end{equation}\n",
        "If we look at the case of 3 variables in $\\mathbb{R}^3$ we get the following equations in general and canonical form respectively\n",
        "\\begin{equation}\n",
        "Ax^2+By^2+Cz^2+Dxy+Exz+Fyz+Gx+Hy+Iz+J=0 \\tag{4}\n",
        "\\end{equation}\n",
        "\\begin{equation}\n",
        "Ax^2+By^2+Cz^2+Dx+Ey+Fz+G=0 \\tag{5}\n",
        "\\end{equation}"
      ],
      "metadata": {
        "id": "ebo7nFogv7yB"
      }
    },
    {
      "cell_type": "markdown",
      "source": [
        "## Conic Sections"
      ],
      "metadata": {
        "id": "DU-9fjeYzTKN"
      }
    },
    {
      "cell_type": "markdown",
      "source": [
        "## Quadrics\n",
        "\n",
        "A quadric is nothing more than the generalization of the above equations to the case of $n$ variables in $\\mathbb{R}^n$ or synonymously the raising of conic sections to the $nth$ dimension. I will only use the quadric canonical form here (no mixed terms, see above):\n",
        "\\begin{equation}\n",
        "\\sum_{i=1}^n q_i x_i^2 + \\sum_{i=1}^n w_i x_i + b=0 \\tag{6}\n",
        "\\end{equation}\n",
        "Please note the subtle and convenient renaming of coefficients to names we are so used to in the world of ANNs: The $w_i$ represent the linear weights, $b$ the bias and newly introduced the $qi$ represent the second order weights.\n"
      ],
      "metadata": {
        "id": "qW1R-47-vlVK"
      }
    },
    {
      "cell_type": "markdown",
      "source": [
        "# Teaser Episode 2 : The Single Quadric Neuron\n",
        "\n",
        "In the next episode I will introduce the single quadric neuron as a unit with n-dimensional hypersurface separability on the basis of equation (6). In addition to that I will show what it is capable of doing."
      ],
      "metadata": {
        "id": "QVtI7nYm0oEM"
      }
    }
  ]
}
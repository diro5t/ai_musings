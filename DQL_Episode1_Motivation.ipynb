{
  "nbformat": 4,
  "nbformat_minor": 0,
  "metadata": {
    "colab": {
      "provenance": [],
      "collapsed_sections": [
        "dxiKEQiKv7cU"
      ],
      "authorship_tag": "ABX9TyMQ5Z28qCzqgrPXMKyBuppo",
      "include_colab_link": true
    },
    "kernelspec": {
      "name": "python3",
      "display_name": "Python 3"
    },
    "language_info": {
      "name": "python"
    }
  },
  "cells": [
    {
      "cell_type": "markdown",
      "metadata": {
        "id": "view-in-github",
        "colab_type": "text"
      },
      "source": [
        "<a href=\"https://colab.research.google.com/github/diro5t/deep_quadric_learning/blob/main/DQL_Episode1_Motivation.ipynb\" target=\"_parent\"><img src=\"https://colab.research.google.com/assets/colab-badge.svg\" alt=\"Open In Colab\"/></a>"
      ]
    },
    {
      "cell_type": "markdown",
      "source": [
        "#Deep Quadric Learning - A tale in 4 episodes\n",
        "## Episode 1: The Motivation\n",
        "### (C) Dirk Roeckmann 2023"
      ],
      "metadata": {
        "id": "S6UjraT-9IuV"
      }
    },
    {
      "cell_type": "markdown",
      "source": [
        "# Why quadric learning?\n",
        "\n",
        "If digital technological evolution taught us one thing then it's this: Moore's 1st law will not always be on our side, his 2nd law never was.\n",
        "\n",
        "The current hype concerning Large Language Models (LLM), the huge amount of data and parameters to build and train them clearly show that the trend of ever bigger data and ever bigger models can't be sustained and clearly negatively impacts \n",
        "\n",
        "- available AI compute power\n",
        "- AI costs\n",
        "- the democratization of access to AI technology\n",
        "- the AI carbon foot-print & sustainability of deep learning models\n",
        "\n",
        "Everything that contributes positively in a meaningful way in order to improve the situation is absolutely crucial.\n",
        "\n",
        "This project of Deep Quadric Learning wants to be a small and humble contribution to the above mentioned dilemma by introducing quadric decision hyperplanes and 2nd order separability and enable the study of its impact on model size, parameters and  interconnectivity of deep learning models. In one of the later episodes you'll find references to past and current research in this field including my own.\n",
        "\n",
        "While reducing net model size itself, quadric learning at the same time allows for various subsequent methods like hyper parameter optimization, model distillation, sparse activation, evolutionary architecture search etc. etc.\n",
        "\n",
        "In 4 episodes this project tries to introduce the concept of quadric learning from the motivation (1) the single quadric neuron (2) to quadric layers (3) and lastly hybrid and purely quadric models (4).\n",
        "\n",
        "The proof of concept implementation in PyTorch does in no way affect the applicability of Deep Quadric Learning to other frameworks like Tensor Flow etc.\n"
      ],
      "metadata": {
        "id": "Z19M20cktYxK"
      }
    },
    {
      "cell_type": "markdown",
      "source": [
        "# The Math\n",
        "\n",
        "In this section you'll find the definition of quadrics and their relationship to linear functions, quadratic functions and conic sections."
      ],
      "metadata": {
        "id": "YWrtzH6kshQ5"
      }
    },
    {
      "cell_type": "markdown",
      "source": [
        "## Linear Functions"
      ],
      "metadata": {
        "id": "dxiKEQiKv7cU"
      }
    },
    {
      "cell_type": "markdown",
      "source": [
        "LaTeX works best! $\\mathbf{a} \\cdot \\mathbf{b} = \\sum_{i=1}^n a_i b_i$"
      ],
      "metadata": {
        "id": "bSxQDMIs-PJr"
      }
    },
    {
      "cell_type": "markdown",
      "source": [
        "## Quadratic Functions"
      ],
      "metadata": {
        "id": "ebo7nFogv7yB"
      }
    },
    {
      "cell_type": "markdown",
      "source": [
        "## Conic Sections"
      ],
      "metadata": {
        "id": "DU-9fjeYzTKN"
      }
    },
    {
      "cell_type": "markdown",
      "source": [
        "## Quadrics"
      ],
      "metadata": {
        "id": "qW1R-47-vlVK"
      }
    },
    {
      "cell_type": "markdown",
      "source": [
        "# Teaser Episode 2 : The Single Quadric Neuron"
      ],
      "metadata": {
        "id": "QVtI7nYm0oEM"
      }
    }
  ]
}
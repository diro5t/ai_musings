{
  "nbformat": 4,
  "nbformat_minor": 0,
  "metadata": {
    "colab": {
      "provenance": [],
      "toc_visible": true,
      "authorship_tag": "ABX9TyPhISxqbXN0ICpsnvo7Gjhx",
      "include_colab_link": true
    },
    "kernelspec": {
      "name": "python3",
      "display_name": "Python 3"
    },
    "language_info": {
      "name": "python"
    }
  },
  "cells": [
    {
      "cell_type": "markdown",
      "metadata": {
        "id": "view-in-github",
        "colab_type": "text"
      },
      "source": [
        "<a href=\"https://colab.research.google.com/github/diro5t/deep_quadric_learning/blob/main/DQL_Episode3_Quadric_Layers.ipynb\" target=\"_parent\"><img src=\"https://colab.research.google.com/assets/colab-badge.svg\" alt=\"Open In Colab\"/></a>"
      ]
    },
    {
      "cell_type": "markdown",
      "source": [
        "#Deep Quadric Learning - A tale in 4 episodes\n",
        "## Episode 3: Quadric Layers\n",
        "### (C) Dirk Roeckmann 2023\n",
        "\n",
        "https://scholar.google.com/citations?hl=en&user=hamuGh4AAAAJ"
      ],
      "metadata": {
        "id": "w3qE1JwTJGgk"
      }
    },
    {
      "cell_type": "markdown",
      "source": [
        "# Introduction\n",
        "In the last episode I established that classification problems where layers of linear units are necessary can be solved with a single quadric neuron which is proof of a significant reduction of model size and parameters. In this episode I will introduce quadric layers in PyTorch exemplified in a custom layer class and apply it to the IRIS dataset for a little demonstration in multi-class classification.\n",
        "\n"
      ],
      "metadata": {
        "id": "RxbaHI7YJMPI"
      }
    },
    {
      "cell_type": "code",
      "source": [
        "# get stuff needed for this episode\n",
        "import copy\n",
        "import matplotlib.pyplot as plt\n",
        "import numpy as np\n",
        "import pandas as pd\n",
        "import torch\n",
        "import torch.nn as nn\n",
        "import torch.optim as optim\n",
        "import tqdm\n",
        "from sklearn.model_selection import train_test_split\n",
        "from sklearn.preprocessing import OneHotEncoder\n",
        "import math\n",
        "from typing import Any\n",
        "from torch import Tensor\n",
        "from torch.nn.parameter import Parameter, UninitializedParameter"
      ],
      "metadata": {
        "id": "xWqKV8jxc0W1"
      },
      "execution_count": 12,
      "outputs": []
    },
    {
      "cell_type": "markdown",
      "source": [
        "# Custom Quadric Layer\n",
        "\n",
        "The quadric layer can be modeled straight-forward as a custom layer in PyTorch:"
      ],
      "metadata": {
        "id": "pezlBJzmKtgW"
      }
    },
    {
      "cell_type": "code",
      "source": [
        "class Quadric(nn.Module):\n",
        "    __constants__ = ['in_features', 'out_features']\n",
        "    in_features: int\n",
        "    out_features: int\n",
        "    qweight: Tensor\n",
        "    lweight: Tensor\n",
        "\n",
        "    def __init__(self, in_features: int, out_features: int, bias: bool = True,\n",
        "                 device=None, dtype=None) -> None:\n",
        "        factory_kwargs = {'device': device, 'dtype': dtype}\n",
        "        super().__init__()\n",
        "        self.in_features = in_features\n",
        "        self.out_features = out_features\n",
        "        # quadratic weights\n",
        "        self.qweight = Parameter(torch.empty((out_features, in_features), **factory_kwargs))\n",
        "        # linear weights\n",
        "        self.lweight = Parameter(torch.empty((out_features, in_features), **factory_kwargs))\n",
        "        # bias\n",
        "        if bias:\n",
        "            self.bias = Parameter(torch.empty(out_features, **factory_kwargs))\n",
        "        else:\n",
        "            self.register_parameter('bias', None)\n",
        "        self.reset_parameters()\n",
        "\n",
        "    def reset_parameters(self) -> None:\n",
        "        nn.init.kaiming_uniform_(self.qweight, a=math.sqrt(5))\n",
        "        nn.init.kaiming_uniform_(self.lweight, a=math.sqrt(5))\n",
        "        if self.bias is not None:\n",
        "            fan_in_q, _ = nn.init._calculate_fan_in_and_fan_out(self.qweight)\n",
        "            fan_in_l, _ = nn.init._calculate_fan_in_and_fan_out(self.lweight)\n",
        "            bound = 1 / math.sqrt(fan_in_l) if fan_in_l > 0 else 0\n",
        "            nn.init.uniform_(self.bias, -bound, bound)\n",
        "\n",
        "    def forward(self, input: Tensor) -> Tensor:\n",
        "        input_sqr = torch.mul(input, input)\n",
        "        qi = nn.functional.linear(input, self.qweight, None)\n",
        "        wib = nn.functional.linear(input, self.lweight, self.bias)\n",
        "        return torch.add(qi, wib)\n",
        "\n",
        "    def extra_repr(self) -> str:\n",
        "        return 'in_features={}, out_features={}, bias={}'.format(\n",
        "            self.in_features, self.out_features, self.bias is not None\n",
        "        )"
      ],
      "metadata": {
        "id": "jdPjyN_lLM3M"
      },
      "execution_count": 13,
      "outputs": []
    },
    {
      "cell_type": "markdown",
      "source": [
        "# IRIS Multi-Class Classification"
      ],
      "metadata": {
        "id": "ylQ15gsjf5t6"
      }
    },
    {
      "cell_type": "markdown",
      "source": [
        "## Linear Layers\n",
        "\n",
        "First let's classify the IRIS dataset with linear units:\n",
        "4 inputs, a 8-unit hidden layer and a 3-unit output layer\n",
        "\n",
        "This example code has been taken verbatim from:\n",
        "\n",
        "https://machinelearningmastery.com/building-a-multiclass-classification-model-in-pytorch/\n",
        "\n",
        "Training will be 200 epochs with a batch size of 5."
      ],
      "metadata": {
        "id": "9a4aFvdagQkN"
      }
    },
    {
      "cell_type": "code",
      "source": [
        "# read data and apply one-hot encoding\n",
        "data = pd.read_csv(\"sample_data/iris.csv\", header=None)\n",
        "X = data.iloc[:, 0:4]\n",
        "y = data.iloc[:, 4:]\n",
        "ohe = OneHotEncoder(handle_unknown='ignore', sparse_output=False).fit(y)\n",
        "y = ohe.transform(y)\n",
        "\n",
        "# convert pandas DataFrame (X) and numpy array (y) into PyTorch tensors\n",
        "X = torch.tensor(X.values, dtype=torch.float32)\n",
        "y = torch.tensor(y, dtype=torch.float32)\n",
        "\n",
        "# split\n",
        "X_train, X_test, y_train, y_test = train_test_split(X, y, train_size=0.7, shuffle=True)\n",
        "\n",
        "class Multiclass(nn.Module):\n",
        "    def __init__(self):\n",
        "        super().__init__()\n",
        "        self.hidden = nn.Linear(4, 8)\n",
        "        self.act = nn.ReLU()\n",
        "        self.output = nn.Linear(8, 3)\n",
        "\n",
        "    def forward(self, x):\n",
        "        x = self.act(self.hidden(x))\n",
        "        x = self.output(x)\n",
        "        return x\n",
        "\n",
        "# loss metric and optimizer\n",
        "model = Multiclass()\n",
        "loss_fn = nn.CrossEntropyLoss()\n",
        "optimizer = optim.Adam(model.parameters(), lr=0.001)\n",
        "\n",
        "# prepare model and training parameters\n",
        "n_epochs = 200\n",
        "batch_size = 5\n",
        "batches_per_epoch = len(X_train) // batch_size\n",
        "\n",
        "best_acc = - np.inf   # init to negative infinity\n",
        "best_weights = None\n",
        "train_loss_hist = []\n",
        "train_acc_hist = []\n",
        "test_loss_hist = []\n",
        "test_acc_hist = []\n",
        "\n",
        "# training loop\n",
        "for epoch in range(n_epochs):\n",
        "    epoch_loss = []\n",
        "    epoch_acc = []\n",
        "    # set model in training mode and run through each batch\n",
        "    model.train()\n",
        "    with tqdm.trange(batches_per_epoch, unit=\"batch\", mininterval=0) as bar:\n",
        "        bar.set_description(f\"Epoch {epoch}\")\n",
        "        for i in bar:\n",
        "            # take a batch\n",
        "            start = i * batch_size\n",
        "            X_batch = X_train[start:start+batch_size]\n",
        "            y_batch = y_train[start:start+batch_size]\n",
        "            # forward pass\n",
        "            y_pred = model(X_batch)\n",
        "            loss = loss_fn(y_pred, y_batch)\n",
        "            # backward pass\n",
        "            optimizer.zero_grad()\n",
        "            loss.backward()\n",
        "            # update weights\n",
        "            optimizer.step()\n",
        "            # compute and store metrics\n",
        "            acc = (torch.argmax(y_pred, 1) == torch.argmax(y_batch, 1)).float().mean()\n",
        "            epoch_loss.append(float(loss))\n",
        "            epoch_acc.append(float(acc))\n",
        "            bar.set_postfix(\n",
        "                loss=float(loss),\n",
        "                acc=float(acc)\n",
        "            )\n",
        "    # set model in evaluation mode and run through the test set\n",
        "    model.eval()\n",
        "    y_pred = model(X_test)\n",
        "    ce = loss_fn(y_pred, y_test)\n",
        "    acc = (torch.argmax(y_pred, 1) == torch.argmax(y_test, 1)).float().mean()\n",
        "    ce = float(ce)\n",
        "    acc = float(acc)\n",
        "    train_loss_hist.append(np.mean(epoch_loss))\n",
        "    train_acc_hist.append(np.mean(epoch_acc))\n",
        "    test_loss_hist.append(ce)\n",
        "    test_acc_hist.append(acc)\n",
        "    if acc > best_acc:\n",
        "        best_acc = acc\n",
        "        best_weights = copy.deepcopy(model.state_dict())\n",
        "    print(f\"Epoch {epoch} validation: Cross-entropy={ce:.2f}, Accuracy={acc*100:.1f}%\")\n",
        "\n",
        "# Restore best model\n",
        "model.load_state_dict(best_weights)\n",
        "\n",
        "# Plot the loss and accuracy\n",
        "plt.plot(train_loss_hist, label=\"train\")\n",
        "plt.plot(test_loss_hist, label=\"test\")\n",
        "plt.xlabel(\"epochs\")\n",
        "plt.ylabel(\"cross entropy\")\n",
        "plt.legend()\n",
        "plt.show()\n",
        "\n",
        "plt.plot(train_acc_hist, label=\"train\")\n",
        "plt.plot(test_acc_hist, label=\"test\")\n",
        "plt.xlabel(\"epochs\")\n",
        "plt.ylabel(\"accuracy\")\n",
        "plt.legend()\n",
        "plt.show()"
      ],
      "metadata": {
        "id": "VC66t32wcLyc",
        "colab": {
          "base_uri": "https://localhost:8080/",
          "height": 1000
        },
        "outputId": "27137a25-361e-4244-f881-a3e7d90bad5b"
      },
      "execution_count": 14,
      "outputs": [
        {
          "output_type": "stream",
          "name": "stderr",
          "text": [
            "Epoch 0: 100%|██████████| 21/21 [00:00<00:00, 149.05batch/s, acc=0, loss=3.3]\n"
          ]
        },
        {
          "output_type": "stream",
          "name": "stdout",
          "text": [
            "Epoch 0 validation: Cross-entropy=1.99, Accuracy=24.4%\n"
          ]
        },
        {
          "output_type": "stream",
          "name": "stderr",
          "text": [
            "Epoch 1: 100%|██████████| 21/21 [00:00<00:00, 180.60batch/s, acc=0, loss=2.7]\n"
          ]
        },
        {
          "output_type": "stream",
          "name": "stdout",
          "text": [
            "Epoch 1 validation: Cross-entropy=1.69, Accuracy=4.4%\n"
          ]
        },
        {
          "output_type": "stream",
          "name": "stderr",
          "text": [
            "Epoch 2: 100%|██████████| 21/21 [00:00<00:00, 175.23batch/s, acc=0.2, loss=2.21]\n"
          ]
        },
        {
          "output_type": "stream",
          "name": "stdout",
          "text": [
            "Epoch 2 validation: Cross-entropy=1.44, Accuracy=13.3%\n"
          ]
        },
        {
          "output_type": "stream",
          "name": "stderr",
          "text": [
            "Epoch 3: 100%|██████████| 21/21 [00:00<00:00, 182.80batch/s, acc=0.2, loss=1.8]\n"
          ]
        },
        {
          "output_type": "stream",
          "name": "stdout",
          "text": [
            "Epoch 3 validation: Cross-entropy=1.25, Accuracy=46.7%\n"
          ]
        },
        {
          "output_type": "stream",
          "name": "stderr",
          "text": [
            "Epoch 4: 100%|██████████| 21/21 [00:00<00:00, 185.15batch/s, acc=0.2, loss=1.5]\n"
          ]
        },
        {
          "output_type": "stream",
          "name": "stdout",
          "text": [
            "Epoch 4 validation: Cross-entropy=1.11, Accuracy=66.7%\n"
          ]
        },
        {
          "output_type": "stream",
          "name": "stderr",
          "text": [
            "Epoch 5: 100%|██████████| 21/21 [00:00<00:00, 187.62batch/s, acc=0.2, loss=1.28]\n"
          ]
        },
        {
          "output_type": "stream",
          "name": "stdout",
          "text": [
            "Epoch 5 validation: Cross-entropy=1.02, Accuracy=66.7%\n"
          ]
        },
        {
          "output_type": "stream",
          "name": "stderr",
          "text": [
            "Epoch 6: 100%|██████████| 21/21 [00:00<00:00, 203.38batch/s, acc=0.2, loss=1.15]\n"
          ]
        },
        {
          "output_type": "stream",
          "name": "stdout",
          "text": [
            "Epoch 6 validation: Cross-entropy=0.95, Accuracy=66.7%\n"
          ]
        },
        {
          "output_type": "stream",
          "name": "stderr",
          "text": [
            "Epoch 7: 100%|██████████| 21/21 [00:00<00:00, 202.58batch/s, acc=0.2, loss=1.07]\n"
          ]
        },
        {
          "output_type": "stream",
          "name": "stdout",
          "text": [
            "Epoch 7 validation: Cross-entropy=0.90, Accuracy=66.7%\n"
          ]
        },
        {
          "output_type": "stream",
          "name": "stderr",
          "text": [
            "Epoch 8: 100%|██████████| 21/21 [00:00<00:00, 172.06batch/s, acc=0.2, loss=1.03]\n"
          ]
        },
        {
          "output_type": "stream",
          "name": "stdout",
          "text": [
            "Epoch 8 validation: Cross-entropy=0.86, Accuracy=66.7%\n"
          ]
        },
        {
          "output_type": "stream",
          "name": "stderr",
          "text": [
            "Epoch 9: 100%|██████████| 21/21 [00:00<00:00, 192.73batch/s, acc=0.2, loss=1]\n"
          ]
        },
        {
          "output_type": "stream",
          "name": "stdout",
          "text": [
            "Epoch 9 validation: Cross-entropy=0.82, Accuracy=66.7%\n"
          ]
        },
        {
          "output_type": "stream",
          "name": "stderr",
          "text": [
            "Epoch 10: 100%|██████████| 21/21 [00:00<00:00, 155.95batch/s, acc=0.2, loss=0.985]\n"
          ]
        },
        {
          "output_type": "stream",
          "name": "stdout",
          "text": [
            "Epoch 10 validation: Cross-entropy=0.79, Accuracy=66.7%\n"
          ]
        },
        {
          "output_type": "stream",
          "name": "stderr",
          "text": [
            "Epoch 11: 100%|██████████| 21/21 [00:00<00:00, 187.42batch/s, acc=0.2, loss=0.969]\n"
          ]
        },
        {
          "output_type": "stream",
          "name": "stdout",
          "text": [
            "Epoch 11 validation: Cross-entropy=0.76, Accuracy=66.7%\n"
          ]
        },
        {
          "output_type": "stream",
          "name": "stderr",
          "text": [
            "Epoch 12: 100%|██████████| 21/21 [00:00<00:00, 197.97batch/s, acc=0.2, loss=0.954]\n"
          ]
        },
        {
          "output_type": "stream",
          "name": "stdout",
          "text": [
            "Epoch 12 validation: Cross-entropy=0.73, Accuracy=66.7%\n"
          ]
        },
        {
          "output_type": "stream",
          "name": "stderr",
          "text": [
            "Epoch 13: 100%|██████████| 21/21 [00:00<00:00, 91.38batch/s, acc=0.2, loss=0.941] \n"
          ]
        },
        {
          "output_type": "stream",
          "name": "stdout",
          "text": [
            "Epoch 13 validation: Cross-entropy=0.70, Accuracy=66.7%\n"
          ]
        },
        {
          "output_type": "stream",
          "name": "stderr",
          "text": [
            "Epoch 14: 100%|██████████| 21/21 [00:00<00:00, 202.22batch/s, acc=0.2, loss=0.928]\n"
          ]
        },
        {
          "output_type": "stream",
          "name": "stdout",
          "text": [
            "Epoch 14 validation: Cross-entropy=0.68, Accuracy=66.7%\n"
          ]
        },
        {
          "output_type": "stream",
          "name": "stderr",
          "text": [
            "Epoch 15: 100%|██████████| 21/21 [00:00<00:00, 204.46batch/s, acc=0.2, loss=0.915]\n"
          ]
        },
        {
          "output_type": "stream",
          "name": "stdout",
          "text": [
            "Epoch 15 validation: Cross-entropy=0.65, Accuracy=66.7%\n"
          ]
        },
        {
          "output_type": "stream",
          "name": "stderr",
          "text": [
            "Epoch 16: 100%|██████████| 21/21 [00:00<00:00, 210.35batch/s, acc=0.2, loss=0.902]\n"
          ]
        },
        {
          "output_type": "stream",
          "name": "stdout",
          "text": [
            "Epoch 16 validation: Cross-entropy=0.63, Accuracy=66.7%\n"
          ]
        },
        {
          "output_type": "stream",
          "name": "stderr",
          "text": [
            "Epoch 17: 100%|██████████| 21/21 [00:00<00:00, 193.11batch/s, acc=0.2, loss=0.891]\n"
          ]
        },
        {
          "output_type": "stream",
          "name": "stdout",
          "text": [
            "Epoch 17 validation: Cross-entropy=0.61, Accuracy=66.7%\n"
          ]
        },
        {
          "output_type": "stream",
          "name": "stderr",
          "text": [
            "Epoch 18: 100%|██████████| 21/21 [00:00<00:00, 84.18batch/s, acc=0.2, loss=0.879] \n"
          ]
        },
        {
          "output_type": "stream",
          "name": "stdout",
          "text": [
            "Epoch 18 validation: Cross-entropy=0.59, Accuracy=66.7%\n"
          ]
        },
        {
          "output_type": "stream",
          "name": "stderr",
          "text": [
            "Epoch 19: 100%|██████████| 21/21 [00:00<00:00, 194.53batch/s, acc=0.2, loss=0.869]\n"
          ]
        },
        {
          "output_type": "stream",
          "name": "stdout",
          "text": [
            "Epoch 19 validation: Cross-entropy=0.58, Accuracy=66.7%\n"
          ]
        },
        {
          "output_type": "stream",
          "name": "stderr",
          "text": [
            "Epoch 20: 100%|██████████| 21/21 [00:00<00:00, 220.59batch/s, acc=0.2, loss=0.858]\n"
          ]
        },
        {
          "output_type": "stream",
          "name": "stdout",
          "text": [
            "Epoch 20 validation: Cross-entropy=0.56, Accuracy=66.7%\n"
          ]
        },
        {
          "output_type": "stream",
          "name": "stderr",
          "text": [
            "Epoch 21: 100%|██████████| 21/21 [00:00<00:00, 211.95batch/s, acc=0.2, loss=0.848]\n"
          ]
        },
        {
          "output_type": "stream",
          "name": "stdout",
          "text": [
            "Epoch 21 validation: Cross-entropy=0.55, Accuracy=71.1%\n"
          ]
        },
        {
          "output_type": "stream",
          "name": "stderr",
          "text": [
            "Epoch 22: 100%|██████████| 21/21 [00:00<00:00, 203.78batch/s, acc=0.2, loss=0.838]\n"
          ]
        },
        {
          "output_type": "stream",
          "name": "stdout",
          "text": [
            "Epoch 22 validation: Cross-entropy=0.53, Accuracy=75.6%\n"
          ]
        },
        {
          "output_type": "stream",
          "name": "stderr",
          "text": [
            "Epoch 23: 100%|██████████| 21/21 [00:00<00:00, 77.78batch/s, acc=0.4, loss=0.828]\n"
          ]
        },
        {
          "output_type": "stream",
          "name": "stdout",
          "text": [
            "Epoch 23 validation: Cross-entropy=0.52, Accuracy=82.2%\n"
          ]
        },
        {
          "output_type": "stream",
          "name": "stderr",
          "text": [
            "Epoch 24: 100%|██████████| 21/21 [00:00<00:00, 194.18batch/s, acc=0.4, loss=0.818]\n"
          ]
        },
        {
          "output_type": "stream",
          "name": "stdout",
          "text": [
            "Epoch 24 validation: Cross-entropy=0.51, Accuracy=82.2%\n"
          ]
        },
        {
          "output_type": "stream",
          "name": "stderr",
          "text": [
            "Epoch 25: 100%|██████████| 21/21 [00:00<00:00, 221.42batch/s, acc=0.4, loss=0.808]\n"
          ]
        },
        {
          "output_type": "stream",
          "name": "stdout",
          "text": [
            "Epoch 25 validation: Cross-entropy=0.50, Accuracy=84.4%\n"
          ]
        },
        {
          "output_type": "stream",
          "name": "stderr",
          "text": [
            "Epoch 26: 100%|██████████| 21/21 [00:00<00:00, 200.52batch/s, acc=0.4, loss=0.799]\n"
          ]
        },
        {
          "output_type": "stream",
          "name": "stdout",
          "text": [
            "Epoch 26 validation: Cross-entropy=0.49, Accuracy=86.7%\n"
          ]
        },
        {
          "output_type": "stream",
          "name": "stderr",
          "text": [
            "Epoch 27: 100%|██████████| 21/21 [00:00<00:00, 174.51batch/s, acc=0.4, loss=0.79]\n"
          ]
        },
        {
          "output_type": "stream",
          "name": "stdout",
          "text": [
            "Epoch 27 validation: Cross-entropy=0.48, Accuracy=86.7%\n"
          ]
        },
        {
          "output_type": "stream",
          "name": "stderr",
          "text": [
            "Epoch 28: 100%|██████████| 21/21 [00:00<00:00, 86.48batch/s, acc=0.4, loss=0.78]\n"
          ]
        },
        {
          "output_type": "stream",
          "name": "stdout",
          "text": [
            "Epoch 28 validation: Cross-entropy=0.47, Accuracy=88.9%\n"
          ]
        },
        {
          "output_type": "stream",
          "name": "stderr",
          "text": [
            "Epoch 29: 100%|██████████| 21/21 [00:00<00:00, 211.66batch/s, acc=0.4, loss=0.77]\n"
          ]
        },
        {
          "output_type": "stream",
          "name": "stdout",
          "text": [
            "Epoch 29 validation: Cross-entropy=0.46, Accuracy=91.1%\n"
          ]
        },
        {
          "output_type": "stream",
          "name": "stderr",
          "text": [
            "Epoch 30: 100%|██████████| 21/21 [00:00<00:00, 212.86batch/s, acc=0.4, loss=0.76]\n"
          ]
        },
        {
          "output_type": "stream",
          "name": "stdout",
          "text": [
            "Epoch 30 validation: Cross-entropy=0.45, Accuracy=93.3%\n"
          ]
        },
        {
          "output_type": "stream",
          "name": "stderr",
          "text": [
            "Epoch 31: 100%|██████████| 21/21 [00:00<00:00, 210.82batch/s, acc=0.6, loss=0.751]\n"
          ]
        },
        {
          "output_type": "stream",
          "name": "stdout",
          "text": [
            "Epoch 31 validation: Cross-entropy=0.44, Accuracy=93.3%\n"
          ]
        },
        {
          "output_type": "stream",
          "name": "stderr",
          "text": [
            "Epoch 32: 100%|██████████| 21/21 [00:00<00:00, 185.30batch/s, acc=0.6, loss=0.742]\n"
          ]
        },
        {
          "output_type": "stream",
          "name": "stdout",
          "text": [
            "Epoch 32 validation: Cross-entropy=0.43, Accuracy=93.3%\n"
          ]
        },
        {
          "output_type": "stream",
          "name": "stderr",
          "text": [
            "Epoch 33: 100%|██████████| 21/21 [00:00<00:00, 197.62batch/s, acc=0.6, loss=0.733]\n"
          ]
        },
        {
          "output_type": "stream",
          "name": "stdout",
          "text": [
            "Epoch 33 validation: Cross-entropy=0.42, Accuracy=95.6%\n"
          ]
        },
        {
          "output_type": "stream",
          "name": "stderr",
          "text": [
            "Epoch 34: 100%|██████████| 21/21 [00:00<00:00, 82.47batch/s, acc=0.6, loss=0.724] \n"
          ]
        },
        {
          "output_type": "stream",
          "name": "stdout",
          "text": [
            "Epoch 34 validation: Cross-entropy=0.41, Accuracy=95.6%\n"
          ]
        },
        {
          "output_type": "stream",
          "name": "stderr",
          "text": [
            "Epoch 35: 100%|██████████| 21/21 [00:00<00:00, 223.29batch/s, acc=0.6, loss=0.714]\n"
          ]
        },
        {
          "output_type": "stream",
          "name": "stdout",
          "text": [
            "Epoch 35 validation: Cross-entropy=0.40, Accuracy=95.6%\n"
          ]
        },
        {
          "output_type": "stream",
          "name": "stderr",
          "text": [
            "Epoch 36: 100%|██████████| 21/21 [00:00<00:00, 191.73batch/s, acc=0.6, loss=0.705]\n"
          ]
        },
        {
          "output_type": "stream",
          "name": "stdout",
          "text": [
            "Epoch 36 validation: Cross-entropy=0.39, Accuracy=95.6%\n"
          ]
        },
        {
          "output_type": "stream",
          "name": "stderr",
          "text": [
            "Epoch 37: 100%|██████████| 21/21 [00:00<00:00, 230.00batch/s, acc=0.8, loss=0.696]\n"
          ]
        },
        {
          "output_type": "stream",
          "name": "stdout",
          "text": [
            "Epoch 37 validation: Cross-entropy=0.39, Accuracy=95.6%\n"
          ]
        },
        {
          "output_type": "stream",
          "name": "stderr",
          "text": [
            "Epoch 38: 100%|██████████| 21/21 [00:00<00:00, 232.18batch/s, acc=0.8, loss=0.687]\n"
          ]
        },
        {
          "output_type": "stream",
          "name": "stdout",
          "text": [
            "Epoch 38 validation: Cross-entropy=0.38, Accuracy=97.8%\n"
          ]
        },
        {
          "output_type": "stream",
          "name": "stderr",
          "text": [
            "Epoch 39: 100%|██████████| 21/21 [00:00<00:00, 75.95batch/s, acc=0.8, loss=0.678] \n"
          ]
        },
        {
          "output_type": "stream",
          "name": "stdout",
          "text": [
            "Epoch 39 validation: Cross-entropy=0.37, Accuracy=97.8%\n"
          ]
        },
        {
          "output_type": "stream",
          "name": "stderr",
          "text": [
            "Epoch 40: 100%|██████████| 21/21 [00:00<00:00, 213.85batch/s, acc=0.8, loss=0.668]\n"
          ]
        },
        {
          "output_type": "stream",
          "name": "stdout",
          "text": [
            "Epoch 40 validation: Cross-entropy=0.36, Accuracy=97.8%\n"
          ]
        },
        {
          "output_type": "stream",
          "name": "stderr",
          "text": [
            "Epoch 41: 100%|██████████| 21/21 [00:00<00:00, 228.31batch/s, acc=0.8, loss=0.659]\n"
          ]
        },
        {
          "output_type": "stream",
          "name": "stdout",
          "text": [
            "Epoch 41 validation: Cross-entropy=0.36, Accuracy=97.8%\n"
          ]
        },
        {
          "output_type": "stream",
          "name": "stderr",
          "text": [
            "Epoch 42: 100%|██████████| 21/21 [00:00<00:00, 213.93batch/s, acc=0.8, loss=0.653]\n"
          ]
        },
        {
          "output_type": "stream",
          "name": "stdout",
          "text": [
            "Epoch 42 validation: Cross-entropy=0.35, Accuracy=97.8%\n"
          ]
        },
        {
          "output_type": "stream",
          "name": "stderr",
          "text": [
            "Epoch 43: 100%|██████████| 21/21 [00:00<00:00, 224.00batch/s, acc=0.8, loss=0.644]\n"
          ]
        },
        {
          "output_type": "stream",
          "name": "stdout",
          "text": [
            "Epoch 43 validation: Cross-entropy=0.34, Accuracy=97.8%\n"
          ]
        },
        {
          "output_type": "stream",
          "name": "stderr",
          "text": [
            "Epoch 44: 100%|██████████| 21/21 [00:00<00:00, 76.83batch/s, acc=0.8, loss=0.637]\n"
          ]
        },
        {
          "output_type": "stream",
          "name": "stdout",
          "text": [
            "Epoch 44 validation: Cross-entropy=0.34, Accuracy=97.8%\n"
          ]
        },
        {
          "output_type": "stream",
          "name": "stderr",
          "text": [
            "Epoch 45: 100%|██████████| 21/21 [00:00<00:00, 199.24batch/s, acc=0.8, loss=0.63]\n"
          ]
        },
        {
          "output_type": "stream",
          "name": "stdout",
          "text": [
            "Epoch 45 validation: Cross-entropy=0.33, Accuracy=97.8%\n"
          ]
        },
        {
          "output_type": "stream",
          "name": "stderr",
          "text": [
            "Epoch 46: 100%|██████████| 21/21 [00:00<00:00, 220.36batch/s, acc=0.8, loss=0.623]\n"
          ]
        },
        {
          "output_type": "stream",
          "name": "stdout",
          "text": [
            "Epoch 46 validation: Cross-entropy=0.32, Accuracy=97.8%\n"
          ]
        },
        {
          "output_type": "stream",
          "name": "stderr",
          "text": [
            "Epoch 47: 100%|██████████| 21/21 [00:00<00:00, 175.40batch/s, acc=0.8, loss=0.615]\n"
          ]
        },
        {
          "output_type": "stream",
          "name": "stdout",
          "text": [
            "Epoch 47 validation: Cross-entropy=0.32, Accuracy=97.8%\n"
          ]
        },
        {
          "output_type": "stream",
          "name": "stderr",
          "text": [
            "Epoch 48: 100%|██████████| 21/21 [00:00<00:00, 201.49batch/s, acc=0.8, loss=0.607]\n"
          ]
        },
        {
          "output_type": "stream",
          "name": "stdout",
          "text": [
            "Epoch 48 validation: Cross-entropy=0.31, Accuracy=97.8%\n"
          ]
        },
        {
          "output_type": "stream",
          "name": "stderr",
          "text": [
            "Epoch 49: 100%|██████████| 21/21 [00:00<00:00, 207.49batch/s, acc=0.8, loss=0.601]\n"
          ]
        },
        {
          "output_type": "stream",
          "name": "stdout",
          "text": [
            "Epoch 49 validation: Cross-entropy=0.30, Accuracy=97.8%\n"
          ]
        },
        {
          "output_type": "stream",
          "name": "stderr",
          "text": [
            "Epoch 50: 100%|██████████| 21/21 [00:00<00:00, 208.58batch/s, acc=0.8, loss=0.594]\n"
          ]
        },
        {
          "output_type": "stream",
          "name": "stdout",
          "text": [
            "Epoch 50 validation: Cross-entropy=0.30, Accuracy=97.8%\n"
          ]
        },
        {
          "output_type": "stream",
          "name": "stderr",
          "text": [
            "Epoch 51: 100%|██████████| 21/21 [00:00<00:00, 233.75batch/s, acc=0.8, loss=0.587]\n"
          ]
        },
        {
          "output_type": "stream",
          "name": "stdout",
          "text": [
            "Epoch 51 validation: Cross-entropy=0.29, Accuracy=97.8%\n"
          ]
        },
        {
          "output_type": "stream",
          "name": "stderr",
          "text": [
            "Epoch 52: 100%|██████████| 21/21 [00:00<00:00, 221.33batch/s, acc=0.8, loss=0.579]\n"
          ]
        },
        {
          "output_type": "stream",
          "name": "stdout",
          "text": [
            "Epoch 52 validation: Cross-entropy=0.29, Accuracy=97.8%\n"
          ]
        },
        {
          "output_type": "stream",
          "name": "stderr",
          "text": [
            "Epoch 53: 100%|██████████| 21/21 [00:00<00:00, 188.92batch/s, acc=0.8, loss=0.573]\n"
          ]
        },
        {
          "output_type": "stream",
          "name": "stdout",
          "text": [
            "Epoch 53 validation: Cross-entropy=0.28, Accuracy=97.8%\n"
          ]
        },
        {
          "output_type": "stream",
          "name": "stderr",
          "text": [
            "Epoch 54: 100%|██████████| 21/21 [00:00<00:00, 155.79batch/s, acc=0.8, loss=0.566]\n"
          ]
        },
        {
          "output_type": "stream",
          "name": "stdout",
          "text": [
            "Epoch 54 validation: Cross-entropy=0.28, Accuracy=97.8%\n"
          ]
        },
        {
          "output_type": "stream",
          "name": "stderr",
          "text": [
            "Epoch 55: 100%|██████████| 21/21 [00:00<00:00, 79.94batch/s, acc=0.8, loss=0.56] \n"
          ]
        },
        {
          "output_type": "stream",
          "name": "stdout",
          "text": [
            "Epoch 55 validation: Cross-entropy=0.27, Accuracy=97.8%\n"
          ]
        },
        {
          "output_type": "stream",
          "name": "stderr",
          "text": [
            "Epoch 56: 100%|██████████| 21/21 [00:00<00:00, 177.36batch/s, acc=0.8, loss=0.553]\n"
          ]
        },
        {
          "output_type": "stream",
          "name": "stdout",
          "text": [
            "Epoch 56 validation: Cross-entropy=0.27, Accuracy=97.8%\n"
          ]
        },
        {
          "output_type": "stream",
          "name": "stderr",
          "text": [
            "Epoch 57: 100%|██████████| 21/21 [00:00<00:00, 204.96batch/s, acc=0.8, loss=0.548]\n"
          ]
        },
        {
          "output_type": "stream",
          "name": "stdout",
          "text": [
            "Epoch 57 validation: Cross-entropy=0.26, Accuracy=97.8%\n"
          ]
        },
        {
          "output_type": "stream",
          "name": "stderr",
          "text": [
            "Epoch 58: 100%|██████████| 21/21 [00:00<00:00, 219.15batch/s, acc=0.8, loss=0.541]\n"
          ]
        },
        {
          "output_type": "stream",
          "name": "stdout",
          "text": [
            "Epoch 58 validation: Cross-entropy=0.26, Accuracy=97.8%\n"
          ]
        },
        {
          "output_type": "stream",
          "name": "stderr",
          "text": [
            "Epoch 59: 100%|██████████| 21/21 [00:00<00:00, 214.65batch/s, acc=0.8, loss=0.536]\n"
          ]
        },
        {
          "output_type": "stream",
          "name": "stdout",
          "text": [
            "Epoch 59 validation: Cross-entropy=0.25, Accuracy=97.8%\n"
          ]
        },
        {
          "output_type": "stream",
          "name": "stderr",
          "text": [
            "Epoch 60: 100%|██████████| 21/21 [00:00<00:00, 85.97batch/s, acc=0.8, loss=0.53] \n"
          ]
        },
        {
          "output_type": "stream",
          "name": "stdout",
          "text": [
            "Epoch 60 validation: Cross-entropy=0.25, Accuracy=97.8%\n"
          ]
        },
        {
          "output_type": "stream",
          "name": "stderr",
          "text": [
            "Epoch 61: 100%|██████████| 21/21 [00:00<00:00, 213.98batch/s, acc=0.8, loss=0.524]\n"
          ]
        },
        {
          "output_type": "stream",
          "name": "stdout",
          "text": [
            "Epoch 61 validation: Cross-entropy=0.24, Accuracy=97.8%\n"
          ]
        },
        {
          "output_type": "stream",
          "name": "stderr",
          "text": [
            "Epoch 62: 100%|██████████| 21/21 [00:00<00:00, 196.53batch/s, acc=0.8, loss=0.519]\n"
          ]
        },
        {
          "output_type": "stream",
          "name": "stdout",
          "text": [
            "Epoch 62 validation: Cross-entropy=0.24, Accuracy=97.8%\n"
          ]
        },
        {
          "output_type": "stream",
          "name": "stderr",
          "text": [
            "Epoch 63: 100%|██████████| 21/21 [00:00<00:00, 232.66batch/s, acc=0.8, loss=0.513]\n"
          ]
        },
        {
          "output_type": "stream",
          "name": "stdout",
          "text": [
            "Epoch 63 validation: Cross-entropy=0.23, Accuracy=97.8%\n"
          ]
        },
        {
          "output_type": "stream",
          "name": "stderr",
          "text": [
            "Epoch 64: 100%|██████████| 21/21 [00:00<00:00, 199.79batch/s, acc=0.8, loss=0.509]\n"
          ]
        },
        {
          "output_type": "stream",
          "name": "stdout",
          "text": [
            "Epoch 64 validation: Cross-entropy=0.23, Accuracy=97.8%\n"
          ]
        },
        {
          "output_type": "stream",
          "name": "stderr",
          "text": [
            "Epoch 65: 100%|██████████| 21/21 [00:00<00:00, 85.39batch/s, acc=0.8, loss=0.504]\n"
          ]
        },
        {
          "output_type": "stream",
          "name": "stdout",
          "text": [
            "Epoch 65 validation: Cross-entropy=0.23, Accuracy=97.8%\n"
          ]
        },
        {
          "output_type": "stream",
          "name": "stderr",
          "text": [
            "Epoch 66: 100%|██████████| 21/21 [00:00<00:00, 225.36batch/s, acc=0.8, loss=0.499]\n"
          ]
        },
        {
          "output_type": "stream",
          "name": "stdout",
          "text": [
            "Epoch 66 validation: Cross-entropy=0.22, Accuracy=97.8%\n"
          ]
        },
        {
          "output_type": "stream",
          "name": "stderr",
          "text": [
            "Epoch 67: 100%|██████████| 21/21 [00:00<00:00, 224.37batch/s, acc=0.8, loss=0.494]\n"
          ]
        },
        {
          "output_type": "stream",
          "name": "stdout",
          "text": [
            "Epoch 67 validation: Cross-entropy=0.22, Accuracy=97.8%\n"
          ]
        },
        {
          "output_type": "stream",
          "name": "stderr",
          "text": [
            "Epoch 68: 100%|██████████| 21/21 [00:00<00:00, 255.48batch/s, acc=0.8, loss=0.489]\n"
          ]
        },
        {
          "output_type": "stream",
          "name": "stdout",
          "text": [
            "Epoch 68 validation: Cross-entropy=0.21, Accuracy=97.8%\n"
          ]
        },
        {
          "output_type": "stream",
          "name": "stderr",
          "text": [
            "Epoch 69: 100%|██████████| 21/21 [00:00<00:00, 259.61batch/s, acc=0.8, loss=0.484]\n"
          ]
        },
        {
          "output_type": "stream",
          "name": "stdout",
          "text": [
            "Epoch 69 validation: Cross-entropy=0.21, Accuracy=97.8%\n"
          ]
        },
        {
          "output_type": "stream",
          "name": "stderr",
          "text": [
            "Epoch 70: 100%|██████████| 21/21 [00:00<00:00, 74.70batch/s, acc=0.8, loss=0.48]\n"
          ]
        },
        {
          "output_type": "stream",
          "name": "stdout",
          "text": [
            "Epoch 70 validation: Cross-entropy=0.21, Accuracy=97.8%\n"
          ]
        },
        {
          "output_type": "stream",
          "name": "stderr",
          "text": [
            "Epoch 71: 100%|██████████| 21/21 [00:00<00:00, 224.21batch/s, acc=0.8, loss=0.475]\n"
          ]
        },
        {
          "output_type": "stream",
          "name": "stdout",
          "text": [
            "Epoch 71 validation: Cross-entropy=0.20, Accuracy=97.8%\n"
          ]
        },
        {
          "output_type": "stream",
          "name": "stderr",
          "text": [
            "Epoch 72: 100%|██████████| 21/21 [00:00<00:00, 219.44batch/s, acc=0.8, loss=0.472]\n"
          ]
        },
        {
          "output_type": "stream",
          "name": "stdout",
          "text": [
            "Epoch 72 validation: Cross-entropy=0.20, Accuracy=97.8%\n"
          ]
        },
        {
          "output_type": "stream",
          "name": "stderr",
          "text": [
            "Epoch 73: 100%|██████████| 21/21 [00:00<00:00, 231.17batch/s, acc=0.8, loss=0.467]\n"
          ]
        },
        {
          "output_type": "stream",
          "name": "stdout",
          "text": [
            "Epoch 73 validation: Cross-entropy=0.20, Accuracy=97.8%\n"
          ]
        },
        {
          "output_type": "stream",
          "name": "stderr",
          "text": [
            "Epoch 74: 100%|██████████| 21/21 [00:00<00:00, 240.58batch/s, acc=0.8, loss=0.463]\n"
          ]
        },
        {
          "output_type": "stream",
          "name": "stdout",
          "text": [
            "Epoch 74 validation: Cross-entropy=0.19, Accuracy=97.8%\n"
          ]
        },
        {
          "output_type": "stream",
          "name": "stderr",
          "text": [
            "Epoch 75: 100%|██████████| 21/21 [00:00<00:00, 222.57batch/s, acc=0.8, loss=0.459]\n"
          ]
        },
        {
          "output_type": "stream",
          "name": "stdout",
          "text": [
            "Epoch 75 validation: Cross-entropy=0.19, Accuracy=97.8%\n"
          ]
        },
        {
          "output_type": "stream",
          "name": "stderr",
          "text": [
            "Epoch 76: 100%|██████████| 21/21 [00:00<00:00, 101.71batch/s, acc=0.8, loss=0.455]\n"
          ]
        },
        {
          "output_type": "stream",
          "name": "stdout",
          "text": [
            "Epoch 76 validation: Cross-entropy=0.19, Accuracy=97.8%\n"
          ]
        },
        {
          "output_type": "stream",
          "name": "stderr",
          "text": [
            "Epoch 77: 100%|██████████| 21/21 [00:00<00:00, 236.62batch/s, acc=0.8, loss=0.451]\n"
          ]
        },
        {
          "output_type": "stream",
          "name": "stdout",
          "text": [
            "Epoch 77 validation: Cross-entropy=0.19, Accuracy=97.8%\n"
          ]
        },
        {
          "output_type": "stream",
          "name": "stderr",
          "text": [
            "Epoch 78: 100%|██████████| 21/21 [00:00<00:00, 245.09batch/s, acc=0.8, loss=0.448]\n"
          ]
        },
        {
          "output_type": "stream",
          "name": "stdout",
          "text": [
            "Epoch 78 validation: Cross-entropy=0.18, Accuracy=97.8%\n"
          ]
        },
        {
          "output_type": "stream",
          "name": "stderr",
          "text": [
            "Epoch 79: 100%|██████████| 21/21 [00:00<00:00, 214.41batch/s, acc=0.8, loss=0.445]\n"
          ]
        },
        {
          "output_type": "stream",
          "name": "stdout",
          "text": [
            "Epoch 79 validation: Cross-entropy=0.18, Accuracy=97.8%\n"
          ]
        },
        {
          "output_type": "stream",
          "name": "stderr",
          "text": [
            "Epoch 80: 100%|██████████| 21/21 [00:00<00:00, 233.35batch/s, acc=0.8, loss=0.441]\n"
          ]
        },
        {
          "output_type": "stream",
          "name": "stdout",
          "text": [
            "Epoch 80 validation: Cross-entropy=0.18, Accuracy=97.8%\n"
          ]
        },
        {
          "output_type": "stream",
          "name": "stderr",
          "text": [
            "Epoch 86: 100%|██████████| 21/21 [00:00<00:00, 90.69batch/s, acc=0.8, loss=0.421]\n"
          ]
        },
        {
          "output_type": "stream",
          "name": "stdout",
          "text": [
            "Epoch 86 validation: Cross-entropy=0.16, Accuracy=97.8%\n"
          ]
        },
        {
          "output_type": "stream",
          "name": "stderr",
          "text": [
            "Epoch 87: 100%|██████████| 21/21 [00:00<00:00, 229.99batch/s, acc=0.8, loss=0.418]\n"
          ]
        },
        {
          "output_type": "stream",
          "name": "stdout",
          "text": [
            "Epoch 87 validation: Cross-entropy=0.16, Accuracy=97.8%\n"
          ]
        },
        {
          "output_type": "stream",
          "name": "stderr",
          "text": [
            "Epoch 88: 100%|██████████| 21/21 [00:00<00:00, 61.97batch/s, acc=0.8, loss=0.415]\n"
          ]
        },
        {
          "output_type": "stream",
          "name": "stdout",
          "text": [
            "Epoch 88 validation: Cross-entropy=0.16, Accuracy=97.8%\n"
          ]
        },
        {
          "output_type": "stream",
          "name": "stderr",
          "text": [
            "Epoch 89: 100%|██████████| 21/21 [00:00<00:00, 152.50batch/s, acc=0.8, loss=0.413]\n"
          ]
        },
        {
          "output_type": "stream",
          "name": "stdout",
          "text": [
            "Epoch 89 validation: Cross-entropy=0.16, Accuracy=97.8%\n"
          ]
        },
        {
          "output_type": "stream",
          "name": "stderr",
          "text": [
            "Epoch 90: 100%|██████████| 21/21 [00:00<00:00, 149.14batch/s, acc=0.8, loss=0.41]\n"
          ]
        },
        {
          "output_type": "stream",
          "name": "stdout",
          "text": [
            "Epoch 90 validation: Cross-entropy=0.15, Accuracy=97.8%\n"
          ]
        },
        {
          "output_type": "stream",
          "name": "stderr",
          "text": [
            "Epoch 91: 100%|██████████| 21/21 [00:00<00:00, 147.31batch/s, acc=0.8, loss=0.407]\n"
          ]
        },
        {
          "output_type": "stream",
          "name": "stdout",
          "text": [
            "Epoch 91 validation: Cross-entropy=0.15, Accuracy=97.8%\n"
          ]
        },
        {
          "output_type": "stream",
          "name": "stderr",
          "text": [
            "Epoch 92: 100%|██████████| 21/21 [00:00<00:00, 153.65batch/s, acc=0.8, loss=0.404]\n"
          ]
        },
        {
          "output_type": "stream",
          "name": "stdout",
          "text": [
            "Epoch 92 validation: Cross-entropy=0.15, Accuracy=97.8%\n"
          ]
        },
        {
          "output_type": "stream",
          "name": "stderr",
          "text": [
            "Epoch 93: 100%|██████████| 21/21 [00:00<00:00, 147.97batch/s, acc=0.8, loss=0.402]\n"
          ]
        },
        {
          "output_type": "stream",
          "name": "stdout",
          "text": [
            "Epoch 93 validation: Cross-entropy=0.15, Accuracy=97.8%\n"
          ]
        },
        {
          "output_type": "stream",
          "name": "stderr",
          "text": [
            "Epoch 94: 100%|██████████| 21/21 [00:00<00:00, 149.15batch/s, acc=0.8, loss=0.399]\n"
          ]
        },
        {
          "output_type": "stream",
          "name": "stdout",
          "text": [
            "Epoch 94 validation: Cross-entropy=0.15, Accuracy=97.8%\n"
          ]
        },
        {
          "output_type": "stream",
          "name": "stderr",
          "text": [
            "Epoch 95: 100%|██████████| 21/21 [00:00<00:00, 137.04batch/s, acc=0.8, loss=0.397]\n"
          ]
        },
        {
          "output_type": "stream",
          "name": "stdout",
          "text": [
            "Epoch 95 validation: Cross-entropy=0.14, Accuracy=97.8%\n"
          ]
        },
        {
          "output_type": "stream",
          "name": "stderr",
          "text": [
            "Epoch 96: 100%|██████████| 21/21 [00:00<00:00, 145.69batch/s, acc=0.8, loss=0.394]\n"
          ]
        },
        {
          "output_type": "stream",
          "name": "stdout",
          "text": [
            "Epoch 96 validation: Cross-entropy=0.14, Accuracy=97.8%\n"
          ]
        },
        {
          "output_type": "stream",
          "name": "stderr",
          "text": [
            "Epoch 111: 100%|██████████| 21/21 [00:00<00:00, 212.67batch/s, acc=0.8, loss=0.363]\n"
          ]
        },
        {
          "output_type": "stream",
          "name": "stdout",
          "text": [
            "Epoch 111 validation: Cross-entropy=0.12, Accuracy=97.8%\n"
          ]
        },
        {
          "output_type": "stream",
          "name": "stderr",
          "text": [
            "Epoch 112: 100%|██████████| 21/21 [00:00<00:00, 234.75batch/s, acc=0.8, loss=0.361]\n"
          ]
        },
        {
          "output_type": "stream",
          "name": "stdout",
          "text": [
            "Epoch 112 validation: Cross-entropy=0.12, Accuracy=97.8%\n"
          ]
        },
        {
          "output_type": "stream",
          "name": "stderr",
          "text": [
            "Epoch 113: 100%|██████████| 21/21 [00:00<00:00, 229.60batch/s, acc=0.8, loss=0.359]\n"
          ]
        },
        {
          "output_type": "stream",
          "name": "stdout",
          "text": [
            "Epoch 113 validation: Cross-entropy=0.12, Accuracy=97.8%\n"
          ]
        },
        {
          "output_type": "stream",
          "name": "stderr",
          "text": [
            "Epoch 114: 100%|██████████| 21/21 [00:00<00:00, 179.74batch/s, acc=0.8, loss=0.358]\n"
          ]
        },
        {
          "output_type": "stream",
          "name": "stdout",
          "text": [
            "Epoch 114 validation: Cross-entropy=0.11, Accuracy=97.8%\n"
          ]
        },
        {
          "output_type": "stream",
          "name": "stderr",
          "text": [
            "Epoch 115: 100%|██████████| 21/21 [00:00<00:00, 199.33batch/s, acc=0.8, loss=0.356]\n"
          ]
        },
        {
          "output_type": "stream",
          "name": "stdout",
          "text": [
            "Epoch 115 validation: Cross-entropy=0.11, Accuracy=97.8%\n"
          ]
        },
        {
          "output_type": "stream",
          "name": "stderr",
          "text": [
            "Epoch 116: 100%|██████████| 21/21 [00:00<00:00, 192.14batch/s, acc=0.8, loss=0.354]\n"
          ]
        },
        {
          "output_type": "stream",
          "name": "stdout",
          "text": [
            "Epoch 116 validation: Cross-entropy=0.11, Accuracy=97.8%\n"
          ]
        },
        {
          "output_type": "stream",
          "name": "stderr",
          "text": [
            "Epoch 117: 100%|██████████| 21/21 [00:00<00:00, 51.22batch/s, acc=0.8, loss=0.353] \n"
          ]
        },
        {
          "output_type": "stream",
          "name": "stdout",
          "text": [
            "Epoch 117 validation: Cross-entropy=0.11, Accuracy=97.8%\n"
          ]
        },
        {
          "output_type": "stream",
          "name": "stderr",
          "text": [
            "Epoch 118: 100%|██████████| 21/21 [00:00<00:00, 210.61batch/s, acc=0.8, loss=0.351]\n"
          ]
        },
        {
          "output_type": "stream",
          "name": "stdout",
          "text": [
            "Epoch 118 validation: Cross-entropy=0.11, Accuracy=97.8%\n"
          ]
        },
        {
          "output_type": "stream",
          "name": "stderr",
          "text": [
            "Epoch 119: 100%|██████████| 21/21 [00:00<00:00, 219.21batch/s, acc=0.8, loss=0.35]\n"
          ]
        },
        {
          "output_type": "stream",
          "name": "stdout",
          "text": [
            "Epoch 119 validation: Cross-entropy=0.11, Accuracy=97.8%\n"
          ]
        },
        {
          "output_type": "stream",
          "name": "stderr",
          "text": [
            "Epoch 120: 100%|██████████| 21/21 [00:00<00:00, 218.90batch/s, acc=0.8, loss=0.348]\n"
          ]
        },
        {
          "output_type": "stream",
          "name": "stdout",
          "text": [
            "Epoch 120 validation: Cross-entropy=0.11, Accuracy=97.8%\n"
          ]
        },
        {
          "output_type": "stream",
          "name": "stderr",
          "text": [
            "Epoch 121: 100%|██████████| 21/21 [00:00<00:00, 203.53batch/s, acc=0.8, loss=0.347]\n"
          ]
        },
        {
          "output_type": "stream",
          "name": "stdout",
          "text": [
            "Epoch 121 validation: Cross-entropy=0.11, Accuracy=97.8%\n"
          ]
        },
        {
          "output_type": "stream",
          "name": "stderr",
          "text": [
            "Epoch 128: 100%|██████████| 21/21 [00:00<00:00, 210.73batch/s, acc=0.8, loss=0.337]\n"
          ]
        },
        {
          "output_type": "stream",
          "name": "stdout",
          "text": [
            "Epoch 128 validation: Cross-entropy=0.10, Accuracy=100.0%\n"
          ]
        },
        {
          "output_type": "stream",
          "name": "stderr",
          "text": [
            "Epoch 129: 100%|██████████| 21/21 [00:00<00:00, 228.39batch/s, acc=0.8, loss=0.336]\n"
          ]
        },
        {
          "output_type": "stream",
          "name": "stdout",
          "text": [
            "Epoch 129 validation: Cross-entropy=0.10, Accuracy=100.0%\n"
          ]
        },
        {
          "output_type": "stream",
          "name": "stderr",
          "text": [
            "Epoch 130: 100%|██████████| 21/21 [00:00<00:00, 102.64batch/s, acc=0.8, loss=0.335]\n"
          ]
        },
        {
          "output_type": "stream",
          "name": "stdout",
          "text": [
            "Epoch 130 validation: Cross-entropy=0.10, Accuracy=100.0%\n"
          ]
        },
        {
          "output_type": "stream",
          "name": "stderr",
          "text": [
            "Epoch 131: 100%|██████████| 21/21 [00:00<00:00, 236.26batch/s, acc=0.8, loss=0.333]\n"
          ]
        },
        {
          "output_type": "stream",
          "name": "stdout",
          "text": [
            "Epoch 131 validation: Cross-entropy=0.10, Accuracy=100.0%\n"
          ]
        },
        {
          "output_type": "stream",
          "name": "stderr",
          "text": [
            "Epoch 132: 100%|██████████| 21/21 [00:00<00:00, 204.69batch/s, acc=0.8, loss=0.332]\n"
          ]
        },
        {
          "output_type": "stream",
          "name": "stdout",
          "text": [
            "Epoch 132 validation: Cross-entropy=0.10, Accuracy=100.0%\n"
          ]
        },
        {
          "output_type": "stream",
          "name": "stderr",
          "text": [
            "Epoch 133: 100%|██████████| 21/21 [00:00<00:00, 225.40batch/s, acc=0.8, loss=0.331]\n"
          ]
        },
        {
          "output_type": "stream",
          "name": "stdout",
          "text": [
            "Epoch 133 validation: Cross-entropy=0.10, Accuracy=100.0%\n"
          ]
        },
        {
          "output_type": "stream",
          "name": "stderr",
          "text": [
            "Epoch 134: 100%|██████████| 21/21 [00:00<00:00, 233.55batch/s, acc=0.8, loss=0.33]\n"
          ]
        },
        {
          "output_type": "stream",
          "name": "stdout",
          "text": [
            "Epoch 134 validation: Cross-entropy=0.09, Accuracy=100.0%\n"
          ]
        },
        {
          "output_type": "stream",
          "name": "stderr",
          "text": [
            "Epoch 135: 100%|██████████| 21/21 [00:00<00:00, 234.75batch/s, acc=0.8, loss=0.329]\n"
          ]
        },
        {
          "output_type": "stream",
          "name": "stdout",
          "text": [
            "Epoch 135 validation: Cross-entropy=0.09, Accuracy=100.0%\n"
          ]
        },
        {
          "output_type": "stream",
          "name": "stderr",
          "text": [
            "Epoch 136: 100%|██████████| 21/21 [00:00<00:00, 222.92batch/s, acc=0.8, loss=0.328]\n"
          ]
        },
        {
          "output_type": "stream",
          "name": "stdout",
          "text": [
            "Epoch 136 validation: Cross-entropy=0.09, Accuracy=100.0%\n"
          ]
        },
        {
          "output_type": "stream",
          "name": "stderr",
          "text": [
            "Epoch 137: 100%|██████████| 21/21 [00:00<00:00, 230.29batch/s, acc=0.8, loss=0.327]\n"
          ]
        },
        {
          "output_type": "stream",
          "name": "stdout",
          "text": [
            "Epoch 137 validation: Cross-entropy=0.09, Accuracy=100.0%\n"
          ]
        },
        {
          "output_type": "stream",
          "name": "stderr",
          "text": [
            "Epoch 146: 100%|██████████| 21/21 [00:00<00:00, 98.72batch/s, acc=0.8, loss=0.318]\n"
          ]
        },
        {
          "output_type": "stream",
          "name": "stdout",
          "text": [
            "Epoch 146 validation: Cross-entropy=0.09, Accuracy=100.0%\n"
          ]
        },
        {
          "output_type": "stream",
          "name": "stderr",
          "text": [
            "Epoch 147: 100%|██████████| 21/21 [00:00<00:00, 84.74batch/s, acc=0.8, loss=0.317] \n"
          ]
        },
        {
          "output_type": "stream",
          "name": "stdout",
          "text": [
            "Epoch 147 validation: Cross-entropy=0.09, Accuracy=100.0%\n"
          ]
        },
        {
          "output_type": "stream",
          "name": "stderr",
          "text": [
            "Epoch 148: 100%|██████████| 21/21 [00:00<00:00, 211.10batch/s, acc=0.8, loss=0.316]\n"
          ]
        },
        {
          "output_type": "stream",
          "name": "stdout",
          "text": [
            "Epoch 148 validation: Cross-entropy=0.08, Accuracy=100.0%\n"
          ]
        },
        {
          "output_type": "stream",
          "name": "stderr",
          "text": [
            "Epoch 149: 100%|██████████| 21/21 [00:00<00:00, 70.54batch/s, acc=0.8, loss=0.315] \n"
          ]
        },
        {
          "output_type": "stream",
          "name": "stdout",
          "text": [
            "Epoch 149 validation: Cross-entropy=0.08, Accuracy=100.0%\n"
          ]
        },
        {
          "output_type": "stream",
          "name": "stderr",
          "text": [
            "Epoch 150: 100%|██████████| 21/21 [00:00<00:00, 161.77batch/s, acc=0.8, loss=0.314]\n"
          ]
        },
        {
          "output_type": "stream",
          "name": "stdout",
          "text": [
            "Epoch 150 validation: Cross-entropy=0.08, Accuracy=100.0%\n"
          ]
        },
        {
          "output_type": "stream",
          "name": "stderr",
          "text": [
            "Epoch 151: 100%|██████████| 21/21 [00:00<00:00, 151.31batch/s, acc=0.8, loss=0.313]\n"
          ]
        },
        {
          "output_type": "stream",
          "name": "stdout",
          "text": [
            "Epoch 151 validation: Cross-entropy=0.08, Accuracy=100.0%\n"
          ]
        },
        {
          "output_type": "stream",
          "name": "stderr",
          "text": [
            "Epoch 152: 100%|██████████| 21/21 [00:00<00:00, 149.90batch/s, acc=0.8, loss=0.312]\n"
          ]
        },
        {
          "output_type": "stream",
          "name": "stdout",
          "text": [
            "Epoch 152 validation: Cross-entropy=0.08, Accuracy=100.0%\n"
          ]
        },
        {
          "output_type": "stream",
          "name": "stderr",
          "text": [
            "Epoch 153: 100%|██████████| 21/21 [00:00<00:00, 149.31batch/s, acc=0.8, loss=0.312]\n"
          ]
        },
        {
          "output_type": "stream",
          "name": "stdout",
          "text": [
            "Epoch 153 validation: Cross-entropy=0.08, Accuracy=100.0%\n"
          ]
        },
        {
          "output_type": "stream",
          "name": "stderr",
          "text": [
            "Epoch 154: 100%|██████████| 21/21 [00:00<00:00, 158.82batch/s, acc=0.8, loss=0.31]\n"
          ]
        },
        {
          "output_type": "stream",
          "name": "stdout",
          "text": [
            "Epoch 154 validation: Cross-entropy=0.08, Accuracy=100.0%\n"
          ]
        },
        {
          "output_type": "stream",
          "name": "stderr",
          "text": [
            "Epoch 155: 100%|██████████| 21/21 [00:00<00:00, 206.05batch/s, acc=0.8, loss=0.31]\n"
          ]
        },
        {
          "output_type": "stream",
          "name": "stdout",
          "text": [
            "Epoch 155 validation: Cross-entropy=0.08, Accuracy=100.0%\n"
          ]
        },
        {
          "output_type": "stream",
          "name": "stderr",
          "text": [
            "Epoch 156: 100%|██████████| 21/21 [00:00<00:00, 97.00batch/s, acc=0.8, loss=0.309] \n"
          ]
        },
        {
          "output_type": "stream",
          "name": "stdout",
          "text": [
            "Epoch 156 validation: Cross-entropy=0.08, Accuracy=100.0%\n"
          ]
        },
        {
          "output_type": "stream",
          "name": "stderr",
          "text": [
            "Epoch 163: 100%|██████████| 21/21 [00:00<00:00, 124.96batch/s, acc=0.8, loss=0.304]\n"
          ]
        },
        {
          "output_type": "stream",
          "name": "stdout",
          "text": [
            "Epoch 163 validation: Cross-entropy=0.08, Accuracy=100.0%\n"
          ]
        },
        {
          "output_type": "stream",
          "name": "stderr",
          "text": [
            "Epoch 164: 100%|██████████| 21/21 [00:00<00:00, 148.24batch/s, acc=0.8, loss=0.303]\n"
          ]
        },
        {
          "output_type": "stream",
          "name": "stdout",
          "text": [
            "Epoch 164 validation: Cross-entropy=0.08, Accuracy=100.0%\n"
          ]
        },
        {
          "output_type": "stream",
          "name": "stderr",
          "text": [
            "Epoch 165: 100%|██████████| 21/21 [00:00<00:00, 153.49batch/s, acc=0.8, loss=0.302]\n"
          ]
        },
        {
          "output_type": "stream",
          "name": "stdout",
          "text": [
            "Epoch 165 validation: Cross-entropy=0.07, Accuracy=100.0%\n"
          ]
        },
        {
          "output_type": "stream",
          "name": "stderr",
          "text": [
            "Epoch 166: 100%|██████████| 21/21 [00:00<00:00, 136.40batch/s, acc=0.8, loss=0.301]\n"
          ]
        },
        {
          "output_type": "stream",
          "name": "stdout",
          "text": [
            "Epoch 166 validation: Cross-entropy=0.07, Accuracy=100.0%\n"
          ]
        },
        {
          "output_type": "stream",
          "name": "stderr",
          "text": [
            "Epoch 167: 100%|██████████| 21/21 [00:00<00:00, 145.66batch/s, acc=0.8, loss=0.301]\n"
          ]
        },
        {
          "output_type": "stream",
          "name": "stdout",
          "text": [
            "Epoch 167 validation: Cross-entropy=0.07, Accuracy=100.0%\n"
          ]
        },
        {
          "output_type": "stream",
          "name": "stderr",
          "text": [
            "Epoch 168: 100%|██████████| 21/21 [00:00<00:00, 195.98batch/s, acc=0.8, loss=0.3]\n"
          ]
        },
        {
          "output_type": "stream",
          "name": "stdout",
          "text": [
            "Epoch 168 validation: Cross-entropy=0.07, Accuracy=100.0%\n"
          ]
        },
        {
          "output_type": "stream",
          "name": "stderr",
          "text": [
            "Epoch 169: 100%|██████████| 21/21 [00:00<00:00, 228.89batch/s, acc=0.8, loss=0.3]\n"
          ]
        },
        {
          "output_type": "stream",
          "name": "stdout",
          "text": [
            "Epoch 169 validation: Cross-entropy=0.07, Accuracy=100.0%\n"
          ]
        },
        {
          "output_type": "stream",
          "name": "stderr",
          "text": [
            "Epoch 170: 100%|██████████| 21/21 [00:00<00:00, 220.20batch/s, acc=0.8, loss=0.299]\n"
          ]
        },
        {
          "output_type": "stream",
          "name": "stdout",
          "text": [
            "Epoch 170 validation: Cross-entropy=0.07, Accuracy=100.0%\n"
          ]
        },
        {
          "output_type": "stream",
          "name": "stderr",
          "text": [
            "Epoch 171: 100%|██████████| 21/21 [00:00<00:00, 210.56batch/s, acc=0.8, loss=0.298]\n"
          ]
        },
        {
          "output_type": "stream",
          "name": "stdout",
          "text": [
            "Epoch 171 validation: Cross-entropy=0.07, Accuracy=100.0%\n"
          ]
        },
        {
          "output_type": "stream",
          "name": "stderr",
          "text": [
            "Epoch 172: 100%|██████████| 21/21 [00:00<00:00, 209.39batch/s, acc=0.8, loss=0.298]\n"
          ]
        },
        {
          "output_type": "stream",
          "name": "stdout",
          "text": [
            "Epoch 172 validation: Cross-entropy=0.07, Accuracy=100.0%\n"
          ]
        },
        {
          "output_type": "stream",
          "name": "stderr",
          "text": [
            "Epoch 173: 100%|██████████| 21/21 [00:00<00:00, 76.88batch/s, acc=0.8, loss=0.297]\n",
            "Epoch 192: 100%|██████████| 21/21 [00:00<00:00, 102.85batch/s, acc=0.8, loss=0.287]\n"
          ]
        },
        {
          "output_type": "stream",
          "name": "stdout",
          "text": [
            "Epoch 192 validation: Cross-entropy=0.06, Accuracy=100.0%\n"
          ]
        },
        {
          "output_type": "stream",
          "name": "stderr",
          "text": [
            "Epoch 193: 100%|██████████| 21/21 [00:00<00:00, 140.05batch/s, acc=0.8, loss=0.286]\n"
          ]
        },
        {
          "output_type": "stream",
          "name": "stdout",
          "text": [
            "Epoch 193 validation: Cross-entropy=0.06, Accuracy=100.0%\n"
          ]
        },
        {
          "output_type": "stream",
          "name": "stderr",
          "text": [
            "Epoch 194: 100%|██████████| 21/21 [00:00<00:00, 154.12batch/s, acc=0.8, loss=0.285]\n"
          ]
        },
        {
          "output_type": "stream",
          "name": "stdout",
          "text": [
            "Epoch 194 validation: Cross-entropy=0.06, Accuracy=100.0%\n"
          ]
        },
        {
          "output_type": "stream",
          "name": "stderr",
          "text": [
            "Epoch 195: 100%|██████████| 21/21 [00:00<00:00, 205.49batch/s, acc=0.8, loss=0.285]\n"
          ]
        },
        {
          "output_type": "stream",
          "name": "stdout",
          "text": [
            "Epoch 195 validation: Cross-entropy=0.06, Accuracy=100.0%\n"
          ]
        },
        {
          "output_type": "stream",
          "name": "stderr",
          "text": [
            "Epoch 196: 100%|██████████| 21/21 [00:00<00:00, 166.79batch/s, acc=0.8, loss=0.285]\n"
          ]
        },
        {
          "output_type": "stream",
          "name": "stdout",
          "text": [
            "Epoch 196 validation: Cross-entropy=0.06, Accuracy=100.0%\n"
          ]
        },
        {
          "output_type": "stream",
          "name": "stderr",
          "text": [
            "Epoch 197: 100%|██████████| 21/21 [00:00<00:00, 83.34batch/s, acc=0.8, loss=0.284] \n"
          ]
        },
        {
          "output_type": "stream",
          "name": "stdout",
          "text": [
            "Epoch 197 validation: Cross-entropy=0.06, Accuracy=100.0%\n"
          ]
        },
        {
          "output_type": "stream",
          "name": "stderr",
          "text": [
            "Epoch 198: 100%|██████████| 21/21 [00:00<00:00, 48.12batch/s, acc=0.8, loss=0.284] \n"
          ]
        },
        {
          "output_type": "stream",
          "name": "stdout",
          "text": [
            "Epoch 198 validation: Cross-entropy=0.06, Accuracy=100.0%\n"
          ]
        },
        {
          "output_type": "stream",
          "name": "stderr",
          "text": [
            "Epoch 199: 100%|██████████| 21/21 [00:00<00:00, 146.24batch/s, acc=0.8, loss=0.283]\n"
          ]
        },
        {
          "output_type": "stream",
          "name": "stdout",
          "text": [
            "Epoch 199 validation: Cross-entropy=0.06, Accuracy=100.0%\n"
          ]
        },
        {
          "output_type": "display_data",
          "data": {
            "text/plain": [
              "<Figure size 640x480 with 1 Axes>"
            ],
            "image/png": "[encoded data removed]"
          },
          "metadata": {}
        },
        {
          "output_type": "display_data",
          "data": {
            "text/plain": [
              "<Figure size 640x480 with 1 Axes>"
            ],
            "image/png": "[encoded data removed]"
          },
          "metadata": {}
        }
      ]
    },
    {
      "cell_type": "markdown",
      "source": [
        "## Quadric Layers\n",
        "We classify the IRIS dataset now with a hybrid model consisting of a 3-unit quadric hidden layer and a 3-unit linear output layer and achieve similar accuracy."
      ],
      "metadata": {
        "id": "QxifrPS6hp1N"
      }
    },
    {
      "cell_type": "code",
      "source": [
        "class Multiclass(nn.Module):\n",
        "    def __init__(self):\n",
        "        super().__init__()\n",
        "        self.hidden = Quadric(4, 3)\n",
        "        self.act = nn.ReLU()\n",
        "        self.output = nn.Linear(3, 3)\n",
        "\n",
        "    def forward(self, x):\n",
        "        x = self.hidden(x)\n",
        "        x = self.act(x)\n",
        "        x = self.output(x)\n",
        "        return x\n",
        "\n",
        "# loss metric and optimizer\n",
        "model = Multiclass()\n",
        "loss_fn = nn.CrossEntropyLoss()\n",
        "optimizer = optim.Adam(model.parameters(), lr=0.001)\n",
        "\n",
        "# prepare model and training parameters\n",
        "n_epochs = 200\n",
        "batch_size = 5\n",
        "batches_per_epoch = len(X_train) // batch_size\n",
        "\n",
        "best_acc = - np.inf   # init to negative infinity\n",
        "best_weights = None\n",
        "train_loss_hist = []\n",
        "train_acc_hist = []\n",
        "test_loss_hist = []\n",
        "test_acc_hist = []\n",
        "\n",
        "# training loop\n",
        "for epoch in range(n_epochs):\n",
        "    epoch_loss = []\n",
        "    epoch_acc = []\n",
        "    # set model in training mode and run through each batch\n",
        "    model.train()\n",
        "    with tqdm.trange(batches_per_epoch, unit=\"batch\", mininterval=0) as bar:\n",
        "        bar.set_description(f\"Epoch {epoch}\")\n",
        "        for i in bar:\n",
        "            # take a batch\n",
        "            start = i * batch_size\n",
        "            X_batch = X_train[start:start+batch_size]\n",
        "            y_batch = y_train[start:start+batch_size]\n",
        "            # forward pass\n",
        "            y_pred = model(X_batch)\n",
        "            loss = loss_fn(y_pred, y_batch)\n",
        "            # backward pass\n",
        "            optimizer.zero_grad()\n",
        "            loss.backward()\n",
        "            # update weights\n",
        "            optimizer.step()\n",
        "            # compute and store metrics\n",
        "            acc = (torch.argmax(y_pred, 1) == torch.argmax(y_batch, 1)).float().mean()\n",
        "            epoch_loss.append(float(loss))\n",
        "            epoch_acc.append(float(acc))\n",
        "            bar.set_postfix(\n",
        "                loss=float(loss),\n",
        "                acc=float(acc)\n",
        "            )\n",
        "    # set model in evaluation mode and run through the test set\n",
        "    model.eval()\n",
        "    y_pred = model(X_test)\n",
        "    ce = loss_fn(y_pred, y_test)\n",
        "    acc = (torch.argmax(y_pred, 1) == torch.argmax(y_test, 1)).float().mean()\n",
        "    ce = float(ce)\n",
        "    acc = float(acc)\n",
        "    train_loss_hist.append(np.mean(epoch_loss))\n",
        "    train_acc_hist.append(np.mean(epoch_acc))\n",
        "    test_loss_hist.append(ce)\n",
        "    test_acc_hist.append(acc)\n",
        "    if acc > best_acc:\n",
        "        best_acc = acc\n",
        "        best_weights = copy.deepcopy(model.state_dict())\n",
        "    print(f\"Epoch {epoch} validation: Cross-entropy={ce:.2f}, Accuracy={acc*100:.1f}%\")\n",
        "\n",
        "# Restore best model\n",
        "model.load_state_dict(best_weights)\n",
        "\n",
        "# Plot the loss and accuracy\n",
        "plt.plot(train_loss_hist, label=\"train\")\n",
        "plt.plot(test_loss_hist, label=\"test\")\n",
        "plt.xlabel(\"epochs\")\n",
        "plt.ylabel(\"cross entropy\")\n",
        "plt.legend()\n",
        "plt.show()\n",
        "\n",
        "plt.plot(train_acc_hist, label=\"train\")\n",
        "plt.plot(test_acc_hist, label=\"test\")\n",
        "plt.xlabel(\"epochs\")\n",
        "plt.ylabel(\"accuracy\")\n",
        "plt.legend()\n",
        "plt.show()"
      ],
      "metadata": {
        "colab": {
          "base_uri": "https://localhost:8080/",
          "height": 1000
        },
        "id": "K5EU9glXh3ui",
        "outputId": "d929c411-c89a-4d1e-8a76-2d002634b933"
      },
      "execution_count": 16,
      "outputs": [
        {
          "output_type": "stream",
          "name": "stderr",
          "text": [
            "Epoch 0: 100%|██████████| 21/21 [00:00<00:00, 153.36batch/s, acc=0, loss=2.01]\n"
          ]
        },
        {
          "output_type": "stream",
          "name": "stdout",
          "text": [
            "Epoch 0 validation: Cross-entropy=1.26, Accuracy=37.8%\n"
          ]
        },
        {
          "output_type": "stream",
          "name": "stderr",
          "text": [
            "Epoch 1: 100%|██████████| 21/21 [00:00<00:00, 149.13batch/s, acc=0.2, loss=1.86]\n"
          ]
        },
        {
          "output_type": "stream",
          "name": "stdout",
          "text": [
            "Epoch 1 validation: Cross-entropy=1.16, Accuracy=60.0%\n"
          ]
        },
        {
          "output_type": "stream",
          "name": "stderr",
          "text": [
            "Epoch 2: 100%|██████████| 21/21 [00:00<00:00, 135.23batch/s, acc=0.2, loss=1.78]\n"
          ]
        },
        {
          "output_type": "stream",
          "name": "stdout",
          "text": [
            "Epoch 2 validation: Cross-entropy=1.11, Accuracy=66.7%\n"
          ]
        },
        {
          "output_type": "stream",
          "name": "stderr",
          "text": [
            "Epoch 3: 100%|██████████| 21/21 [00:00<00:00, 140.11batch/s, acc=0.2, loss=1.71]\n"
          ]
        },
        {
          "output_type": "stream",
          "name": "stdout",
          "text": [
            "Epoch 3 validation: Cross-entropy=1.08, Accuracy=66.7%\n"
          ]
        },
        {
          "output_type": "stream",
          "name": "stderr",
          "text": [
            "Epoch 4: 100%|██████████| 21/21 [00:00<00:00, 144.17batch/s, acc=0.2, loss=1.64]\n"
          ]
        },
        {
          "output_type": "stream",
          "name": "stdout",
          "text": [
            "Epoch 4 validation: Cross-entropy=1.06, Accuracy=66.7%\n"
          ]
        },
        {
          "output_type": "stream",
          "name": "stderr",
          "text": [
            "Epoch 5: 100%|██████████| 21/21 [00:00<00:00, 133.23batch/s, acc=0.2, loss=1.59]\n"
          ]
        },
        {
          "output_type": "stream",
          "name": "stdout",
          "text": [
            "Epoch 5 validation: Cross-entropy=1.03, Accuracy=66.7%\n"
          ]
        },
        {
          "output_type": "stream",
          "name": "stderr",
          "text": [
            "Epoch 6: 100%|██████████| 21/21 [00:00<00:00, 136.69batch/s, acc=0.2, loss=1.54]\n"
          ]
        },
        {
          "output_type": "stream",
          "name": "stdout",
          "text": [
            "Epoch 6 validation: Cross-entropy=1.01, Accuracy=66.7%\n"
          ]
        },
        {
          "output_type": "stream",
          "name": "stderr",
          "text": [
            "Epoch 7: 100%|██████████| 21/21 [00:00<00:00, 144.91batch/s, acc=0.2, loss=1.51]\n"
          ]
        },
        {
          "output_type": "stream",
          "name": "stdout",
          "text": [
            "Epoch 7 validation: Cross-entropy=1.00, Accuracy=66.7%\n"
          ]
        },
        {
          "output_type": "stream",
          "name": "stderr",
          "text": [
            "Epoch 8: 100%|██████████| 21/21 [00:00<00:00, 139.85batch/s, acc=0.2, loss=1.48]\n"
          ]
        },
        {
          "output_type": "stream",
          "name": "stdout",
          "text": [
            "Epoch 8 validation: Cross-entropy=0.98, Accuracy=66.7%\n"
          ]
        },
        {
          "output_type": "stream",
          "name": "stderr",
          "text": [
            "Epoch 9: 100%|██████████| 21/21 [00:00<00:00, 147.58batch/s, acc=0.2, loss=1.45]\n"
          ]
        },
        {
          "output_type": "stream",
          "name": "stdout",
          "text": [
            "Epoch 9 validation: Cross-entropy=0.96, Accuracy=66.7%\n"
          ]
        },
        {
          "output_type": "stream",
          "name": "stderr",
          "text": [
            "Epoch 10: 100%|██████████| 21/21 [00:00<00:00, 154.73batch/s, acc=0.2, loss=1.43]\n"
          ]
        },
        {
          "output_type": "stream",
          "name": "stdout",
          "text": [
            "Epoch 10 validation: Cross-entropy=0.94, Accuracy=66.7%\n"
          ]
        },
        {
          "output_type": "stream",
          "name": "stderr",
          "text": [
            "Epoch 11: 100%|██████████| 21/21 [00:00<00:00, 140.03batch/s, acc=0.2, loss=1.4]\n"
          ]
        },
        {
          "output_type": "stream",
          "name": "stdout",
          "text": [
            "Epoch 11 validation: Cross-entropy=0.92, Accuracy=66.7%\n"
          ]
        },
        {
          "output_type": "stream",
          "name": "stderr",
          "text": [
            "Epoch 12: 100%|██████████| 21/21 [00:00<00:00, 148.96batch/s, acc=0.2, loss=1.38]\n"
          ]
        },
        {
          "output_type": "stream",
          "name": "stdout",
          "text": [
            "Epoch 12 validation: Cross-entropy=0.90, Accuracy=66.7%\n"
          ]
        },
        {
          "output_type": "stream",
          "name": "stderr",
          "text": [
            "Epoch 13: 100%|██████████| 21/21 [00:00<00:00, 211.02batch/s, acc=0.2, loss=1.36]\n"
          ]
        },
        {
          "output_type": "stream",
          "name": "stdout",
          "text": [
            "Epoch 13 validation: Cross-entropy=0.88, Accuracy=66.7%\n"
          ]
        },
        {
          "output_type": "stream",
          "name": "stderr",
          "text": [
            "Epoch 14: 100%|██████████| 21/21 [00:00<00:00, 188.95batch/s, acc=0.2, loss=1.33]\n"
          ]
        },
        {
          "output_type": "stream",
          "name": "stdout",
          "text": [
            "Epoch 14 validation: Cross-entropy=0.85, Accuracy=66.7%\n"
          ]
        },
        {
          "output_type": "stream",
          "name": "stderr",
          "text": [
            "Epoch 15: 100%|██████████| 21/21 [00:00<00:00, 86.09batch/s, acc=0.2, loss=1.31]\n"
          ]
        },
        {
          "output_type": "stream",
          "name": "stdout",
          "text": [
            "Epoch 15 validation: Cross-entropy=0.83, Accuracy=66.7%\n"
          ]
        },
        {
          "output_type": "stream",
          "name": "stderr",
          "text": [
            "Epoch 16: 100%|██████████| 21/21 [00:00<00:00, 139.85batch/s, acc=0.2, loss=1.28]\n"
          ]
        },
        {
          "output_type": "stream",
          "name": "stdout",
          "text": [
            "Epoch 16 validation: Cross-entropy=0.81, Accuracy=66.7%\n"
          ]
        },
        {
          "output_type": "stream",
          "name": "stderr",
          "text": [
            "Epoch 17: 100%|██████████| 21/21 [00:00<00:00, 139.94batch/s, acc=0.2, loss=1.25]\n"
          ]
        },
        {
          "output_type": "stream",
          "name": "stdout",
          "text": [
            "Epoch 17 validation: Cross-entropy=0.78, Accuracy=66.7%\n"
          ]
        },
        {
          "output_type": "stream",
          "name": "stderr",
          "text": [
            "Epoch 18: 100%|██████████| 21/21 [00:00<00:00, 143.66batch/s, acc=0.2, loss=1.22]\n"
          ]
        },
        {
          "output_type": "stream",
          "name": "stdout",
          "text": [
            "Epoch 18 validation: Cross-entropy=0.76, Accuracy=66.7%\n"
          ]
        },
        {
          "output_type": "stream",
          "name": "stderr",
          "text": [
            "Epoch 19: 100%|██████████| 21/21 [00:00<00:00, 135.77batch/s, acc=0.2, loss=1.19]\n"
          ]
        },
        {
          "output_type": "stream",
          "name": "stdout",
          "text": [
            "Epoch 19 validation: Cross-entropy=0.74, Accuracy=66.7%\n"
          ]
        },
        {
          "output_type": "stream",
          "name": "stderr",
          "text": [
            "Epoch 20: 100%|██████████| 21/21 [00:00<00:00, 136.43batch/s, acc=0.2, loss=1.16]\n"
          ]
        },
        {
          "output_type": "stream",
          "name": "stdout",
          "text": [
            "Epoch 20 validation: Cross-entropy=0.72, Accuracy=66.7%\n"
          ]
        },
        {
          "output_type": "stream",
          "name": "stderr",
          "text": [
            "Epoch 21: 100%|██████████| 21/21 [00:00<00:00, 132.04batch/s, acc=0.2, loss=1.13]\n"
          ]
        },
        {
          "output_type": "stream",
          "name": "stdout",
          "text": [
            "Epoch 21 validation: Cross-entropy=0.69, Accuracy=66.7%\n"
          ]
        },
        {
          "output_type": "stream",
          "name": "stderr",
          "text": [
            "Epoch 22: 100%|██████████| 21/21 [00:00<00:00, 125.79batch/s, acc=0.2, loss=1.1]\n"
          ]
        },
        {
          "output_type": "stream",
          "name": "stdout",
          "text": [
            "Epoch 22 validation: Cross-entropy=0.67, Accuracy=66.7%\n"
          ]
        },
        {
          "output_type": "stream",
          "name": "stderr",
          "text": [
            "Epoch 23: 100%|██████████| 21/21 [00:00<00:00, 136.76batch/s, acc=0.2, loss=1.07]\n"
          ]
        },
        {
          "output_type": "stream",
          "name": "stdout",
          "text": [
            "Epoch 23 validation: Cross-entropy=0.65, Accuracy=66.7%\n"
          ]
        },
        {
          "output_type": "stream",
          "name": "stderr",
          "text": [
            "Epoch 24: 100%|██████████| 21/21 [00:00<00:00, 137.97batch/s, acc=0.2, loss=1.04]\n"
          ]
        },
        {
          "output_type": "stream",
          "name": "stdout",
          "text": [
            "Epoch 24 validation: Cross-entropy=0.63, Accuracy=66.7%\n"
          ]
        },
        {
          "output_type": "stream",
          "name": "stderr",
          "text": [
            "Epoch 25: 100%|██████████| 21/21 [00:00<00:00, 141.84batch/s, acc=0.2, loss=1.01]\n"
          ]
        },
        {
          "output_type": "stream",
          "name": "stdout",
          "text": [
            "Epoch 25 validation: Cross-entropy=0.61, Accuracy=66.7%\n"
          ]
        },
        {
          "output_type": "stream",
          "name": "stderr",
          "text": [
            "Epoch 26: 100%|██████████| 21/21 [00:00<00:00, 147.24batch/s, acc=0.2, loss=0.985]\n"
          ]
        },
        {
          "output_type": "stream",
          "name": "stdout",
          "text": [
            "Epoch 26 validation: Cross-entropy=0.60, Accuracy=66.7%\n"
          ]
        },
        {
          "output_type": "stream",
          "name": "stderr",
          "text": [
            "Epoch 27: 100%|██████████| 21/21 [00:00<00:00, 156.63batch/s, acc=0.2, loss=0.96]\n"
          ]
        },
        {
          "output_type": "stream",
          "name": "stdout",
          "text": [
            "Epoch 27 validation: Cross-entropy=0.58, Accuracy=66.7%\n"
          ]
        },
        {
          "output_type": "stream",
          "name": "stderr",
          "text": [
            "Epoch 28: 100%|██████████| 21/21 [00:00<00:00, 167.43batch/s, acc=0.2, loss=0.938]\n"
          ]
        },
        {
          "output_type": "stream",
          "name": "stdout",
          "text": [
            "Epoch 28 validation: Cross-entropy=0.56, Accuracy=66.7%\n"
          ]
        },
        {
          "output_type": "stream",
          "name": "stderr",
          "text": [
            "Epoch 29: 100%|██████████| 21/21 [00:00<00:00, 90.61batch/s, acc=0.2, loss=0.916] \n"
          ]
        },
        {
          "output_type": "stream",
          "name": "stdout",
          "text": [
            "Epoch 29 validation: Cross-entropy=0.55, Accuracy=66.7%\n"
          ]
        },
        {
          "output_type": "stream",
          "name": "stderr",
          "text": [
            "Epoch 30: 100%|██████████| 21/21 [00:00<00:00, 207.42batch/s, acc=0.2, loss=0.896]\n"
          ]
        },
        {
          "output_type": "stream",
          "name": "stdout",
          "text": [
            "Epoch 30 validation: Cross-entropy=0.53, Accuracy=66.7%\n"
          ]
        },
        {
          "output_type": "stream",
          "name": "stderr",
          "text": [
            "Epoch 31: 100%|██████████| 21/21 [00:00<00:00, 90.67batch/s, acc=0.2, loss=0.878]\n"
          ]
        },
        {
          "output_type": "stream",
          "name": "stdout",
          "text": [
            "Epoch 31 validation: Cross-entropy=0.52, Accuracy=66.7%\n"
          ]
        },
        {
          "output_type": "stream",
          "name": "stderr",
          "text": [
            "Epoch 32: 100%|██████████| 21/21 [00:00<00:00, 154.03batch/s, acc=0.2, loss=0.861]\n"
          ]
        },
        {
          "output_type": "stream",
          "name": "stdout",
          "text": [
            "Epoch 32 validation: Cross-entropy=0.51, Accuracy=66.7%\n"
          ]
        },
        {
          "output_type": "stream",
          "name": "stderr",
          "text": [
            "Epoch 33: 100%|██████████| 21/21 [00:00<00:00, 190.54batch/s, acc=0.2, loss=0.845]\n"
          ]
        },
        {
          "output_type": "stream",
          "name": "stdout",
          "text": [
            "Epoch 33 validation: Cross-entropy=0.49, Accuracy=68.9%\n"
          ]
        },
        {
          "output_type": "stream",
          "name": "stderr",
          "text": [
            "Epoch 34: 100%|██████████| 21/21 [00:00<00:00, 179.03batch/s, acc=0.2, loss=0.829]\n"
          ]
        },
        {
          "output_type": "stream",
          "name": "stdout",
          "text": [
            "Epoch 34 validation: Cross-entropy=0.48, Accuracy=68.9%\n"
          ]
        },
        {
          "output_type": "stream",
          "name": "stderr",
          "text": [
            "Epoch 35: 100%|██████████| 21/21 [00:00<00:00, 157.12batch/s, acc=0.2, loss=0.816]\n"
          ]
        },
        {
          "output_type": "stream",
          "name": "stdout",
          "text": [
            "Epoch 35 validation: Cross-entropy=0.47, Accuracy=75.6%\n"
          ]
        },
        {
          "output_type": "stream",
          "name": "stderr",
          "text": [
            "Epoch 36: 100%|██████████| 21/21 [00:00<00:00, 181.58batch/s, acc=0.2, loss=0.803]\n"
          ]
        },
        {
          "output_type": "stream",
          "name": "stdout",
          "text": [
            "Epoch 36 validation: Cross-entropy=0.46, Accuracy=77.8%\n"
          ]
        },
        {
          "output_type": "stream",
          "name": "stderr",
          "text": [
            "Epoch 37: 100%|██████████| 21/21 [00:00<00:00, 99.07batch/s, acc=0.4, loss=0.791] \n"
          ]
        },
        {
          "output_type": "stream",
          "name": "stdout",
          "text": [
            "Epoch 37 validation: Cross-entropy=0.45, Accuracy=84.4%\n"
          ]
        },
        {
          "output_type": "stream",
          "name": "stderr",
          "text": [
            "Epoch 38: 100%|██████████| 21/21 [00:00<00:00, 178.91batch/s, acc=0.4, loss=0.78]\n"
          ]
        },
        {
          "output_type": "stream",
          "name": "stdout",
          "text": [
            "Epoch 38 validation: Cross-entropy=0.44, Accuracy=84.4%\n"
          ]
        },
        {
          "output_type": "stream",
          "name": "stderr",
          "text": [
            "Epoch 39: 100%|██████████| 21/21 [00:00<00:00, 92.75batch/s, acc=0.4, loss=0.769] \n"
          ]
        },
        {
          "output_type": "stream",
          "name": "stdout",
          "text": [
            "Epoch 39 validation: Cross-entropy=0.43, Accuracy=86.7%\n"
          ]
        },
        {
          "output_type": "stream",
          "name": "stderr",
          "text": [
            "Epoch 40: 100%|██████████| 21/21 [00:00<00:00, 124.90batch/s, acc=0.4, loss=0.759]\n"
          ]
        },
        {
          "output_type": "stream",
          "name": "stdout",
          "text": [
            "Epoch 40 validation: Cross-entropy=0.43, Accuracy=88.9%\n"
          ]
        },
        {
          "output_type": "stream",
          "name": "stderr",
          "text": [
            "Epoch 41: 100%|██████████| 21/21 [00:00<00:00, 145.72batch/s, acc=0.4, loss=0.749]\n"
          ]
        },
        {
          "output_type": "stream",
          "name": "stdout",
          "text": [
            "Epoch 41 validation: Cross-entropy=0.42, Accuracy=88.9%\n"
          ]
        },
        {
          "output_type": "stream",
          "name": "stderr",
          "text": [
            "Epoch 42: 100%|██████████| 21/21 [00:00<00:00, 186.45batch/s, acc=0.4, loss=0.74]\n"
          ]
        },
        {
          "output_type": "stream",
          "name": "stdout",
          "text": [
            "Epoch 42 validation: Cross-entropy=0.41, Accuracy=91.1%\n"
          ]
        },
        {
          "output_type": "stream",
          "name": "stderr",
          "text": [
            "Epoch 43: 100%|██████████| 21/21 [00:00<00:00, 173.79batch/s, acc=0.4, loss=0.732]\n"
          ]
        },
        {
          "output_type": "stream",
          "name": "stdout",
          "text": [
            "Epoch 43 validation: Cross-entropy=0.40, Accuracy=93.3%\n"
          ]
        },
        {
          "output_type": "stream",
          "name": "stderr",
          "text": [
            "Epoch 44: 100%|██████████| 21/21 [00:00<00:00, 177.41batch/s, acc=0.4, loss=0.723]\n"
          ]
        },
        {
          "output_type": "stream",
          "name": "stdout",
          "text": [
            "Epoch 44 validation: Cross-entropy=0.40, Accuracy=93.3%\n"
          ]
        },
        {
          "output_type": "stream",
          "name": "stderr",
          "text": [
            "Epoch 45: 100%|██████████| 21/21 [00:00<00:00, 177.49batch/s, acc=0.4, loss=0.715]\n"
          ]
        },
        {
          "output_type": "stream",
          "name": "stdout",
          "text": [
            "Epoch 45 validation: Cross-entropy=0.39, Accuracy=93.3%\n"
          ]
        },
        {
          "output_type": "stream",
          "name": "stderr",
          "text": [
            "Epoch 46: 100%|██████████| 21/21 [00:00<00:00, 196.04batch/s, acc=0.6, loss=0.707]\n"
          ]
        },
        {
          "output_type": "stream",
          "name": "stdout",
          "text": [
            "Epoch 46 validation: Cross-entropy=0.38, Accuracy=93.3%\n"
          ]
        },
        {
          "output_type": "stream",
          "name": "stderr",
          "text": [
            "Epoch 47: 100%|██████████| 21/21 [00:00<00:00, 203.47batch/s, acc=0.6, loss=0.7]\n"
          ]
        },
        {
          "output_type": "stream",
          "name": "stdout",
          "text": [
            "Epoch 47 validation: Cross-entropy=0.38, Accuracy=93.3%\n"
          ]
        },
        {
          "output_type": "stream",
          "name": "stderr",
          "text": [
            "Epoch 48: 100%|██████████| 21/21 [00:00<00:00, 139.16batch/s, acc=0.6, loss=0.692]\n"
          ]
        },
        {
          "output_type": "stream",
          "name": "stdout",
          "text": [
            "Epoch 48 validation: Cross-entropy=0.37, Accuracy=93.3%\n"
          ]
        },
        {
          "output_type": "stream",
          "name": "stderr",
          "text": [
            "Epoch 49: 100%|██████████| 21/21 [00:00<00:00, 164.52batch/s, acc=0.6, loss=0.685]\n"
          ]
        },
        {
          "output_type": "stream",
          "name": "stdout",
          "text": [
            "Epoch 49 validation: Cross-entropy=0.37, Accuracy=93.3%\n"
          ]
        },
        {
          "output_type": "stream",
          "name": "stderr",
          "text": [
            "Epoch 50: 100%|██████████| 21/21 [00:00<00:00, 182.46batch/s, acc=0.6, loss=0.678]\n"
          ]
        },
        {
          "output_type": "stream",
          "name": "stdout",
          "text": [
            "Epoch 50 validation: Cross-entropy=0.36, Accuracy=95.6%\n"
          ]
        },
        {
          "output_type": "stream",
          "name": "stderr",
          "text": [
            "Epoch 51: 100%|██████████| 21/21 [00:00<00:00, 154.30batch/s, acc=0.6, loss=0.672]\n"
          ]
        },
        {
          "output_type": "stream",
          "name": "stdout",
          "text": [
            "Epoch 51 validation: Cross-entropy=0.35, Accuracy=95.6%\n"
          ]
        },
        {
          "output_type": "stream",
          "name": "stderr",
          "text": [
            "Epoch 52: 100%|██████████| 21/21 [00:00<00:00, 132.72batch/s, acc=0.6, loss=0.665]\n"
          ]
        },
        {
          "output_type": "stream",
          "name": "stdout",
          "text": [
            "Epoch 52 validation: Cross-entropy=0.35, Accuracy=95.6%\n"
          ]
        },
        {
          "output_type": "stream",
          "name": "stderr",
          "text": [
            "Epoch 53: 100%|██████████| 21/21 [00:00<00:00, 115.99batch/s, acc=0.6, loss=0.659]\n"
          ]
        },
        {
          "output_type": "stream",
          "name": "stdout",
          "text": [
            "Epoch 53 validation: Cross-entropy=0.34, Accuracy=95.6%\n"
          ]
        },
        {
          "output_type": "stream",
          "name": "stderr",
          "text": [
            "Epoch 54: 100%|██████████| 21/21 [00:00<00:00, 54.32batch/s, acc=0.6, loss=0.653]\n"
          ]
        },
        {
          "output_type": "stream",
          "name": "stdout",
          "text": [
            "Epoch 54 validation: Cross-entropy=0.34, Accuracy=95.6%\n"
          ]
        },
        {
          "output_type": "stream",
          "name": "stderr",
          "text": [
            "Epoch 55: 100%|██████████| 21/21 [00:00<00:00, 153.26batch/s, acc=0.6, loss=0.647]\n"
          ]
        },
        {
          "output_type": "stream",
          "name": "stdout",
          "text": [
            "Epoch 55 validation: Cross-entropy=0.33, Accuracy=95.6%\n"
          ]
        },
        {
          "output_type": "stream",
          "name": "stderr",
          "text": [
            "Epoch 56: 100%|██████████| 21/21 [00:00<00:00, 196.48batch/s, acc=0.6, loss=0.641]\n"
          ]
        },
        {
          "output_type": "stream",
          "name": "stdout",
          "text": [
            "Epoch 56 validation: Cross-entropy=0.33, Accuracy=95.6%\n"
          ]
        },
        {
          "output_type": "stream",
          "name": "stderr",
          "text": [
            "Epoch 57: 100%|██████████| 21/21 [00:00<00:00, 192.60batch/s, acc=0.8, loss=0.635]\n"
          ]
        },
        {
          "output_type": "stream",
          "name": "stdout",
          "text": [
            "Epoch 57 validation: Cross-entropy=0.32, Accuracy=95.6%\n"
          ]
        },
        {
          "output_type": "stream",
          "name": "stderr",
          "text": [
            "Epoch 58: 100%|██████████| 21/21 [00:00<00:00, 189.34batch/s, acc=0.8, loss=0.629]\n"
          ]
        },
        {
          "output_type": "stream",
          "name": "stdout",
          "text": [
            "Epoch 58 validation: Cross-entropy=0.32, Accuracy=95.6%\n"
          ]
        },
        {
          "output_type": "stream",
          "name": "stderr",
          "text": [
            "Epoch 59: 100%|██████████| 21/21 [00:00<00:00, 172.76batch/s, acc=0.8, loss=0.623]\n"
          ]
        },
        {
          "output_type": "stream",
          "name": "stdout",
          "text": [
            "Epoch 59 validation: Cross-entropy=0.32, Accuracy=95.6%\n"
          ]
        },
        {
          "output_type": "stream",
          "name": "stderr",
          "text": [
            "Epoch 60: 100%|██████████| 21/21 [00:00<00:00, 169.15batch/s, acc=0.8, loss=0.618]\n"
          ]
        },
        {
          "output_type": "stream",
          "name": "stdout",
          "text": [
            "Epoch 60 validation: Cross-entropy=0.31, Accuracy=95.6%\n"
          ]
        },
        {
          "output_type": "stream",
          "name": "stderr",
          "text": [
            "Epoch 61: 100%|██████████| 21/21 [00:00<00:00, 193.29batch/s, acc=0.8, loss=0.612]\n"
          ]
        },
        {
          "output_type": "stream",
          "name": "stdout",
          "text": [
            "Epoch 61 validation: Cross-entropy=0.31, Accuracy=95.6%\n"
          ]
        },
        {
          "output_type": "stream",
          "name": "stderr",
          "text": [
            "Epoch 62: 100%|██████████| 21/21 [00:00<00:00, 186.34batch/s, acc=0.8, loss=0.607]\n"
          ]
        },
        {
          "output_type": "stream",
          "name": "stdout",
          "text": [
            "Epoch 62 validation: Cross-entropy=0.30, Accuracy=95.6%\n"
          ]
        },
        {
          "output_type": "stream",
          "name": "stderr",
          "text": [
            "Epoch 63: 100%|██████████| 21/21 [00:00<00:00, 210.10batch/s, acc=0.8, loss=0.601]\n"
          ]
        },
        {
          "output_type": "stream",
          "name": "stdout",
          "text": [
            "Epoch 63 validation: Cross-entropy=0.30, Accuracy=95.6%\n"
          ]
        },
        {
          "output_type": "stream",
          "name": "stderr",
          "text": [
            "Epoch 64: 100%|██████████| 21/21 [00:00<00:00, 205.47batch/s, acc=0.8, loss=0.596]\n"
          ]
        },
        {
          "output_type": "stream",
          "name": "stdout",
          "text": [
            "Epoch 64 validation: Cross-entropy=0.30, Accuracy=95.6%\n"
          ]
        },
        {
          "output_type": "stream",
          "name": "stderr",
          "text": [
            "Epoch 65: 100%|██████████| 21/21 [00:00<00:00, 106.84batch/s, acc=0.8, loss=0.591]\n"
          ]
        },
        {
          "output_type": "stream",
          "name": "stdout",
          "text": [
            "Epoch 65 validation: Cross-entropy=0.29, Accuracy=97.8%\n"
          ]
        },
        {
          "output_type": "stream",
          "name": "stderr",
          "text": [
            "Epoch 66: 100%|██████████| 21/21 [00:00<00:00, 188.17batch/s, acc=0.8, loss=0.586]\n"
          ]
        },
        {
          "output_type": "stream",
          "name": "stdout",
          "text": [
            "Epoch 66 validation: Cross-entropy=0.29, Accuracy=97.8%\n"
          ]
        },
        {
          "output_type": "stream",
          "name": "stderr",
          "text": [
            "Epoch 67: 100%|██████████| 21/21 [00:00<00:00, 204.82batch/s, acc=0.8, loss=0.581]\n"
          ]
        },
        {
          "output_type": "stream",
          "name": "stdout",
          "text": [
            "Epoch 67 validation: Cross-entropy=0.28, Accuracy=97.8%\n"
          ]
        },
        {
          "output_type": "stream",
          "name": "stderr",
          "text": [
            "Epoch 68: 100%|██████████| 21/21 [00:00<00:00, 151.93batch/s, acc=0.8, loss=0.576]\n"
          ]
        },
        {
          "output_type": "stream",
          "name": "stdout",
          "text": [
            "Epoch 68 validation: Cross-entropy=0.28, Accuracy=97.8%\n"
          ]
        },
        {
          "output_type": "stream",
          "name": "stderr",
          "text": [
            "Epoch 69: 100%|██████████| 21/21 [00:00<00:00, 144.97batch/s, acc=0.8, loss=0.571]\n"
          ]
        },
        {
          "output_type": "stream",
          "name": "stdout",
          "text": [
            "Epoch 69 validation: Cross-entropy=0.28, Accuracy=97.8%\n"
          ]
        },
        {
          "output_type": "stream",
          "name": "stderr",
          "text": [
            "Epoch 70: 100%|██████████| 21/21 [00:00<00:00, 69.62batch/s, acc=0.8, loss=0.566] \n"
          ]
        },
        {
          "output_type": "stream",
          "name": "stdout",
          "text": [
            "Epoch 70 validation: Cross-entropy=0.27, Accuracy=97.8%\n"
          ]
        },
        {
          "output_type": "stream",
          "name": "stderr",
          "text": [
            "Epoch 71: 100%|██████████| 21/21 [00:00<00:00, 167.08batch/s, acc=0.8, loss=0.562]\n"
          ]
        },
        {
          "output_type": "stream",
          "name": "stdout",
          "text": [
            "Epoch 71 validation: Cross-entropy=0.27, Accuracy=97.8%\n"
          ]
        },
        {
          "output_type": "stream",
          "name": "stderr",
          "text": [
            "Epoch 72: 100%|██████████| 21/21 [00:00<00:00, 153.35batch/s, acc=0.8, loss=0.557]\n"
          ]
        },
        {
          "output_type": "stream",
          "name": "stdout",
          "text": [
            "Epoch 72 validation: Cross-entropy=0.27, Accuracy=97.8%\n"
          ]
        },
        {
          "output_type": "stream",
          "name": "stderr",
          "text": [
            "Epoch 73: 100%|██████████| 21/21 [00:00<00:00, 169.17batch/s, acc=0.8, loss=0.552]\n"
          ]
        },
        {
          "output_type": "stream",
          "name": "stdout",
          "text": [
            "Epoch 73 validation: Cross-entropy=0.26, Accuracy=97.8%\n"
          ]
        },
        {
          "output_type": "stream",
          "name": "stderr",
          "text": [
            "Epoch 74: 100%|██████████| 21/21 [00:00<00:00, 135.24batch/s, acc=0.8, loss=0.548]\n"
          ]
        },
        {
          "output_type": "stream",
          "name": "stdout",
          "text": [
            "Epoch 74 validation: Cross-entropy=0.26, Accuracy=97.8%\n"
          ]
        },
        {
          "output_type": "stream",
          "name": "stderr",
          "text": [
            "Epoch 75: 100%|██████████| 21/21 [00:00<00:00, 74.15batch/s, acc=0.8, loss=0.543]\n"
          ]
        },
        {
          "output_type": "stream",
          "name": "stdout",
          "text": [
            "Epoch 75 validation: Cross-entropy=0.26, Accuracy=97.8%\n"
          ]
        },
        {
          "output_type": "stream",
          "name": "stderr",
          "text": [
            "Epoch 76: 100%|██████████| 21/21 [00:00<00:00, 65.39batch/s, acc=0.8, loss=0.539] \n"
          ]
        },
        {
          "output_type": "stream",
          "name": "stdout",
          "text": [
            "Epoch 76 validation: Cross-entropy=0.25, Accuracy=97.8%\n"
          ]
        },
        {
          "output_type": "stream",
          "name": "stderr",
          "text": [
            "Epoch 77: 100%|██████████| 21/21 [00:00<00:00, 223.03batch/s, acc=0.8, loss=0.534]\n"
          ]
        },
        {
          "output_type": "stream",
          "name": "stdout",
          "text": [
            "Epoch 77 validation: Cross-entropy=0.25, Accuracy=97.8%\n"
          ]
        },
        {
          "output_type": "stream",
          "name": "stderr",
          "text": [
            "Epoch 78: 100%|██████████| 21/21 [00:00<00:00, 197.16batch/s, acc=0.8, loss=0.53]\n"
          ]
        },
        {
          "output_type": "stream",
          "name": "stdout",
          "text": [
            "Epoch 78 validation: Cross-entropy=0.25, Accuracy=97.8%\n"
          ]
        },
        {
          "output_type": "stream",
          "name": "stderr",
          "text": [
            "Epoch 79: 100%|██████████| 21/21 [00:00<00:00, 93.24batch/s, acc=0.8, loss=0.526] \n"
          ]
        },
        {
          "output_type": "stream",
          "name": "stdout",
          "text": [
            "Epoch 79 validation: Cross-entropy=0.24, Accuracy=97.8%\n"
          ]
        },
        {
          "output_type": "stream",
          "name": "stderr",
          "text": [
            "Epoch 80: 100%|██████████| 21/21 [00:00<00:00, 146.45batch/s, acc=0.8, loss=0.521]\n"
          ]
        },
        {
          "output_type": "stream",
          "name": "stdout",
          "text": [
            "Epoch 80 validation: Cross-entropy=0.24, Accuracy=97.8%\n"
          ]
        },
        {
          "output_type": "stream",
          "name": "stderr",
          "text": [
            "Epoch 81: 100%|██████████| 21/21 [00:00<00:00, 160.59batch/s, acc=0.8, loss=0.517]\n"
          ]
        },
        {
          "output_type": "stream",
          "name": "stdout",
          "text": [
            "Epoch 81 validation: Cross-entropy=0.24, Accuracy=97.8%\n"
          ]
        },
        {
          "output_type": "stream",
          "name": "stderr",
          "text": [
            "Epoch 82: 100%|██████████| 21/21 [00:00<00:00, 208.24batch/s, acc=0.8, loss=0.513]\n"
          ]
        },
        {
          "output_type": "stream",
          "name": "stdout",
          "text": [
            "Epoch 82 validation: Cross-entropy=0.23, Accuracy=97.8%\n"
          ]
        },
        {
          "output_type": "stream",
          "name": "stderr",
          "text": [
            "Epoch 83: 100%|██████████| 21/21 [00:00<00:00, 205.06batch/s, acc=0.8, loss=0.509]\n"
          ]
        },
        {
          "output_type": "stream",
          "name": "stdout",
          "text": [
            "Epoch 83 validation: Cross-entropy=0.23, Accuracy=97.8%\n"
          ]
        },
        {
          "output_type": "stream",
          "name": "stderr",
          "text": [
            "Epoch 84: 100%|██████████| 21/21 [00:00<00:00, 171.90batch/s, acc=0.8, loss=0.505]\n"
          ]
        },
        {
          "output_type": "stream",
          "name": "stdout",
          "text": [
            "Epoch 84 validation: Cross-entropy=0.23, Accuracy=97.8%\n"
          ]
        },
        {
          "output_type": "stream",
          "name": "stderr",
          "text": [
            "Epoch 85: 100%|██████████| 21/21 [00:00<00:00, 179.96batch/s, acc=0.8, loss=0.501]\n"
          ]
        },
        {
          "output_type": "stream",
          "name": "stdout",
          "text": [
            "Epoch 85 validation: Cross-entropy=0.23, Accuracy=97.8%\n"
          ]
        },
        {
          "output_type": "stream",
          "name": "stderr",
          "text": [
            "Epoch 86: 100%|██████████| 21/21 [00:00<00:00, 172.74batch/s, acc=0.8, loss=0.497]\n"
          ]
        },
        {
          "output_type": "stream",
          "name": "stdout",
          "text": [
            "Epoch 86 validation: Cross-entropy=0.22, Accuracy=97.8%\n"
          ]
        },
        {
          "output_type": "stream",
          "name": "stderr",
          "text": [
            "Epoch 87: 100%|██████████| 21/21 [00:00<00:00, 158.00batch/s, acc=0.8, loss=0.493]\n"
          ]
        },
        {
          "output_type": "stream",
          "name": "stdout",
          "text": [
            "Epoch 87 validation: Cross-entropy=0.22, Accuracy=97.8%\n"
          ]
        },
        {
          "output_type": "stream",
          "name": "stderr",
          "text": [
            "Epoch 88: 100%|██████████| 21/21 [00:00<00:00, 149.94batch/s, acc=0.8, loss=0.489]\n"
          ]
        },
        {
          "output_type": "stream",
          "name": "stdout",
          "text": [
            "Epoch 88 validation: Cross-entropy=0.22, Accuracy=97.8%\n"
          ]
        },
        {
          "output_type": "stream",
          "name": "stderr",
          "text": [
            "Epoch 89: 100%|██████████| 21/21 [00:00<00:00, 174.00batch/s, acc=0.8, loss=0.485]\n"
          ]
        },
        {
          "output_type": "stream",
          "name": "stdout",
          "text": [
            "Epoch 89 validation: Cross-entropy=0.21, Accuracy=97.8%\n"
          ]
        },
        {
          "output_type": "stream",
          "name": "stderr",
          "text": [
            "Epoch 90: 100%|██████████| 21/21 [00:00<00:00, 207.09batch/s, acc=0.8, loss=0.482]\n"
          ]
        },
        {
          "output_type": "stream",
          "name": "stdout",
          "text": [
            "Epoch 90 validation: Cross-entropy=0.21, Accuracy=97.8%\n"
          ]
        },
        {
          "output_type": "stream",
          "name": "stderr",
          "text": [
            "Epoch 91: 100%|██████████| 21/21 [00:00<00:00, 103.05batch/s, acc=0.8, loss=0.478]\n"
          ]
        },
        {
          "output_type": "stream",
          "name": "stdout",
          "text": [
            "Epoch 91 validation: Cross-entropy=0.21, Accuracy=97.8%\n"
          ]
        },
        {
          "output_type": "stream",
          "name": "stderr",
          "text": [
            "Epoch 92: 100%|██████████| 21/21 [00:00<00:00, 181.00batch/s, acc=0.8, loss=0.474]\n"
          ]
        },
        {
          "output_type": "stream",
          "name": "stdout",
          "text": [
            "Epoch 92 validation: Cross-entropy=0.21, Accuracy=97.8%\n"
          ]
        },
        {
          "output_type": "stream",
          "name": "stderr",
          "text": [
            "Epoch 93: 100%|██████████| 21/21 [00:00<00:00, 197.73batch/s, acc=0.8, loss=0.471]\n"
          ]
        },
        {
          "output_type": "stream",
          "name": "stdout",
          "text": [
            "Epoch 93 validation: Cross-entropy=0.20, Accuracy=97.8%\n"
          ]
        },
        {
          "output_type": "stream",
          "name": "stderr",
          "text": [
            "Epoch 94: 100%|██████████| 21/21 [00:00<00:00, 195.04batch/s, acc=0.8, loss=0.467]\n"
          ]
        },
        {
          "output_type": "stream",
          "name": "stdout",
          "text": [
            "Epoch 94 validation: Cross-entropy=0.20, Accuracy=97.8%\n"
          ]
        },
        {
          "output_type": "stream",
          "name": "stderr",
          "text": [
            "Epoch 95: 100%|██████████| 21/21 [00:00<00:00, 174.64batch/s, acc=0.8, loss=0.464]\n"
          ]
        },
        {
          "output_type": "stream",
          "name": "stdout",
          "text": [
            "Epoch 95 validation: Cross-entropy=0.20, Accuracy=97.8%\n"
          ]
        },
        {
          "output_type": "stream",
          "name": "stderr",
          "text": [
            "Epoch 96: 100%|██████████| 21/21 [00:00<00:00, 83.83batch/s, acc=0.8, loss=0.46]\n"
          ]
        },
        {
          "output_type": "stream",
          "name": "stdout",
          "text": [
            "Epoch 96 validation: Cross-entropy=0.20, Accuracy=97.8%\n"
          ]
        },
        {
          "output_type": "stream",
          "name": "stderr",
          "text": [
            "Epoch 97: 100%|██████████| 21/21 [00:00<00:00, 121.77batch/s, acc=0.8, loss=0.457]\n"
          ]
        },
        {
          "output_type": "stream",
          "name": "stdout",
          "text": [
            "Epoch 97 validation: Cross-entropy=0.20, Accuracy=97.8%\n"
          ]
        },
        {
          "output_type": "stream",
          "name": "stderr",
          "text": [
            "Epoch 98: 100%|██████████| 21/21 [00:00<00:00, 179.81batch/s, acc=0.8, loss=0.453]\n"
          ]
        },
        {
          "output_type": "stream",
          "name": "stdout",
          "text": [
            "Epoch 98 validation: Cross-entropy=0.19, Accuracy=97.8%\n"
          ]
        },
        {
          "output_type": "stream",
          "name": "stderr",
          "text": [
            "Epoch 99: 100%|██████████| 21/21 [00:00<00:00, 185.18batch/s, acc=0.8, loss=0.45]\n"
          ]
        },
        {
          "output_type": "stream",
          "name": "stdout",
          "text": [
            "Epoch 99 validation: Cross-entropy=0.19, Accuracy=97.8%\n"
          ]
        },
        {
          "output_type": "stream",
          "name": "stderr",
          "text": [
            "Epoch 100: 100%|██████████| 21/21 [00:00<00:00, 200.17batch/s, acc=0.8, loss=0.447]\n"
          ]
        },
        {
          "output_type": "stream",
          "name": "stdout",
          "text": [
            "Epoch 100 validation: Cross-entropy=0.19, Accuracy=97.8%\n"
          ]
        },
        {
          "output_type": "stream",
          "name": "stderr",
          "text": [
            "Epoch 101: 100%|██████████| 21/21 [00:00<00:00, 194.86batch/s, acc=0.8, loss=0.443]\n"
          ]
        },
        {
          "output_type": "stream",
          "name": "stdout",
          "text": [
            "Epoch 101 validation: Cross-entropy=0.19, Accuracy=97.8%\n"
          ]
        },
        {
          "output_type": "stream",
          "name": "stderr",
          "text": [
            "Epoch 102: 100%|██████████| 21/21 [00:00<00:00, 103.05batch/s, acc=0.8, loss=0.44]\n"
          ]
        },
        {
          "output_type": "stream",
          "name": "stdout",
          "text": [
            "Epoch 102 validation: Cross-entropy=0.18, Accuracy=97.8%\n"
          ]
        },
        {
          "output_type": "stream",
          "name": "stderr",
          "text": [
            "Epoch 103: 100%|██████████| 21/21 [00:00<00:00, 211.41batch/s, acc=0.8, loss=0.437]\n"
          ]
        },
        {
          "output_type": "stream",
          "name": "stdout",
          "text": [
            "Epoch 103 validation: Cross-entropy=0.18, Accuracy=97.8%\n"
          ]
        },
        {
          "output_type": "stream",
          "name": "stderr",
          "text": [
            "Epoch 104: 100%|██████████| 21/21 [00:00<00:00, 190.71batch/s, acc=0.8, loss=0.434]\n"
          ]
        },
        {
          "output_type": "stream",
          "name": "stdout",
          "text": [
            "Epoch 104 validation: Cross-entropy=0.18, Accuracy=97.8%\n"
          ]
        },
        {
          "output_type": "stream",
          "name": "stderr",
          "text": [
            "Epoch 105: 100%|██████████| 21/21 [00:00<00:00, 206.10batch/s, acc=0.8, loss=0.431]\n"
          ]
        },
        {
          "output_type": "stream",
          "name": "stdout",
          "text": [
            "Epoch 105 validation: Cross-entropy=0.18, Accuracy=97.8%\n"
          ]
        },
        {
          "output_type": "stream",
          "name": "stderr",
          "text": [
            "Epoch 113: 100%|██████████| 21/21 [00:00<00:00, 135.26batch/s, acc=0.8, loss=0.407]\n"
          ]
        },
        {
          "output_type": "stream",
          "name": "stdout",
          "text": [
            "Epoch 113 validation: Cross-entropy=0.16, Accuracy=97.8%\n"
          ]
        },
        {
          "output_type": "stream",
          "name": "stderr",
          "text": [
            "Epoch 114: 100%|██████████| 21/21 [00:00<00:00, 139.61batch/s, acc=0.8, loss=0.404]\n"
          ]
        },
        {
          "output_type": "stream",
          "name": "stdout",
          "text": [
            "Epoch 114 validation: Cross-entropy=0.16, Accuracy=97.8%\n"
          ]
        },
        {
          "output_type": "stream",
          "name": "stderr",
          "text": [
            "Epoch 115: 100%|██████████| 21/21 [00:00<00:00, 147.80batch/s, acc=0.8, loss=0.401]\n"
          ]
        },
        {
          "output_type": "stream",
          "name": "stdout",
          "text": [
            "Epoch 115 validation: Cross-entropy=0.16, Accuracy=97.8%\n"
          ]
        },
        {
          "output_type": "stream",
          "name": "stderr",
          "text": [
            "Epoch 116: 100%|██████████| 21/21 [00:00<00:00, 140.62batch/s, acc=0.8, loss=0.399]\n"
          ]
        },
        {
          "output_type": "stream",
          "name": "stdout",
          "text": [
            "Epoch 116 validation: Cross-entropy=0.16, Accuracy=97.8%\n"
          ]
        },
        {
          "output_type": "stream",
          "name": "stderr",
          "text": [
            "Epoch 117: 100%|██████████| 21/21 [00:00<00:00, 133.97batch/s, acc=0.8, loss=0.396]\n"
          ]
        },
        {
          "output_type": "stream",
          "name": "stdout",
          "text": [
            "Epoch 117 validation: Cross-entropy=0.16, Accuracy=97.8%\n"
          ]
        },
        {
          "output_type": "stream",
          "name": "stderr",
          "text": [
            "Epoch 118: 100%|██████████| 21/21 [00:00<00:00, 137.27batch/s, acc=0.8, loss=0.394]\n"
          ]
        },
        {
          "output_type": "stream",
          "name": "stdout",
          "text": [
            "Epoch 118 validation: Cross-entropy=0.16, Accuracy=97.8%\n"
          ]
        },
        {
          "output_type": "stream",
          "name": "stderr",
          "text": [
            "Epoch 119: 100%|██████████| 21/21 [00:00<00:00, 140.86batch/s, acc=0.8, loss=0.391]\n"
          ]
        },
        {
          "output_type": "stream",
          "name": "stdout",
          "text": [
            "Epoch 119 validation: Cross-entropy=0.15, Accuracy=97.8%\n"
          ]
        },
        {
          "output_type": "stream",
          "name": "stderr",
          "text": [
            "Epoch 120: 100%|██████████| 21/21 [00:00<00:00, 118.39batch/s, acc=0.8, loss=0.388]\n"
          ]
        },
        {
          "output_type": "stream",
          "name": "stdout",
          "text": [
            "Epoch 120 validation: Cross-entropy=0.15, Accuracy=97.8%\n"
          ]
        },
        {
          "output_type": "stream",
          "name": "stderr",
          "text": [
            "Epoch 121: 100%|██████████| 21/21 [00:00<00:00, 155.82batch/s, acc=0.8, loss=0.386]\n"
          ]
        },
        {
          "output_type": "stream",
          "name": "stdout",
          "text": [
            "Epoch 121 validation: Cross-entropy=0.15, Accuracy=97.8%\n"
          ]
        },
        {
          "output_type": "stream",
          "name": "stderr",
          "text": [
            "Epoch 122: 100%|██████████| 21/21 [00:00<00:00, 143.27batch/s, acc=0.8, loss=0.383]\n"
          ]
        },
        {
          "output_type": "stream",
          "name": "stdout",
          "text": [
            "Epoch 122 validation: Cross-entropy=0.15, Accuracy=97.8%\n"
          ]
        },
        {
          "output_type": "stream",
          "name": "stderr",
          "text": [
            "Epoch 139: 100%|██████████| 21/21 [00:00<00:00, 51.49batch/s, acc=0.8, loss=0.346]\n"
          ]
        },
        {
          "output_type": "stream",
          "name": "stdout",
          "text": [
            "Epoch 139 validation: Cross-entropy=0.13, Accuracy=97.8%\n"
          ]
        },
        {
          "output_type": "stream",
          "name": "stderr",
          "text": [
            "Epoch 140: 100%|██████████| 21/21 [00:00<00:00, 137.70batch/s, acc=0.8, loss=0.344]\n"
          ]
        },
        {
          "output_type": "stream",
          "name": "stdout",
          "text": [
            "Epoch 140 validation: Cross-entropy=0.13, Accuracy=97.8%\n"
          ]
        },
        {
          "output_type": "stream",
          "name": "stderr",
          "text": [
            "Epoch 141: 100%|██████████| 21/21 [00:00<00:00, 142.12batch/s, acc=0.8, loss=0.342]\n"
          ]
        },
        {
          "output_type": "stream",
          "name": "stdout",
          "text": [
            "Epoch 141 validation: Cross-entropy=0.12, Accuracy=97.8%\n"
          ]
        },
        {
          "output_type": "stream",
          "name": "stderr",
          "text": [
            "Epoch 142: 100%|██████████| 21/21 [00:00<00:00, 162.19batch/s, acc=0.8, loss=0.34]\n"
          ]
        },
        {
          "output_type": "stream",
          "name": "stdout",
          "text": [
            "Epoch 142 validation: Cross-entropy=0.12, Accuracy=97.8%\n"
          ]
        },
        {
          "output_type": "stream",
          "name": "stderr",
          "text": [
            "Epoch 143: 100%|██████████| 21/21 [00:00<00:00, 157.39batch/s, acc=0.8, loss=0.338]\n"
          ]
        },
        {
          "output_type": "stream",
          "name": "stdout",
          "text": [
            "Epoch 143 validation: Cross-entropy=0.12, Accuracy=97.8%\n"
          ]
        },
        {
          "output_type": "stream",
          "name": "stderr",
          "text": [
            "Epoch 144: 100%|██████████| 21/21 [00:00<00:00, 158.25batch/s, acc=0.8, loss=0.336]\n"
          ]
        },
        {
          "output_type": "stream",
          "name": "stdout",
          "text": [
            "Epoch 144 validation: Cross-entropy=0.12, Accuracy=97.8%\n"
          ]
        },
        {
          "output_type": "stream",
          "name": "stderr",
          "text": [
            "Epoch 145: 100%|██████████| 21/21 [00:00<00:00, 197.90batch/s, acc=0.8, loss=0.334]\n"
          ]
        },
        {
          "output_type": "stream",
          "name": "stdout",
          "text": [
            "Epoch 145 validation: Cross-entropy=0.12, Accuracy=97.8%\n"
          ]
        },
        {
          "output_type": "stream",
          "name": "stderr",
          "text": [
            "Epoch 146: 100%|██████████| 21/21 [00:00<00:00, 183.01batch/s, acc=0.8, loss=0.333]\n"
          ]
        },
        {
          "output_type": "stream",
          "name": "stdout",
          "text": [
            "Epoch 146 validation: Cross-entropy=0.12, Accuracy=97.8%\n"
          ]
        },
        {
          "output_type": "stream",
          "name": "stderr",
          "text": [
            "Epoch 147: 100%|██████████| 21/21 [00:00<00:00, 175.24batch/s, acc=0.8, loss=0.331]\n"
          ]
        },
        {
          "output_type": "stream",
          "name": "stdout",
          "text": [
            "Epoch 147 validation: Cross-entropy=0.12, Accuracy=97.8%\n"
          ]
        },
        {
          "output_type": "stream",
          "name": "stderr",
          "text": [
            "Epoch 148: 100%|██████████| 21/21 [00:00<00:00, 197.38batch/s, acc=0.8, loss=0.329]\n"
          ]
        },
        {
          "output_type": "stream",
          "name": "stdout",
          "text": [
            "Epoch 148 validation: Cross-entropy=0.12, Accuracy=97.8%\n"
          ]
        },
        {
          "output_type": "stream",
          "name": "stderr",
          "text": [
            "Epoch 149: 100%|██████████| 21/21 [00:00<00:00, 170.07batch/s, acc=0.8, loss=0.327]\n"
          ]
        },
        {
          "output_type": "stream",
          "name": "stdout",
          "text": [
            "Epoch 149 validation: Cross-entropy=0.12, Accuracy=97.8%\n"
          ]
        },
        {
          "output_type": "stream",
          "name": "stderr",
          "text": [
            "Epoch 159: 100%|██████████| 21/21 [00:00<00:00, 182.42batch/s, acc=0.8, loss=0.311]\n"
          ]
        },
        {
          "output_type": "stream",
          "name": "stdout",
          "text": [
            "Epoch 159 validation: Cross-entropy=0.11, Accuracy=97.8%\n"
          ]
        },
        {
          "output_type": "stream",
          "name": "stderr",
          "text": [
            "Epoch 160: 100%|██████████| 21/21 [00:00<00:00, 203.06batch/s, acc=0.8, loss=0.31]\n"
          ]
        },
        {
          "output_type": "stream",
          "name": "stdout",
          "text": [
            "Epoch 160 validation: Cross-entropy=0.11, Accuracy=97.8%\n"
          ]
        },
        {
          "output_type": "stream",
          "name": "stderr",
          "text": [
            "Epoch 161: 100%|██████████| 21/21 [00:00<00:00, 194.54batch/s, acc=0.8, loss=0.308]\n"
          ]
        },
        {
          "output_type": "stream",
          "name": "stdout",
          "text": [
            "Epoch 161 validation: Cross-entropy=0.11, Accuracy=97.8%\n"
          ]
        },
        {
          "output_type": "stream",
          "name": "stderr",
          "text": [
            "Epoch 162: 100%|██████████| 21/21 [00:00<00:00, 196.39batch/s, acc=0.8, loss=0.307]\n"
          ]
        },
        {
          "output_type": "stream",
          "name": "stdout",
          "text": [
            "Epoch 162 validation: Cross-entropy=0.11, Accuracy=97.8%\n"
          ]
        },
        {
          "output_type": "stream",
          "name": "stderr",
          "text": [
            "Epoch 163: 100%|██████████| 21/21 [00:00<00:00, 227.50batch/s, acc=0.8, loss=0.306]\n"
          ]
        },
        {
          "output_type": "stream",
          "name": "stdout",
          "text": [
            "Epoch 163 validation: Cross-entropy=0.10, Accuracy=97.8%\n"
          ]
        },
        {
          "output_type": "stream",
          "name": "stderr",
          "text": [
            "Epoch 164: 100%|██████████| 21/21 [00:00<00:00, 189.14batch/s, acc=0.8, loss=0.304]\n"
          ]
        },
        {
          "output_type": "stream",
          "name": "stdout",
          "text": [
            "Epoch 164 validation: Cross-entropy=0.10, Accuracy=97.8%\n"
          ]
        },
        {
          "output_type": "stream",
          "name": "stderr",
          "text": [
            "Epoch 165: 100%|██████████| 21/21 [00:00<00:00, 70.02batch/s, acc=0.8, loss=0.303] \n"
          ]
        },
        {
          "output_type": "stream",
          "name": "stdout",
          "text": [
            "Epoch 165 validation: Cross-entropy=0.10, Accuracy=97.8%\n"
          ]
        },
        {
          "output_type": "stream",
          "name": "stderr",
          "text": [
            "Epoch 166: 100%|██████████| 21/21 [00:00<00:00, 190.79batch/s, acc=0.8, loss=0.301]\n"
          ]
        },
        {
          "output_type": "stream",
          "name": "stdout",
          "text": [
            "Epoch 166 validation: Cross-entropy=0.10, Accuracy=97.8%\n"
          ]
        },
        {
          "output_type": "stream",
          "name": "stderr",
          "text": [
            "Epoch 167: 100%|██████████| 21/21 [00:00<00:00, 225.30batch/s, acc=0.8, loss=0.3]\n"
          ]
        },
        {
          "output_type": "stream",
          "name": "stdout",
          "text": [
            "Epoch 167 validation: Cross-entropy=0.10, Accuracy=97.8%\n"
          ]
        },
        {
          "output_type": "stream",
          "name": "stderr",
          "text": [
            "Epoch 168: 100%|██████████| 21/21 [00:00<00:00, 92.01batch/s, acc=0.8, loss=0.299]\n"
          ]
        },
        {
          "output_type": "stream",
          "name": "stdout",
          "text": [
            "Epoch 168 validation: Cross-entropy=0.10, Accuracy=97.8%\n"
          ]
        },
        {
          "output_type": "stream",
          "name": "stderr",
          "text": [
            "Epoch 177: 100%|██████████| 21/21 [00:00<00:00, 147.09batch/s, acc=0.8, loss=0.287]\n"
          ]
        },
        {
          "output_type": "stream",
          "name": "stdout",
          "text": [
            "Epoch 177 validation: Cross-entropy=0.10, Accuracy=97.8%\n"
          ]
        },
        {
          "output_type": "stream",
          "name": "stderr",
          "text": [
            "Epoch 178: 100%|██████████| 21/21 [00:00<00:00, 179.97batch/s, acc=0.8, loss=0.286]\n"
          ]
        },
        {
          "output_type": "stream",
          "name": "stdout",
          "text": [
            "Epoch 178 validation: Cross-entropy=0.09, Accuracy=97.8%\n"
          ]
        },
        {
          "output_type": "stream",
          "name": "stderr",
          "text": [
            "Epoch 179: 100%|██████████| 21/21 [00:00<00:00, 184.62batch/s, acc=0.8, loss=0.285]\n"
          ]
        },
        {
          "output_type": "stream",
          "name": "stdout",
          "text": [
            "Epoch 179 validation: Cross-entropy=0.09, Accuracy=97.8%\n"
          ]
        },
        {
          "output_type": "stream",
          "name": "stderr",
          "text": [
            "Epoch 180: 100%|██████████| 21/21 [00:00<00:00, 188.30batch/s, acc=0.8, loss=0.284]\n"
          ]
        },
        {
          "output_type": "stream",
          "name": "stdout",
          "text": [
            "Epoch 180 validation: Cross-entropy=0.09, Accuracy=97.8%\n"
          ]
        },
        {
          "output_type": "stream",
          "name": "stderr",
          "text": [
            "Epoch 181: 100%|██████████| 21/21 [00:00<00:00, 212.74batch/s, acc=0.8, loss=0.283]\n"
          ]
        },
        {
          "output_type": "stream",
          "name": "stdout",
          "text": [
            "Epoch 181 validation: Cross-entropy=0.09, Accuracy=97.8%\n"
          ]
        },
        {
          "output_type": "stream",
          "name": "stderr",
          "text": [
            "Epoch 182: 100%|██████████| 21/21 [00:00<00:00, 202.41batch/s, acc=0.8, loss=0.282]\n"
          ]
        },
        {
          "output_type": "stream",
          "name": "stdout",
          "text": [
            "Epoch 182 validation: Cross-entropy=0.09, Accuracy=97.8%\n"
          ]
        },
        {
          "output_type": "stream",
          "name": "stderr",
          "text": [
            "Epoch 183: 100%|██████████| 21/21 [00:00<00:00, 171.85batch/s, acc=0.8, loss=0.281]\n"
          ]
        },
        {
          "output_type": "stream",
          "name": "stdout",
          "text": [
            "Epoch 183 validation: Cross-entropy=0.09, Accuracy=97.8%\n"
          ]
        },
        {
          "output_type": "stream",
          "name": "stderr",
          "text": [
            "Epoch 184: 100%|██████████| 21/21 [00:00<00:00, 230.79batch/s, acc=0.8, loss=0.28]\n"
          ]
        },
        {
          "output_type": "stream",
          "name": "stdout",
          "text": [
            "Epoch 184 validation: Cross-entropy=0.09, Accuracy=97.8%\n"
          ]
        },
        {
          "output_type": "stream",
          "name": "stderr",
          "text": [
            "Epoch 185: 100%|██████████| 21/21 [00:00<00:00, 221.21batch/s, acc=0.8, loss=0.278]\n"
          ]
        },
        {
          "output_type": "stream",
          "name": "stdout",
          "text": [
            "Epoch 185 validation: Cross-entropy=0.09, Accuracy=97.8%\n"
          ]
        },
        {
          "output_type": "stream",
          "name": "stderr",
          "text": [
            "Epoch 186: 100%|██████████| 21/21 [00:00<00:00, 211.70batch/s, acc=0.8, loss=0.277]\n"
          ]
        },
        {
          "output_type": "stream",
          "name": "stdout",
          "text": [
            "Epoch 186 validation: Cross-entropy=0.09, Accuracy=97.8%\n"
          ]
        },
        {
          "output_type": "stream",
          "name": "stderr",
          "text": [
            "Epoch 187: 100%|██████████| 21/21 [00:00<00:00, 210.48batch/s, acc=0.8, loss=0.276]\n"
          ]
        },
        {
          "output_type": "stream",
          "name": "stdout",
          "text": [
            "Epoch 187 validation: Cross-entropy=0.09, Accuracy=97.8%\n"
          ]
        },
        {
          "output_type": "stream",
          "name": "stderr",
          "text": [
            "Epoch 188:   5%|▍         | 1/21 [00:00<00:00, 219.38batch/s, acc=1, loss=0.0595]"
          ]
        },
        {
          "output_type": "display_data",
          "data": {
            "text/plain": [
              "<Figure size 640x480 with 1 Axes>"
            ],
            "image/png": "[encoded data removed]"
          },
          "metadata": {}
        },
        {
          "output_type": "display_data",
          "data": {
            "text/plain": [
              "<Figure size 640x480 with 1 Axes>"
            ],
            "image/png": "[encoded data removed]"
          },
          "metadata": {}
        }
      ]
    },
    {
      "cell_type": "markdown",
      "source": [
        "# Summary\n",
        "\n",
        "Let's define some things:\n",
        "\n",
        "$i$ = number of inputs\n",
        "\n",
        "Quadric neuron: $2i+1$ parameters, $3i$ multiplications, $2i+1$ additions\n",
        "\n",
        "Linear neuron: $i+1$ parameters, $i$ multiplications, $i+1$ additions\n",
        "\n",
        "$n$ = number of units in layer\n",
        "\n",
        "$p$ = number of parameters (weights and bias)\n",
        "\n",
        "$m$ = number of multiplications\n",
        "\n",
        "$a$ = number of additions\n",
        "\n",
        "Quadric layer: $p = n(2i+1)$, $m = n(3i)$, $a = n(2i+1)$\n",
        "\n",
        "Linear layer: $p = n(i+1)$, $m = ni$, $a = n(i+1)$\n",
        "\n",
        "Now let's compare the complexity of above models:\n",
        "\n",
        "Linear model:\n",
        " - linear hidden layer with 4 inputs and 8 units: $p_h = 40$, $m_h = 32$, $a_h = 40$\n",
        " - linear output layer with 8 inputs and 3 units: $p_o = 27$, $m_o = 24$, $a_o =27$\n",
        " - total: $p = 67$, $m = 56$, $a = 67$\n",
        "\n",
        "Quadric (hybrid) model:\n",
        "- quadric hidden layer with 4 inputs and 3 units: $p_h = 27$, $m_h = 36$, $a_h = 27$\n",
        "- linear output layer with 3 inputs and 3 units: $p_o = 12$, $m_o = 9$, $a_o = 12$\n",
        "- total: $p = 39$, $m = 45$, $a = 39$\n",
        "\n",
        "The results are by no means a scientific study but even in this small example we can see the following reductions:\n",
        "\n",
        "- reduction in model size (parameters): ~42%\n",
        "- reduction in multiplications: ~20%\n",
        "- reduction in additions: ~42%\n",
        "\n",
        "This is very encouraging for further studies in all kinds of applications like vision, transformers, GAN, LLMs etc. where we encounter many more layers and many more units per layer and will be able to significantly reduce model size by introducing quadric layers and hybrid models or even purely quadric models.\n",
        "\n",
        "In my humble opinion deep quadric learning is a valuable contribution towards much smaller models of the same level of performance with all the advantages mentioned in Episode 1 like democratization of access to AI, reduction and therefore decentralization of compute power, smaller carbon foot print etc.\n",
        "\n"
      ],
      "metadata": {
        "id": "36qo997EYKwP"
      }
    }
  ]
}
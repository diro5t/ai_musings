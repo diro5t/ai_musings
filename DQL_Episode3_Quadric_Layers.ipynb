{
  "nbformat": 4,
  "nbformat_minor": 0,
  "metadata": {
    "colab": {
      "provenance": [],
      "authorship_tag": "ABX9TyMNOMevPPyf05jzExhtbnoO",
      "include_colab_link": true
    },
    "kernelspec": {
      "name": "python3",
      "display_name": "Python 3"
    },
    "language_info": {
      "name": "python"
    }
  },
  "cells": [
    {
      "cell_type": "markdown",
      "metadata": {
        "id": "view-in-github",
        "colab_type": "text"
      },
      "source": [
        "<a href=\"https://colab.research.google.com/github/diro5t/deep_quadric_learning/blob/main/DQL_Episode3_Quadric_Layers.ipynb\" target=\"_parent\"><img src=\"https://colab.research.google.com/assets/colab-badge.svg\" alt=\"Open In Colab\"/></a>"
      ]
    },
    {
      "cell_type": "markdown",
      "source": [
        "#Deep Quadric Learning - A tale in 3 episodes\n",
        "## Episode 3: Quadric Layers\n",
        "### (C) Dirk Roeckmann 2023\n",
        "\n",
        "https://scholar.google.com/citations?hl=en&user=hamuGh4AAAAJ"
      ],
      "metadata": {
        "id": "w3qE1JwTJGgk"
      }
    },
    {
      "cell_type": "markdown",
      "source": [
        "# Introduction\n",
        "In the last episode I established that classification problems where layers of linear units are necessary can be solved with a single quadric neuron which is proof of a significant reduction of model size and parameters. In this episode I will introduce quadric layers in PyTorch exemplified in a custom layer class and apply it to the IRIS dataset for a little demonstration in multi-class classification.\n",
        "\n"
      ],
      "metadata": {
        "id": "RxbaHI7YJMPI"
      }
    },
    {
      "cell_type": "code",
      "source": [
        "# get stuff needed for this episode\n",
        "import copy\n",
        "import matplotlib.pyplot as plt\n",
        "import numpy as np\n",
        "import pandas as pd\n",
        "import torch\n",
        "import torch.nn as nn\n",
        "import torch.optim as optim\n",
        "import tqdm\n",
        "from sklearn.model_selection import train_test_split\n",
        "from sklearn.preprocessing import OneHotEncoder\n",
        "import math\n",
        "from typing import Any\n",
        "from torch import Tensor\n",
        "from torch.nn.parameter import Parameter, UninitializedParameter"
      ],
      "metadata": {
        "id": "xWqKV8jxc0W1"
      },
      "execution_count": 7,
      "outputs": []
    },
    {
      "cell_type": "markdown",
      "source": [
        "# Custom Quadric Layer\n",
        "\n",
        "The quadric layer can be modeled straight-forward as a custom layer in PyTorch:"
      ],
      "metadata": {
        "id": "pezlBJzmKtgW"
      }
    },
    {
      "cell_type": "code",
      "source": [
        "class Quadric(nn.Module):\n",
        "    __constants__ = ['in_features', 'out_features']\n",
        "    in_features: int\n",
        "    out_features: int\n",
        "    qweight: Tensor\n",
        "    lweight: Tensor\n",
        "\n",
        "    def __init__(self, in_features: int, out_features: int, bias: bool = True,\n",
        "                 device=None, dtype=None) -> None:\n",
        "        factory_kwargs = {'device': device, 'dtype': dtype}\n",
        "        super().__init__()\n",
        "        self.in_features = in_features\n",
        "        self.out_features = out_features\n",
        "        # quadratic weights\n",
        "        self.qweight = Parameter(torch.empty((out_features, in_features), **factory_kwargs))\n",
        "        # linear weights\n",
        "        self.lweight = Parameter(torch.empty((out_features, in_features), **factory_kwargs))\n",
        "        # bias\n",
        "        if bias:\n",
        "            self.bias = Parameter(torch.empty(out_features, **factory_kwargs))\n",
        "        else:\n",
        "            self.register_parameter('bias', None)\n",
        "        self.reset_parameters()\n",
        "\n",
        "    def reset_parameters(self) -> None:\n",
        "        nn.init.kaiming_uniform_(self.qweight, a=math.sqrt(5))\n",
        "        nn.init.kaiming_uniform_(self.lweight, a=math.sqrt(5))\n",
        "        if self.bias is not None:\n",
        "            fan_in_q, _ = nn.init._calculate_fan_in_and_fan_out(self.qweight)\n",
        "            fan_in_l, _ = nn.init._calculate_fan_in_and_fan_out(self.lweight)\n",
        "            bound = 1 / math.sqrt(fan_in_l) if fan_in_l > 0 else 0\n",
        "            nn.init.uniform_(self.bias, -bound, bound)\n",
        "\n",
        "    def forward(self, input: Tensor) -> Tensor:\n",
        "        input_sqr = torch.mul(input, input)\n",
        "        qi = nn.functional.linear(input_sqr, self.qweight, None)\n",
        "        wib = nn.functional.linear(input, self.lweight, self.bias)\n",
        "        return torch.add(qi, wib)\n",
        "\n",
        "    def extra_repr(self) -> str:\n",
        "        return 'in_features={}, out_features={}, bias={}'.format(\n",
        "            self.in_features, self.out_features, self.bias is not None\n",
        "        )"
      ],
      "metadata": {
        "id": "jdPjyN_lLM3M"
      },
      "execution_count": 8,
      "outputs": []
    },
    {
      "cell_type": "markdown",
      "source": [
        "# IRIS Multi-Class Classification"
      ],
      "metadata": {
        "id": "ylQ15gsjf5t6"
      }
    },
    {
      "cell_type": "markdown",
      "source": [
        "## Linear Layers\n",
        "\n",
        "First let's classify the IRIS dataset with linear units:\n",
        "4 inputs, a 8-unit hidden layer and a 3-unit output layer\n",
        "\n",
        "This example code has been taken verbatim from:\n",
        "\n",
        "https://machinelearningmastery.com/building-a-multiclass-classification-model-in-pytorch/\n",
        "\n",
        "Training will be 200 epochs with a batch size of 5."
      ],
      "metadata": {
        "id": "9a4aFvdagQkN"
      }
    },
    {
      "cell_type": "code",
      "source": [
        "# read data and apply one-hot encoding\n",
        "data = pd.read_csv(\"sample_data/iris.csv\", header=None)\n",
        "X = data.iloc[:, 0:4]\n",
        "y = data.iloc[:, 4:]\n",
        "ohe = OneHotEncoder(handle_unknown='ignore', sparse_output=False).fit(y)\n",
        "y = ohe.transform(y)\n",
        "\n",
        "# convert pandas DataFrame (X) and numpy array (y) into PyTorch tensors\n",
        "X = torch.tensor(X.values, dtype=torch.float32)\n",
        "y = torch.tensor(y, dtype=torch.float32)\n",
        "\n",
        "# split\n",
        "X_train, X_test, y_train, y_test = train_test_split(X, y, train_size=0.7, shuffle=True)\n",
        "\n",
        "class Multiclass(nn.Module):\n",
        "    def __init__(self):\n",
        "        super().__init__()\n",
        "        self.hidden = nn.Linear(4, 8)\n",
        "        self.act = nn.ReLU()\n",
        "        self.output = nn.Linear(8, 3)\n",
        "\n",
        "    def forward(self, x):\n",
        "        x = self.act(self.hidden(x))\n",
        "        x = self.output(x)\n",
        "        return x\n",
        "\n",
        "# loss metric and optimizer\n",
        "model = Multiclass()\n",
        "loss_fn = nn.CrossEntropyLoss()\n",
        "optimizer = optim.Adam(model.parameters(), lr=0.001)\n",
        "\n",
        "# prepare model and training parameters\n",
        "n_epochs = 200\n",
        "batch_size = 5\n",
        "batches_per_epoch = len(X_train) // batch_size\n",
        "\n",
        "best_acc = - np.inf   # init to negative infinity\n",
        "best_weights = None\n",
        "train_loss_hist = []\n",
        "train_acc_hist = []\n",
        "test_loss_hist = []\n",
        "test_acc_hist = []\n",
        "\n",
        "# training loop\n",
        "for epoch in range(n_epochs):\n",
        "    epoch_loss = []\n",
        "    epoch_acc = []\n",
        "    # set model in training mode and run through each batch\n",
        "    model.train()\n",
        "    with tqdm.trange(batches_per_epoch, unit=\"batch\", mininterval=0) as bar:\n",
        "        bar.set_description(f\"Epoch {epoch}\")\n",
        "        for i in bar:\n",
        "            # take a batch\n",
        "            start = i * batch_size\n",
        "            X_batch = X_train[start:start+batch_size]\n",
        "            y_batch = y_train[start:start+batch_size]\n",
        "            # forward pass\n",
        "            y_pred = model(X_batch)\n",
        "            loss = loss_fn(y_pred, y_batch)\n",
        "            # backward pass\n",
        "            optimizer.zero_grad()\n",
        "            loss.backward()\n",
        "            # update weights\n",
        "            optimizer.step()\n",
        "            # compute and store metrics\n",
        "            acc = (torch.argmax(y_pred, 1) == torch.argmax(y_batch, 1)).float().mean()\n",
        "            epoch_loss.append(float(loss))\n",
        "            epoch_acc.append(float(acc))\n",
        "            bar.set_postfix(\n",
        "                loss=float(loss),\n",
        "                acc=float(acc)\n",
        "            )\n",
        "    # set model in evaluation mode and run through the test set\n",
        "    model.eval()\n",
        "    y_pred = model(X_test)\n",
        "    ce = loss_fn(y_pred, y_test)\n",
        "    acc = (torch.argmax(y_pred, 1) == torch.argmax(y_test, 1)).float().mean()\n",
        "    ce = float(ce)\n",
        "    acc = float(acc)\n",
        "    train_loss_hist.append(np.mean(epoch_loss))\n",
        "    train_acc_hist.append(np.mean(epoch_acc))\n",
        "    test_loss_hist.append(ce)\n",
        "    test_acc_hist.append(acc)\n",
        "    if acc > best_acc:\n",
        "        best_acc = acc\n",
        "        best_weights = copy.deepcopy(model.state_dict())\n",
        "    print(f\"Epoch {epoch} validation: Cross-entropy={ce:.2f}, Accuracy={acc*100:.1f}%\")\n",
        "\n",
        "# Restore best model\n",
        "model.load_state_dict(best_weights)\n",
        "\n",
        "# Plot the loss and accuracy\n",
        "plt.plot(train_loss_hist, label=\"train\")\n",
        "plt.plot(test_loss_hist, label=\"test\")\n",
        "plt.xlabel(\"epochs\")\n",
        "plt.ylabel(\"cross entropy\")\n",
        "plt.legend()\n",
        "plt.show()\n",
        "\n",
        "plt.plot(train_acc_hist, label=\"train\")\n",
        "plt.plot(test_acc_hist, label=\"test\")\n",
        "plt.xlabel(\"epochs\")\n",
        "plt.ylabel(\"accuracy\")\n",
        "plt.legend()\n",
        "plt.show()"
      ],
      "metadata": {
        "id": "VC66t32wcLyc",
        "colab": {
          "base_uri": "https://localhost:8080/",
          "height": 1000
        },
        "outputId": "998672e2-f713-4cda-a26c-26e72ed17d49"
      },
      "execution_count": 9,
      "outputs": [
        {
          "output_type": "stream",
          "name": "stderr",
          "text": [
            "Epoch 0: 100%|██████████| 21/21 [00:00<00:00, 186.00batch/s, acc=0.2, loss=1.74]\n"
          ]
        },
        {
          "output_type": "stream",
          "name": "stdout",
          "text": [
            "Epoch 0 validation: Cross-entropy=1.53, Accuracy=31.1%\n"
          ]
        },
        {
          "output_type": "stream",
          "name": "stderr",
          "text": [
            "Epoch 1: 100%|██████████| 21/21 [00:00<00:00, 244.51batch/s, acc=0.2, loss=1.56]\n"
          ]
        },
        {
          "output_type": "stream",
          "name": "stdout",
          "text": [
            "Epoch 1 validation: Cross-entropy=1.38, Accuracy=31.1%\n"
          ]
        },
        {
          "output_type": "stream",
          "name": "stderr",
          "text": [
            "Epoch 2: 100%|██████████| 21/21 [00:00<00:00, 200.31batch/s, acc=0.2, loss=1.43]\n"
          ]
        },
        {
          "output_type": "stream",
          "name": "stdout",
          "text": [
            "Epoch 2 validation: Cross-entropy=1.28, Accuracy=31.1%\n"
          ]
        },
        {
          "output_type": "stream",
          "name": "stderr",
          "text": [
            "Epoch 3: 100%|██████████| 21/21 [00:00<00:00, 204.29batch/s, acc=0.2, loss=1.33]\n"
          ]
        },
        {
          "output_type": "stream",
          "name": "stdout",
          "text": [
            "Epoch 3 validation: Cross-entropy=1.22, Accuracy=31.1%\n"
          ]
        },
        {
          "output_type": "stream",
          "name": "stderr",
          "text": [
            "Epoch 4: 100%|██████████| 21/21 [00:00<00:00, 184.25batch/s, acc=0.2, loss=1.26]\n"
          ]
        },
        {
          "output_type": "stream",
          "name": "stdout",
          "text": [
            "Epoch 4 validation: Cross-entropy=1.17, Accuracy=31.1%\n"
          ]
        },
        {
          "output_type": "stream",
          "name": "stderr",
          "text": [
            "Epoch 5: 100%|██████████| 21/21 [00:00<00:00, 200.57batch/s, acc=0.2, loss=1.21]\n"
          ]
        },
        {
          "output_type": "stream",
          "name": "stdout",
          "text": [
            "Epoch 5 validation: Cross-entropy=1.14, Accuracy=31.1%\n"
          ]
        },
        {
          "output_type": "stream",
          "name": "stderr",
          "text": [
            "Epoch 6: 100%|██████████| 21/21 [00:00<00:00, 197.12batch/s, acc=0.2, loss=1.17]\n"
          ]
        },
        {
          "output_type": "stream",
          "name": "stdout",
          "text": [
            "Epoch 6 validation: Cross-entropy=1.11, Accuracy=31.1%\n"
          ]
        },
        {
          "output_type": "stream",
          "name": "stderr",
          "text": [
            "Epoch 7: 100%|██████████| 21/21 [00:00<00:00, 152.38batch/s, acc=0.2, loss=1.14]\n"
          ]
        },
        {
          "output_type": "stream",
          "name": "stdout",
          "text": [
            "Epoch 7 validation: Cross-entropy=1.09, Accuracy=31.1%\n"
          ]
        },
        {
          "output_type": "stream",
          "name": "stderr",
          "text": [
            "Epoch 8: 100%|██████████| 21/21 [00:00<00:00, 43.53batch/s, acc=0.2, loss=1.12]\n"
          ]
        },
        {
          "output_type": "stream",
          "name": "stdout",
          "text": [
            "Epoch 8 validation: Cross-entropy=1.07, Accuracy=31.1%\n"
          ]
        },
        {
          "output_type": "stream",
          "name": "stderr",
          "text": [
            "Epoch 9: 100%|██████████| 21/21 [00:00<00:00, 135.35batch/s, acc=0.2, loss=1.1]\n"
          ]
        },
        {
          "output_type": "stream",
          "name": "stdout",
          "text": [
            "Epoch 9 validation: Cross-entropy=1.06, Accuracy=31.1%\n"
          ]
        },
        {
          "output_type": "stream",
          "name": "stderr",
          "text": [
            "Epoch 10: 100%|██████████| 21/21 [00:00<00:00, 124.74batch/s, acc=0.2, loss=1.08]\n"
          ]
        },
        {
          "output_type": "stream",
          "name": "stdout",
          "text": [
            "Epoch 10 validation: Cross-entropy=1.05, Accuracy=31.1%\n"
          ]
        },
        {
          "output_type": "stream",
          "name": "stderr",
          "text": [
            "Epoch 11: 100%|██████████| 21/21 [00:00<00:00, 147.23batch/s, acc=0.4, loss=1.06]\n"
          ]
        },
        {
          "output_type": "stream",
          "name": "stdout",
          "text": [
            "Epoch 11 validation: Cross-entropy=1.04, Accuracy=28.9%\n"
          ]
        },
        {
          "output_type": "stream",
          "name": "stderr",
          "text": [
            "Epoch 12: 100%|██████████| 21/21 [00:00<00:00, 139.12batch/s, acc=0.2, loss=1.05]\n"
          ]
        },
        {
          "output_type": "stream",
          "name": "stdout",
          "text": [
            "Epoch 12 validation: Cross-entropy=1.03, Accuracy=28.9%\n"
          ]
        },
        {
          "output_type": "stream",
          "name": "stderr",
          "text": [
            "Epoch 13: 100%|██████████| 21/21 [00:00<00:00, 156.49batch/s, acc=0.2, loss=1.04]\n"
          ]
        },
        {
          "output_type": "stream",
          "name": "stdout",
          "text": [
            "Epoch 13 validation: Cross-entropy=1.02, Accuracy=37.8%\n"
          ]
        },
        {
          "output_type": "stream",
          "name": "stderr",
          "text": [
            "Epoch 14: 100%|██████████| 21/21 [00:00<00:00, 143.96batch/s, acc=0.2, loss=1.03]\n"
          ]
        },
        {
          "output_type": "stream",
          "name": "stdout",
          "text": [
            "Epoch 14 validation: Cross-entropy=1.01, Accuracy=35.6%\n"
          ]
        },
        {
          "output_type": "stream",
          "name": "stderr",
          "text": [
            "Epoch 15: 100%|██████████| 21/21 [00:00<00:00, 146.40batch/s, acc=0.4, loss=1.02]\n"
          ]
        },
        {
          "output_type": "stream",
          "name": "stdout",
          "text": [
            "Epoch 15 validation: Cross-entropy=1.00, Accuracy=33.3%\n"
          ]
        },
        {
          "output_type": "stream",
          "name": "stderr",
          "text": [
            "Epoch 16: 100%|██████████| 21/21 [00:00<00:00, 143.41batch/s, acc=0.4, loss=1]\n"
          ]
        },
        {
          "output_type": "stream",
          "name": "stdout",
          "text": [
            "Epoch 16 validation: Cross-entropy=0.99, Accuracy=33.3%\n"
          ]
        },
        {
          "output_type": "stream",
          "name": "stderr",
          "text": [
            "Epoch 17: 100%|██████████| 21/21 [00:00<00:00, 148.73batch/s, acc=0.4, loss=0.993]\n"
          ]
        },
        {
          "output_type": "stream",
          "name": "stdout",
          "text": [
            "Epoch 17 validation: Cross-entropy=0.99, Accuracy=35.6%\n"
          ]
        },
        {
          "output_type": "stream",
          "name": "stderr",
          "text": [
            "Epoch 18: 100%|██████████| 21/21 [00:00<00:00, 116.00batch/s, acc=0.4, loss=0.982]\n"
          ]
        },
        {
          "output_type": "stream",
          "name": "stdout",
          "text": [
            "Epoch 18 validation: Cross-entropy=0.98, Accuracy=35.6%\n"
          ]
        },
        {
          "output_type": "stream",
          "name": "stderr",
          "text": [
            "Epoch 19: 100%|██████████| 21/21 [00:00<00:00, 198.23batch/s, acc=0.4, loss=0.971]\n"
          ]
        },
        {
          "output_type": "stream",
          "name": "stdout",
          "text": [
            "Epoch 19 validation: Cross-entropy=0.96, Accuracy=42.2%\n"
          ]
        },
        {
          "output_type": "stream",
          "name": "stderr",
          "text": [
            "Epoch 20: 100%|██████████| 21/21 [00:00<00:00, 192.44batch/s, acc=0.4, loss=0.959]\n"
          ]
        },
        {
          "output_type": "stream",
          "name": "stdout",
          "text": [
            "Epoch 20 validation: Cross-entropy=0.95, Accuracy=53.3%\n"
          ]
        },
        {
          "output_type": "stream",
          "name": "stderr",
          "text": [
            "Epoch 21: 100%|██████████| 21/21 [00:00<00:00, 204.32batch/s, acc=0.4, loss=0.947]\n"
          ]
        },
        {
          "output_type": "stream",
          "name": "stdout",
          "text": [
            "Epoch 21 validation: Cross-entropy=0.94, Accuracy=57.8%\n"
          ]
        },
        {
          "output_type": "stream",
          "name": "stderr",
          "text": [
            "Epoch 22: 100%|██████████| 21/21 [00:00<00:00, 214.14batch/s, acc=0.8, loss=0.934]\n"
          ]
        },
        {
          "output_type": "stream",
          "name": "stdout",
          "text": [
            "Epoch 22 validation: Cross-entropy=0.93, Accuracy=64.4%\n"
          ]
        },
        {
          "output_type": "stream",
          "name": "stderr",
          "text": [
            "Epoch 23: 100%|██████████| 21/21 [00:00<00:00, 205.03batch/s, acc=0.8, loss=0.921]\n"
          ]
        },
        {
          "output_type": "stream",
          "name": "stdout",
          "text": [
            "Epoch 23 validation: Cross-entropy=0.92, Accuracy=68.9%\n"
          ]
        },
        {
          "output_type": "stream",
          "name": "stderr",
          "text": [
            "Epoch 24: 100%|██████████| 21/21 [00:00<00:00, 202.74batch/s, acc=0.8, loss=0.907]\n"
          ]
        },
        {
          "output_type": "stream",
          "name": "stdout",
          "text": [
            "Epoch 24 validation: Cross-entropy=0.91, Accuracy=68.9%\n"
          ]
        },
        {
          "output_type": "stream",
          "name": "stderr",
          "text": [
            "Epoch 25: 100%|██████████| 21/21 [00:00<00:00, 224.32batch/s, acc=0.8, loss=0.893]\n"
          ]
        },
        {
          "output_type": "stream",
          "name": "stdout",
          "text": [
            "Epoch 25 validation: Cross-entropy=0.89, Accuracy=68.9%\n"
          ]
        },
        {
          "output_type": "stream",
          "name": "stderr",
          "text": [
            "Epoch 26: 100%|██████████| 21/21 [00:00<00:00, 218.68batch/s, acc=0.8, loss=0.879]\n"
          ]
        },
        {
          "output_type": "stream",
          "name": "stdout",
          "text": [
            "Epoch 26 validation: Cross-entropy=0.88, Accuracy=68.9%\n"
          ]
        },
        {
          "output_type": "stream",
          "name": "stderr",
          "text": [
            "Epoch 27: 100%|██████████| 21/21 [00:00<00:00, 226.08batch/s, acc=0.8, loss=0.864]\n"
          ]
        },
        {
          "output_type": "stream",
          "name": "stdout",
          "text": [
            "Epoch 27 validation: Cross-entropy=0.86, Accuracy=68.9%\n"
          ]
        },
        {
          "output_type": "stream",
          "name": "stderr",
          "text": [
            "Epoch 28: 100%|██████████| 21/21 [00:00<00:00, 215.17batch/s, acc=0.8, loss=0.848]\n"
          ]
        },
        {
          "output_type": "stream",
          "name": "stdout",
          "text": [
            "Epoch 28 validation: Cross-entropy=0.85, Accuracy=68.9%\n"
          ]
        },
        {
          "output_type": "stream",
          "name": "stderr",
          "text": [
            "Epoch 29: 100%|██████████| 21/21 [00:00<00:00, 80.61batch/s, acc=0.8, loss=0.833] \n"
          ]
        },
        {
          "output_type": "stream",
          "name": "stdout",
          "text": [
            "Epoch 29 validation: Cross-entropy=0.84, Accuracy=68.9%\n"
          ]
        },
        {
          "output_type": "stream",
          "name": "stderr",
          "text": [
            "Epoch 30: 100%|██████████| 21/21 [00:00<00:00, 155.74batch/s, acc=0.8, loss=0.817]\n"
          ]
        },
        {
          "output_type": "stream",
          "name": "stdout",
          "text": [
            "Epoch 30 validation: Cross-entropy=0.82, Accuracy=71.1%\n"
          ]
        },
        {
          "output_type": "stream",
          "name": "stderr",
          "text": [
            "Epoch 31: 100%|██████████| 21/21 [00:00<00:00, 229.56batch/s, acc=0.8, loss=0.801]\n"
          ]
        },
        {
          "output_type": "stream",
          "name": "stdout",
          "text": [
            "Epoch 31 validation: Cross-entropy=0.81, Accuracy=71.1%\n"
          ]
        },
        {
          "output_type": "stream",
          "name": "stderr",
          "text": [
            "Epoch 32: 100%|██████████| 21/21 [00:00<00:00, 228.19batch/s, acc=0.8, loss=0.786]\n"
          ]
        },
        {
          "output_type": "stream",
          "name": "stdout",
          "text": [
            "Epoch 32 validation: Cross-entropy=0.79, Accuracy=71.1%\n"
          ]
        },
        {
          "output_type": "stream",
          "name": "stderr",
          "text": [
            "Epoch 33: 100%|██████████| 21/21 [00:00<00:00, 218.63batch/s, acc=0.8, loss=0.771]\n"
          ]
        },
        {
          "output_type": "stream",
          "name": "stdout",
          "text": [
            "Epoch 33 validation: Cross-entropy=0.78, Accuracy=71.1%\n"
          ]
        },
        {
          "output_type": "stream",
          "name": "stderr",
          "text": [
            "Epoch 34: 100%|██████████| 21/21 [00:00<00:00, 80.79batch/s, acc=0.8, loss=0.756]\n"
          ]
        },
        {
          "output_type": "stream",
          "name": "stdout",
          "text": [
            "Epoch 34 validation: Cross-entropy=0.77, Accuracy=71.1%\n"
          ]
        },
        {
          "output_type": "stream",
          "name": "stderr",
          "text": [
            "Epoch 35: 100%|██████████| 21/21 [00:00<00:00, 197.03batch/s, acc=0.8, loss=0.741]\n"
          ]
        },
        {
          "output_type": "stream",
          "name": "stdout",
          "text": [
            "Epoch 35 validation: Cross-entropy=0.75, Accuracy=71.1%\n"
          ]
        },
        {
          "output_type": "stream",
          "name": "stderr",
          "text": [
            "Epoch 36: 100%|██████████| 21/21 [00:00<00:00, 201.40batch/s, acc=0.8, loss=0.728]\n"
          ]
        },
        {
          "output_type": "stream",
          "name": "stdout",
          "text": [
            "Epoch 36 validation: Cross-entropy=0.74, Accuracy=71.1%\n"
          ]
        },
        {
          "output_type": "stream",
          "name": "stderr",
          "text": [
            "Epoch 37: 100%|██████████| 21/21 [00:00<00:00, 213.52batch/s, acc=0.8, loss=0.715]\n"
          ]
        },
        {
          "output_type": "stream",
          "name": "stdout",
          "text": [
            "Epoch 37 validation: Cross-entropy=0.73, Accuracy=71.1%\n"
          ]
        },
        {
          "output_type": "stream",
          "name": "stderr",
          "text": [
            "Epoch 38: 100%|██████████| 21/21 [00:00<00:00, 201.40batch/s, acc=0.8, loss=0.702]\n"
          ]
        },
        {
          "output_type": "stream",
          "name": "stdout",
          "text": [
            "Epoch 38 validation: Cross-entropy=0.72, Accuracy=71.1%\n"
          ]
        },
        {
          "output_type": "stream",
          "name": "stderr",
          "text": [
            "Epoch 39: 100%|██████████| 21/21 [00:00<00:00, 190.74batch/s, acc=0.8, loss=0.69]\n"
          ]
        },
        {
          "output_type": "stream",
          "name": "stdout",
          "text": [
            "Epoch 39 validation: Cross-entropy=0.71, Accuracy=73.3%\n"
          ]
        },
        {
          "output_type": "stream",
          "name": "stderr",
          "text": [
            "Epoch 40: 100%|██████████| 21/21 [00:00<00:00, 65.91batch/s, acc=0.8, loss=0.678] \n"
          ]
        },
        {
          "output_type": "stream",
          "name": "stdout",
          "text": [
            "Epoch 40 validation: Cross-entropy=0.69, Accuracy=73.3%\n"
          ]
        },
        {
          "output_type": "stream",
          "name": "stderr",
          "text": [
            "Epoch 41: 100%|██████████| 21/21 [00:00<00:00, 224.36batch/s, acc=0.8, loss=0.666]\n"
          ]
        },
        {
          "output_type": "stream",
          "name": "stdout",
          "text": [
            "Epoch 41 validation: Cross-entropy=0.68, Accuracy=73.3%\n"
          ]
        },
        {
          "output_type": "stream",
          "name": "stderr",
          "text": [
            "Epoch 42: 100%|██████████| 21/21 [00:00<00:00, 217.58batch/s, acc=0.8, loss=0.654]\n"
          ]
        },
        {
          "output_type": "stream",
          "name": "stdout",
          "text": [
            "Epoch 42 validation: Cross-entropy=0.67, Accuracy=73.3%\n"
          ]
        },
        {
          "output_type": "stream",
          "name": "stderr",
          "text": [
            "Epoch 43: 100%|██████████| 21/21 [00:00<00:00, 213.39batch/s, acc=0.8, loss=0.643]\n"
          ]
        },
        {
          "output_type": "stream",
          "name": "stdout",
          "text": [
            "Epoch 43 validation: Cross-entropy=0.66, Accuracy=73.3%\n"
          ]
        },
        {
          "output_type": "stream",
          "name": "stderr",
          "text": [
            "Epoch 44: 100%|██████████| 21/21 [00:00<00:00, 199.38batch/s, acc=0.8, loss=0.632]\n"
          ]
        },
        {
          "output_type": "stream",
          "name": "stdout",
          "text": [
            "Epoch 44 validation: Cross-entropy=0.65, Accuracy=73.3%\n"
          ]
        },
        {
          "output_type": "stream",
          "name": "stderr",
          "text": [
            "Epoch 45: 100%|██████████| 21/21 [00:00<00:00, 78.11batch/s, acc=0.8, loss=0.621] \n"
          ]
        },
        {
          "output_type": "stream",
          "name": "stdout",
          "text": [
            "Epoch 45 validation: Cross-entropy=0.64, Accuracy=73.3%\n"
          ]
        },
        {
          "output_type": "stream",
          "name": "stderr",
          "text": [
            "Epoch 46: 100%|██████████| 21/21 [00:00<00:00, 238.98batch/s, acc=0.8, loss=0.61]\n"
          ]
        },
        {
          "output_type": "stream",
          "name": "stdout",
          "text": [
            "Epoch 46 validation: Cross-entropy=0.63, Accuracy=73.3%\n"
          ]
        },
        {
          "output_type": "stream",
          "name": "stderr",
          "text": [
            "Epoch 47: 100%|██████████| 21/21 [00:00<00:00, 244.04batch/s, acc=0.8, loss=0.6]\n"
          ]
        },
        {
          "output_type": "stream",
          "name": "stdout",
          "text": [
            "Epoch 47 validation: Cross-entropy=0.62, Accuracy=73.3%\n"
          ]
        },
        {
          "output_type": "stream",
          "name": "stderr",
          "text": [
            "Epoch 48: 100%|██████████| 21/21 [00:00<00:00, 237.48batch/s, acc=0.8, loss=0.59]\n"
          ]
        },
        {
          "output_type": "stream",
          "name": "stdout",
          "text": [
            "Epoch 48 validation: Cross-entropy=0.61, Accuracy=73.3%\n"
          ]
        },
        {
          "output_type": "stream",
          "name": "stderr",
          "text": [
            "Epoch 49: 100%|██████████| 21/21 [00:00<00:00, 230.04batch/s, acc=0.8, loss=0.58]\n"
          ]
        },
        {
          "output_type": "stream",
          "name": "stdout",
          "text": [
            "Epoch 49 validation: Cross-entropy=0.60, Accuracy=75.6%\n"
          ]
        },
        {
          "output_type": "stream",
          "name": "stderr",
          "text": [
            "Epoch 50: 100%|██████████| 21/21 [00:00<00:00, 80.11batch/s, acc=0.8, loss=0.571] \n"
          ]
        },
        {
          "output_type": "stream",
          "name": "stdout",
          "text": [
            "Epoch 50 validation: Cross-entropy=0.59, Accuracy=75.6%\n"
          ]
        },
        {
          "output_type": "stream",
          "name": "stderr",
          "text": [
            "Epoch 51: 100%|██████████| 21/21 [00:00<00:00, 215.92batch/s, acc=0.8, loss=0.562]\n"
          ]
        },
        {
          "output_type": "stream",
          "name": "stdout",
          "text": [
            "Epoch 51 validation: Cross-entropy=0.59, Accuracy=75.6%\n"
          ]
        },
        {
          "output_type": "stream",
          "name": "stderr",
          "text": [
            "Epoch 52: 100%|██████████| 21/21 [00:00<00:00, 228.28batch/s, acc=0.8, loss=0.554]\n"
          ]
        },
        {
          "output_type": "stream",
          "name": "stdout",
          "text": [
            "Epoch 52 validation: Cross-entropy=0.58, Accuracy=75.6%\n"
          ]
        },
        {
          "output_type": "stream",
          "name": "stderr",
          "text": [
            "Epoch 53: 100%|██████████| 21/21 [00:00<00:00, 223.32batch/s, acc=0.8, loss=0.546]\n"
          ]
        },
        {
          "output_type": "stream",
          "name": "stdout",
          "text": [
            "Epoch 53 validation: Cross-entropy=0.57, Accuracy=75.6%\n"
          ]
        },
        {
          "output_type": "stream",
          "name": "stderr",
          "text": [
            "Epoch 54: 100%|██████████| 21/21 [00:00<00:00, 230.95batch/s, acc=0.8, loss=0.538]\n"
          ]
        },
        {
          "output_type": "stream",
          "name": "stdout",
          "text": [
            "Epoch 54 validation: Cross-entropy=0.56, Accuracy=77.8%\n"
          ]
        },
        {
          "output_type": "stream",
          "name": "stderr",
          "text": [
            "Epoch 55: 100%|██████████| 21/21 [00:00<00:00, 82.80batch/s, acc=0.8, loss=0.53]\n"
          ]
        },
        {
          "output_type": "stream",
          "name": "stdout",
          "text": [
            "Epoch 55 validation: Cross-entropy=0.55, Accuracy=82.2%\n"
          ]
        },
        {
          "output_type": "stream",
          "name": "stderr",
          "text": [
            "Epoch 56: 100%|██████████| 21/21 [00:00<00:00, 237.84batch/s, acc=0.8, loss=0.523]\n"
          ]
        },
        {
          "output_type": "stream",
          "name": "stdout",
          "text": [
            "Epoch 56 validation: Cross-entropy=0.55, Accuracy=82.2%\n"
          ]
        },
        {
          "output_type": "stream",
          "name": "stderr",
          "text": [
            "Epoch 57: 100%|██████████| 21/21 [00:00<00:00, 260.34batch/s, acc=0.8, loss=0.515]\n"
          ]
        },
        {
          "output_type": "stream",
          "name": "stdout",
          "text": [
            "Epoch 57 validation: Cross-entropy=0.54, Accuracy=82.2%\n"
          ]
        },
        {
          "output_type": "stream",
          "name": "stderr",
          "text": [
            "Epoch 58: 100%|██████████| 21/21 [00:00<00:00, 214.83batch/s, acc=0.8, loss=0.509]\n"
          ]
        },
        {
          "output_type": "stream",
          "name": "stdout",
          "text": [
            "Epoch 58 validation: Cross-entropy=0.53, Accuracy=84.4%\n"
          ]
        },
        {
          "output_type": "stream",
          "name": "stderr",
          "text": [
            "Epoch 59: 100%|██████████| 21/21 [00:00<00:00, 186.19batch/s, acc=0.8, loss=0.502]\n"
          ]
        },
        {
          "output_type": "stream",
          "name": "stdout",
          "text": [
            "Epoch 59 validation: Cross-entropy=0.53, Accuracy=84.4%\n"
          ]
        },
        {
          "output_type": "stream",
          "name": "stderr",
          "text": [
            "Epoch 60: 100%|██████████| 21/21 [00:00<00:00, 230.27batch/s, acc=0.8, loss=0.496]\n"
          ]
        },
        {
          "output_type": "stream",
          "name": "stdout",
          "text": [
            "Epoch 60 validation: Cross-entropy=0.52, Accuracy=86.7%\n"
          ]
        },
        {
          "output_type": "stream",
          "name": "stderr",
          "text": [
            "Epoch 61: 100%|██████████| 21/21 [00:00<00:00, 83.50batch/s, acc=0.8, loss=0.49] \n"
          ]
        },
        {
          "output_type": "stream",
          "name": "stdout",
          "text": [
            "Epoch 61 validation: Cross-entropy=0.52, Accuracy=86.7%\n"
          ]
        },
        {
          "output_type": "stream",
          "name": "stderr",
          "text": [
            "Epoch 62: 100%|██████████| 21/21 [00:00<00:00, 252.93batch/s, acc=0.8, loss=0.484]\n"
          ]
        },
        {
          "output_type": "stream",
          "name": "stdout",
          "text": [
            "Epoch 62 validation: Cross-entropy=0.51, Accuracy=86.7%\n"
          ]
        },
        {
          "output_type": "stream",
          "name": "stderr",
          "text": [
            "Epoch 63: 100%|██████████| 21/21 [00:00<00:00, 225.16batch/s, acc=0.8, loss=0.478]\n"
          ]
        },
        {
          "output_type": "stream",
          "name": "stdout",
          "text": [
            "Epoch 63 validation: Cross-entropy=0.50, Accuracy=86.7%\n"
          ]
        },
        {
          "output_type": "stream",
          "name": "stderr",
          "text": [
            "Epoch 64: 100%|██████████| 21/21 [00:00<00:00, 235.22batch/s, acc=0.8, loss=0.473]\n"
          ]
        },
        {
          "output_type": "stream",
          "name": "stdout",
          "text": [
            "Epoch 64 validation: Cross-entropy=0.50, Accuracy=86.7%\n"
          ]
        },
        {
          "output_type": "stream",
          "name": "stderr",
          "text": [
            "Epoch 65: 100%|██████████| 21/21 [00:00<00:00, 240.81batch/s, acc=0.8, loss=0.468]\n"
          ]
        },
        {
          "output_type": "stream",
          "name": "stdout",
          "text": [
            "Epoch 65 validation: Cross-entropy=0.49, Accuracy=86.7%\n"
          ]
        },
        {
          "output_type": "stream",
          "name": "stderr",
          "text": [
            "Epoch 66: 100%|██████████| 21/21 [00:00<00:00, 80.65batch/s, acc=0.8, loss=0.463] \n"
          ]
        },
        {
          "output_type": "stream",
          "name": "stdout",
          "text": [
            "Epoch 66 validation: Cross-entropy=0.49, Accuracy=86.7%\n"
          ]
        },
        {
          "output_type": "stream",
          "name": "stderr",
          "text": [
            "Epoch 67: 100%|██████████| 21/21 [00:00<00:00, 215.73batch/s, acc=0.8, loss=0.458]\n"
          ]
        },
        {
          "output_type": "stream",
          "name": "stdout",
          "text": [
            "Epoch 67 validation: Cross-entropy=0.48, Accuracy=88.9%\n"
          ]
        },
        {
          "output_type": "stream",
          "name": "stderr",
          "text": [
            "Epoch 68: 100%|██████████| 21/21 [00:00<00:00, 187.14batch/s, acc=0.8, loss=0.453]\n"
          ]
        },
        {
          "output_type": "stream",
          "name": "stdout",
          "text": [
            "Epoch 68 validation: Cross-entropy=0.48, Accuracy=88.9%\n"
          ]
        },
        {
          "output_type": "stream",
          "name": "stderr",
          "text": [
            "Epoch 69: 100%|██████████| 21/21 [00:00<00:00, 217.18batch/s, acc=0.8, loss=0.449]\n"
          ]
        },
        {
          "output_type": "stream",
          "name": "stdout",
          "text": [
            "Epoch 69 validation: Cross-entropy=0.48, Accuracy=91.1%\n"
          ]
        },
        {
          "output_type": "stream",
          "name": "stderr",
          "text": [
            "Epoch 70: 100%|██████████| 21/21 [00:00<00:00, 232.54batch/s, acc=0.8, loss=0.444]\n"
          ]
        },
        {
          "output_type": "stream",
          "name": "stdout",
          "text": [
            "Epoch 70 validation: Cross-entropy=0.47, Accuracy=91.1%\n"
          ]
        },
        {
          "output_type": "stream",
          "name": "stderr",
          "text": [
            "Epoch 71: 100%|██████████| 21/21 [00:00<00:00, 82.07batch/s, acc=0.8, loss=0.44]\n"
          ]
        },
        {
          "output_type": "stream",
          "name": "stdout",
          "text": [
            "Epoch 71 validation: Cross-entropy=0.47, Accuracy=91.1%\n"
          ]
        },
        {
          "output_type": "stream",
          "name": "stderr",
          "text": [
            "Epoch 72: 100%|██████████| 21/21 [00:00<00:00, 210.27batch/s, acc=0.8, loss=0.436]\n"
          ]
        },
        {
          "output_type": "stream",
          "name": "stdout",
          "text": [
            "Epoch 72 validation: Cross-entropy=0.46, Accuracy=91.1%\n"
          ]
        },
        {
          "output_type": "stream",
          "name": "stderr",
          "text": [
            "Epoch 73:  38%|███▊      | 8/21 [00:00<00:00, 193.12batch/s, acc=0.8, loss=0.566]"
          ]
        },
        {
          "output_type": "stream",
          "name": "stdout",
          "text": [
            "Epoch 80 validation: Cross-entropy=0.43, Accuracy=93.3%\n"
          ]
        },
        {
          "output_type": "stream",
          "name": "stderr",
          "text": [
            "Epoch 81: 100%|██████████| 21/21 [00:00<00:00, 203.56batch/s, acc=1, loss=0.406]\n"
          ]
        },
        {
          "output_type": "stream",
          "name": "stdout",
          "text": [
            "Epoch 81 validation: Cross-entropy=0.43, Accuracy=93.3%\n"
          ]
        },
        {
          "output_type": "stream",
          "name": "stderr",
          "text": [
            "Epoch 82: 100%|██████████| 21/21 [00:00<00:00, 106.73batch/s, acc=1, loss=0.403]\n"
          ]
        },
        {
          "output_type": "stream",
          "name": "stdout",
          "text": [
            "Epoch 82 validation: Cross-entropy=0.43, Accuracy=93.3%\n"
          ]
        },
        {
          "output_type": "stream",
          "name": "stderr",
          "text": [
            "Epoch 83: 100%|██████████| 21/21 [00:00<00:00, 144.06batch/s, acc=1, loss=0.4]\n"
          ]
        },
        {
          "output_type": "stream",
          "name": "stdout",
          "text": [
            "Epoch 83 validation: Cross-entropy=0.43, Accuracy=93.3%\n"
          ]
        },
        {
          "output_type": "stream",
          "name": "stderr",
          "text": [
            "Epoch 84: 100%|██████████| 21/21 [00:00<00:00, 206.00batch/s, acc=1, loss=0.397]\n"
          ]
        },
        {
          "output_type": "stream",
          "name": "stdout",
          "text": [
            "Epoch 84 validation: Cross-entropy=0.42, Accuracy=93.3%\n"
          ]
        },
        {
          "output_type": "stream",
          "name": "stderr",
          "text": [
            "Epoch 85: 100%|██████████| 21/21 [00:00<00:00, 181.40batch/s, acc=1, loss=0.394]\n"
          ]
        },
        {
          "output_type": "stream",
          "name": "stdout",
          "text": [
            "Epoch 85 validation: Cross-entropy=0.42, Accuracy=93.3%\n"
          ]
        },
        {
          "output_type": "stream",
          "name": "stderr",
          "text": [
            "Epoch 86: 100%|██████████| 21/21 [00:00<00:00, 147.82batch/s, acc=1, loss=0.392]\n"
          ]
        },
        {
          "output_type": "stream",
          "name": "stdout",
          "text": [
            "Epoch 86 validation: Cross-entropy=0.42, Accuracy=93.3%\n"
          ]
        },
        {
          "output_type": "stream",
          "name": "stderr",
          "text": [
            "Epoch 87: 100%|██████████| 21/21 [00:00<00:00, 145.87batch/s, acc=1, loss=0.389]\n"
          ]
        },
        {
          "output_type": "stream",
          "name": "stdout",
          "text": [
            "Epoch 87 validation: Cross-entropy=0.41, Accuracy=93.3%\n"
          ]
        },
        {
          "output_type": "stream",
          "name": "stderr",
          "text": [
            "Epoch 88: 100%|██████████| 21/21 [00:00<00:00, 177.65batch/s, acc=1, loss=0.386]\n"
          ]
        },
        {
          "output_type": "stream",
          "name": "stdout",
          "text": [
            "Epoch 88 validation: Cross-entropy=0.41, Accuracy=93.3%\n"
          ]
        },
        {
          "output_type": "stream",
          "name": "stderr",
          "text": [
            "Epoch 89: 100%|██████████| 21/21 [00:00<00:00, 200.00batch/s, acc=1, loss=0.384]\n"
          ]
        },
        {
          "output_type": "stream",
          "name": "stdout",
          "text": [
            "Epoch 89 validation: Cross-entropy=0.41, Accuracy=95.6%\n"
          ]
        },
        {
          "output_type": "stream",
          "name": "stderr",
          "text": [
            "Epoch 90: 100%|██████████| 21/21 [00:00<00:00, 157.85batch/s, acc=1, loss=0.381]\n"
          ]
        },
        {
          "output_type": "stream",
          "name": "stdout",
          "text": [
            "Epoch 90 validation: Cross-entropy=0.41, Accuracy=95.6%\n"
          ]
        },
        {
          "output_type": "stream",
          "name": "stderr",
          "text": [
            "Epoch 99: 100%|██████████| 21/21 [00:00<00:00, 164.24batch/s, acc=1, loss=0.36]\n"
          ]
        },
        {
          "output_type": "stream",
          "name": "stdout",
          "text": [
            "Epoch 99 validation: Cross-entropy=0.38, Accuracy=95.6%\n"
          ]
        },
        {
          "output_type": "stream",
          "name": "stderr",
          "text": [
            "Epoch 100: 100%|██████████| 21/21 [00:00<00:00, 207.97batch/s, acc=1, loss=0.358]\n"
          ]
        },
        {
          "output_type": "stream",
          "name": "stdout",
          "text": [
            "Epoch 100 validation: Cross-entropy=0.38, Accuracy=95.6%\n"
          ]
        },
        {
          "output_type": "stream",
          "name": "stderr",
          "text": [
            "Epoch 101: 100%|██████████| 21/21 [00:00<00:00, 203.79batch/s, acc=1, loss=0.356]\n"
          ]
        },
        {
          "output_type": "stream",
          "name": "stdout",
          "text": [
            "Epoch 101 validation: Cross-entropy=0.38, Accuracy=95.6%\n"
          ]
        },
        {
          "output_type": "stream",
          "name": "stderr",
          "text": [
            "Epoch 102: 100%|██████████| 21/21 [00:00<00:00, 195.95batch/s, acc=1, loss=0.354]\n"
          ]
        },
        {
          "output_type": "stream",
          "name": "stdout",
          "text": [
            "Epoch 102 validation: Cross-entropy=0.38, Accuracy=95.6%\n"
          ]
        },
        {
          "output_type": "stream",
          "name": "stderr",
          "text": [
            "Epoch 103: 100%|██████████| 21/21 [00:00<00:00, 210.40batch/s, acc=1, loss=0.352]\n"
          ]
        },
        {
          "output_type": "stream",
          "name": "stdout",
          "text": [
            "Epoch 103 validation: Cross-entropy=0.37, Accuracy=95.6%\n"
          ]
        },
        {
          "output_type": "stream",
          "name": "stderr",
          "text": [
            "Epoch 104: 100%|██████████| 21/21 [00:00<00:00, 183.99batch/s, acc=1, loss=0.35]\n"
          ]
        },
        {
          "output_type": "stream",
          "name": "stdout",
          "text": [
            "Epoch 104 validation: Cross-entropy=0.37, Accuracy=95.6%\n"
          ]
        },
        {
          "output_type": "stream",
          "name": "stderr",
          "text": [
            "Epoch 105: 100%|██████████| 21/21 [00:00<00:00, 195.99batch/s, acc=1, loss=0.348]\n"
          ]
        },
        {
          "output_type": "stream",
          "name": "stdout",
          "text": [
            "Epoch 105 validation: Cross-entropy=0.37, Accuracy=95.6%\n"
          ]
        },
        {
          "output_type": "stream",
          "name": "stderr",
          "text": [
            "Epoch 106: 100%|██████████| 21/21 [00:00<00:00, 170.12batch/s, acc=1, loss=0.346]\n"
          ]
        },
        {
          "output_type": "stream",
          "name": "stdout",
          "text": [
            "Epoch 106 validation: Cross-entropy=0.37, Accuracy=95.6%\n"
          ]
        },
        {
          "output_type": "stream",
          "name": "stderr",
          "text": [
            "Epoch 107: 100%|██████████| 21/21 [00:00<00:00, 203.14batch/s, acc=1, loss=0.344]\n"
          ]
        },
        {
          "output_type": "stream",
          "name": "stdout",
          "text": [
            "Epoch 107 validation: Cross-entropy=0.37, Accuracy=95.6%\n"
          ]
        },
        {
          "output_type": "stream",
          "name": "stderr",
          "text": [
            "Epoch 108: 100%|██████████| 21/21 [00:00<00:00, 82.50batch/s, acc=1, loss=0.342] \n"
          ]
        },
        {
          "output_type": "stream",
          "name": "stdout",
          "text": [
            "Epoch 108 validation: Cross-entropy=0.36, Accuracy=95.6%\n"
          ]
        },
        {
          "output_type": "stream",
          "name": "stderr",
          "text": [
            "Epoch 125: 100%|██████████| 21/21 [00:00<00:00, 135.92batch/s, acc=1, loss=0.312]\n"
          ]
        },
        {
          "output_type": "stream",
          "name": "stdout",
          "text": [
            "Epoch 125 validation: Cross-entropy=0.33, Accuracy=95.6%\n"
          ]
        },
        {
          "output_type": "stream",
          "name": "stderr",
          "text": [
            "Epoch 126: 100%|██████████| 21/21 [00:00<00:00, 176.26batch/s, acc=1, loss=0.31]\n"
          ]
        },
        {
          "output_type": "stream",
          "name": "stdout",
          "text": [
            "Epoch 126 validation: Cross-entropy=0.33, Accuracy=95.6%\n"
          ]
        },
        {
          "output_type": "stream",
          "name": "stderr",
          "text": [
            "Epoch 127: 100%|██████████| 21/21 [00:00<00:00, 164.93batch/s, acc=1, loss=0.308]\n"
          ]
        },
        {
          "output_type": "stream",
          "name": "stdout",
          "text": [
            "Epoch 127 validation: Cross-entropy=0.33, Accuracy=95.6%\n"
          ]
        },
        {
          "output_type": "stream",
          "name": "stderr",
          "text": [
            "Epoch 128: 100%|██████████| 21/21 [00:00<00:00, 216.49batch/s, acc=1, loss=0.307]\n"
          ]
        },
        {
          "output_type": "stream",
          "name": "stdout",
          "text": [
            "Epoch 128 validation: Cross-entropy=0.32, Accuracy=95.6%\n"
          ]
        },
        {
          "output_type": "stream",
          "name": "stderr",
          "text": [
            "Epoch 129: 100%|██████████| 21/21 [00:00<00:00, 150.61batch/s, acc=1, loss=0.305]\n"
          ]
        },
        {
          "output_type": "stream",
          "name": "stdout",
          "text": [
            "Epoch 129 validation: Cross-entropy=0.32, Accuracy=95.6%\n"
          ]
        },
        {
          "output_type": "stream",
          "name": "stderr",
          "text": [
            "Epoch 130: 100%|██████████| 21/21 [00:00<00:00, 74.81batch/s, acc=1, loss=0.303] \n"
          ]
        },
        {
          "output_type": "stream",
          "name": "stdout",
          "text": [
            "Epoch 130 validation: Cross-entropy=0.32, Accuracy=95.6%\n"
          ]
        },
        {
          "output_type": "stream",
          "name": "stderr",
          "text": [
            "Epoch 131: 100%|██████████| 21/21 [00:00<00:00, 189.72batch/s, acc=1, loss=0.301]\n"
          ]
        },
        {
          "output_type": "stream",
          "name": "stdout",
          "text": [
            "Epoch 131 validation: Cross-entropy=0.32, Accuracy=95.6%\n"
          ]
        },
        {
          "output_type": "stream",
          "name": "stderr",
          "text": [
            "Epoch 132: 100%|██████████| 21/21 [00:00<00:00, 186.42batch/s, acc=1, loss=0.3]\n"
          ]
        },
        {
          "output_type": "stream",
          "name": "stdout",
          "text": [
            "Epoch 132 validation: Cross-entropy=0.32, Accuracy=95.6%\n"
          ]
        },
        {
          "output_type": "stream",
          "name": "stderr",
          "text": [
            "Epoch 133: 100%|██████████| 21/21 [00:00<00:00, 138.09batch/s, acc=1, loss=0.298]\n"
          ]
        },
        {
          "output_type": "stream",
          "name": "stdout",
          "text": [
            "Epoch 133 validation: Cross-entropy=0.32, Accuracy=95.6%\n"
          ]
        },
        {
          "output_type": "stream",
          "name": "stderr",
          "text": [
            "Epoch 134: 100%|██████████| 21/21 [00:00<00:00, 168.72batch/s, acc=1, loss=0.296]\n"
          ]
        },
        {
          "output_type": "stream",
          "name": "stdout",
          "text": [
            "Epoch 134 validation: Cross-entropy=0.31, Accuracy=95.6%\n"
          ]
        },
        {
          "output_type": "stream",
          "name": "stderr",
          "text": [
            "Epoch 135: 100%|██████████| 21/21 [00:00<00:00, 178.35batch/s, acc=1, loss=0.295]\n"
          ]
        },
        {
          "output_type": "stream",
          "name": "stdout",
          "text": [
            "Epoch 135 validation: Cross-entropy=0.31, Accuracy=95.6%\n"
          ]
        },
        {
          "output_type": "stream",
          "name": "stderr",
          "text": [
            "Epoch 142: 100%|██████████| 21/21 [00:00<00:00, 169.87batch/s, acc=1, loss=0.283]\n"
          ]
        },
        {
          "output_type": "stream",
          "name": "stdout",
          "text": [
            "Epoch 142 validation: Cross-entropy=0.30, Accuracy=95.6%\n"
          ]
        },
        {
          "output_type": "stream",
          "name": "stderr",
          "text": [
            "Epoch 143: 100%|██████████| 21/21 [00:00<00:00, 176.36batch/s, acc=1, loss=0.282]\n"
          ]
        },
        {
          "output_type": "stream",
          "name": "stdout",
          "text": [
            "Epoch 143 validation: Cross-entropy=0.30, Accuracy=95.6%\n"
          ]
        },
        {
          "output_type": "stream",
          "name": "stderr",
          "text": [
            "Epoch 144: 100%|██████████| 21/21 [00:00<00:00, 230.46batch/s, acc=1, loss=0.28]\n"
          ]
        },
        {
          "output_type": "stream",
          "name": "stdout",
          "text": [
            "Epoch 144 validation: Cross-entropy=0.30, Accuracy=95.6%\n"
          ]
        },
        {
          "output_type": "stream",
          "name": "stderr",
          "text": [
            "Epoch 145: 100%|██████████| 21/21 [00:00<00:00, 207.96batch/s, acc=1, loss=0.278]\n"
          ]
        },
        {
          "output_type": "stream",
          "name": "stdout",
          "text": [
            "Epoch 145 validation: Cross-entropy=0.30, Accuracy=95.6%\n"
          ]
        },
        {
          "output_type": "stream",
          "name": "stderr",
          "text": [
            "Epoch 146: 100%|██████████| 21/21 [00:00<00:00, 206.47batch/s, acc=1, loss=0.277]\n"
          ]
        },
        {
          "output_type": "stream",
          "name": "stdout",
          "text": [
            "Epoch 146 validation: Cross-entropy=0.29, Accuracy=95.6%\n"
          ]
        },
        {
          "output_type": "stream",
          "name": "stderr",
          "text": [
            "Epoch 147: 100%|██████████| 21/21 [00:00<00:00, 188.94batch/s, acc=1, loss=0.275]\n"
          ]
        },
        {
          "output_type": "stream",
          "name": "stdout",
          "text": [
            "Epoch 147 validation: Cross-entropy=0.29, Accuracy=95.6%\n"
          ]
        },
        {
          "output_type": "stream",
          "name": "stderr",
          "text": [
            "Epoch 148: 100%|██████████| 21/21 [00:00<00:00, 193.82batch/s, acc=1, loss=0.274]\n"
          ]
        },
        {
          "output_type": "stream",
          "name": "stdout",
          "text": [
            "Epoch 148 validation: Cross-entropy=0.29, Accuracy=95.6%\n"
          ]
        },
        {
          "output_type": "stream",
          "name": "stderr",
          "text": [
            "Epoch 149: 100%|██████████| 21/21 [00:00<00:00, 184.33batch/s, acc=1, loss=0.272]\n"
          ]
        },
        {
          "output_type": "stream",
          "name": "stdout",
          "text": [
            "Epoch 149 validation: Cross-entropy=0.29, Accuracy=95.6%\n"
          ]
        },
        {
          "output_type": "stream",
          "name": "stderr",
          "text": [
            "Epoch 150: 100%|██████████| 21/21 [00:00<00:00, 117.09batch/s, acc=1, loss=0.27]\n"
          ]
        },
        {
          "output_type": "stream",
          "name": "stdout",
          "text": [
            "Epoch 150 validation: Cross-entropy=0.29, Accuracy=95.6%\n"
          ]
        },
        {
          "output_type": "stream",
          "name": "stderr",
          "text": [
            "Epoch 151: 100%|██████████| 21/21 [00:00<00:00, 198.34batch/s, acc=1, loss=0.269]\n"
          ]
        },
        {
          "output_type": "stream",
          "name": "stdout",
          "text": [
            "Epoch 151 validation: Cross-entropy=0.29, Accuracy=95.6%\n"
          ]
        },
        {
          "output_type": "stream",
          "name": "stderr",
          "text": [
            "Epoch 166: 100%|██████████| 21/21 [00:00<00:00, 59.22batch/s, acc=1, loss=0.246] \n"
          ]
        },
        {
          "output_type": "stream",
          "name": "stdout",
          "text": [
            "Epoch 166 validation: Cross-entropy=0.26, Accuracy=95.6%\n"
          ]
        },
        {
          "output_type": "stream",
          "name": "stderr",
          "text": [
            "Epoch 167: 100%|██████████| 21/21 [00:00<00:00, 68.51batch/s, acc=1, loss=0.244]\n"
          ]
        },
        {
          "output_type": "stream",
          "name": "stdout",
          "text": [
            "Epoch 167 validation: Cross-entropy=0.26, Accuracy=95.6%\n"
          ]
        },
        {
          "output_type": "stream",
          "name": "stderr",
          "text": [
            "Epoch 168: 100%|██████████| 21/21 [00:00<00:00, 137.07batch/s, acc=1, loss=0.243]\n"
          ]
        },
        {
          "output_type": "stream",
          "name": "stdout",
          "text": [
            "Epoch 168 validation: Cross-entropy=0.26, Accuracy=95.6%\n"
          ]
        },
        {
          "output_type": "stream",
          "name": "stderr",
          "text": [
            "Epoch 169: 100%|██████████| 21/21 [00:00<00:00, 141.41batch/s, acc=1, loss=0.242]\n"
          ]
        },
        {
          "output_type": "stream",
          "name": "stdout",
          "text": [
            "Epoch 169 validation: Cross-entropy=0.26, Accuracy=95.6%\n"
          ]
        },
        {
          "output_type": "stream",
          "name": "stderr",
          "text": [
            "Epoch 170: 100%|██████████| 21/21 [00:00<00:00, 119.20batch/s, acc=1, loss=0.24]\n"
          ]
        },
        {
          "output_type": "stream",
          "name": "stdout",
          "text": [
            "Epoch 170 validation: Cross-entropy=0.26, Accuracy=95.6%\n"
          ]
        },
        {
          "output_type": "stream",
          "name": "stderr",
          "text": [
            "Epoch 171: 100%|██████████| 21/21 [00:00<00:00, 143.52batch/s, acc=1, loss=0.239]\n"
          ]
        },
        {
          "output_type": "stream",
          "name": "stdout",
          "text": [
            "Epoch 171 validation: Cross-entropy=0.26, Accuracy=95.6%\n"
          ]
        },
        {
          "output_type": "stream",
          "name": "stderr",
          "text": [
            "Epoch 172: 100%|██████████| 21/21 [00:00<00:00, 125.52batch/s, acc=1, loss=0.237]\n"
          ]
        },
        {
          "output_type": "stream",
          "name": "stdout",
          "text": [
            "Epoch 172 validation: Cross-entropy=0.26, Accuracy=95.6%\n"
          ]
        },
        {
          "output_type": "stream",
          "name": "stderr",
          "text": [
            "Epoch 173: 100%|██████████| 21/21 [00:00<00:00, 140.64batch/s, acc=1, loss=0.236]\n"
          ]
        },
        {
          "output_type": "stream",
          "name": "stdout",
          "text": [
            "Epoch 173 validation: Cross-entropy=0.25, Accuracy=95.6%\n"
          ]
        },
        {
          "output_type": "stream",
          "name": "stderr",
          "text": [
            "Epoch 174: 100%|██████████| 21/21 [00:00<00:00, 159.21batch/s, acc=1, loss=0.234]\n"
          ]
        },
        {
          "output_type": "stream",
          "name": "stdout",
          "text": [
            "Epoch 174 validation: Cross-entropy=0.25, Accuracy=95.6%\n"
          ]
        },
        {
          "output_type": "stream",
          "name": "stderr",
          "text": [
            "Epoch 175: 100%|██████████| 21/21 [00:00<00:00, 177.68batch/s, acc=1, loss=0.233]\n"
          ]
        },
        {
          "output_type": "stream",
          "name": "stdout",
          "text": [
            "Epoch 175 validation: Cross-entropy=0.25, Accuracy=95.6%\n"
          ]
        },
        {
          "output_type": "stream",
          "name": "stderr",
          "text": [
            "Epoch 176: 100%|██████████| 21/21 [00:00<00:00, 127.75batch/s, acc=1, loss=0.231]\n"
          ]
        },
        {
          "output_type": "stream",
          "name": "stdout",
          "text": [
            "Epoch 176 validation: Cross-entropy=0.25, Accuracy=95.6%\n"
          ]
        },
        {
          "output_type": "stream",
          "name": "stderr",
          "text": [
            "Epoch 182: 100%|██████████| 21/21 [00:00<00:00, 66.44batch/s, acc=1, loss=0.223]\n"
          ]
        },
        {
          "output_type": "stream",
          "name": "stdout",
          "text": [
            "Epoch 182 validation: Cross-entropy=0.24, Accuracy=95.6%\n"
          ]
        },
        {
          "output_type": "stream",
          "name": "stderr",
          "text": [
            "Epoch 183: 100%|██████████| 21/21 [00:00<00:00, 194.79batch/s, acc=1, loss=0.221]\n"
          ]
        },
        {
          "output_type": "stream",
          "name": "stdout",
          "text": [
            "Epoch 183 validation: Cross-entropy=0.24, Accuracy=95.6%\n"
          ]
        },
        {
          "output_type": "stream",
          "name": "stderr",
          "text": [
            "Epoch 184: 100%|██████████| 21/21 [00:00<00:00, 73.62batch/s, acc=1, loss=0.22] \n"
          ]
        },
        {
          "output_type": "stream",
          "name": "stdout",
          "text": [
            "Epoch 184 validation: Cross-entropy=0.24, Accuracy=95.6%\n"
          ]
        },
        {
          "output_type": "stream",
          "name": "stderr",
          "text": [
            "Epoch 185: 100%|██████████| 21/21 [00:00<00:00, 158.81batch/s, acc=1, loss=0.219]\n"
          ]
        },
        {
          "output_type": "stream",
          "name": "stdout",
          "text": [
            "Epoch 185 validation: Cross-entropy=0.24, Accuracy=95.6%\n"
          ]
        },
        {
          "output_type": "stream",
          "name": "stderr",
          "text": [
            "Epoch 186: 100%|██████████| 21/21 [00:00<00:00, 200.16batch/s, acc=1, loss=0.217]\n"
          ]
        },
        {
          "output_type": "stream",
          "name": "stdout",
          "text": [
            "Epoch 186 validation: Cross-entropy=0.24, Accuracy=95.6%\n"
          ]
        },
        {
          "output_type": "stream",
          "name": "stderr",
          "text": [
            "Epoch 187: 100%|██████████| 21/21 [00:00<00:00, 89.83batch/s, acc=1, loss=0.216]\n"
          ]
        },
        {
          "output_type": "stream",
          "name": "stdout",
          "text": [
            "Epoch 187 validation: Cross-entropy=0.24, Accuracy=95.6%\n"
          ]
        },
        {
          "output_type": "stream",
          "name": "stderr",
          "text": [
            "Epoch 188: 100%|██████████| 21/21 [00:00<00:00, 147.96batch/s, acc=1, loss=0.215]\n"
          ]
        },
        {
          "output_type": "stream",
          "name": "stdout",
          "text": [
            "Epoch 188 validation: Cross-entropy=0.24, Accuracy=95.6%\n"
          ]
        },
        {
          "output_type": "stream",
          "name": "stderr",
          "text": [
            "Epoch 189: 100%|██████████| 21/21 [00:00<00:00, 146.35batch/s, acc=1, loss=0.213]\n"
          ]
        },
        {
          "output_type": "stream",
          "name": "stdout",
          "text": [
            "Epoch 189 validation: Cross-entropy=0.23, Accuracy=95.6%\n"
          ]
        },
        {
          "output_type": "stream",
          "name": "stderr",
          "text": [
            "Epoch 190: 100%|██████████| 21/21 [00:00<00:00, 143.02batch/s, acc=1, loss=0.212]\n"
          ]
        },
        {
          "output_type": "stream",
          "name": "stdout",
          "text": [
            "Epoch 190 validation: Cross-entropy=0.23, Accuracy=95.6%\n"
          ]
        },
        {
          "output_type": "stream",
          "name": "stderr",
          "text": [
            "Epoch 191: 100%|██████████| 21/21 [00:00<00:00, 176.85batch/s, acc=1, loss=0.211]\n"
          ]
        },
        {
          "output_type": "stream",
          "name": "stdout",
          "text": [
            "Epoch 191 validation: Cross-entropy=0.23, Accuracy=95.6%\n"
          ]
        },
        {
          "output_type": "stream",
          "name": "stderr",
          "text": [
            "Epoch 192: 100%|██████████| 21/21 [00:00<00:00, 201.58batch/s, acc=1, loss=0.209]\n"
          ]
        },
        {
          "output_type": "stream",
          "name": "stdout",
          "text": [
            "Epoch 192 validation: Cross-entropy=0.23, Accuracy=95.6%\n"
          ]
        },
        {
          "output_type": "stream",
          "name": "stderr",
          "text": [
            "Epoch 193:  29%|██▊       | 6/21 [00:00<00:00, 199.94batch/s, acc=1, loss=0.287]"
          ]
        },
        {
          "output_type": "display_data",
          "data": {
            "text/plain": [
              "<Figure size 640x480 with 1 Axes>"
            ],
            "image/png": "[encoded data removed]"
          },
          "metadata": {}
        }
      ]
    },
    {
      "cell_type": "markdown",
      "source": [
        "## Quadric Layers\n",
        "We classify the IRIS dataset now with a hybrid model consisting of 4 inputs, a 4-unit quadric hidden layer and a 3-unit linear hiddeb layer and achieve similar accuracy."
      ],
      "metadata": {
        "id": "QxifrPS6hp1N"
      }
    },
    {
      "cell_type": "code",
      "source": [
        "class Multiclass(nn.Module):\n",
        "    def __init__(self):\n",
        "        super().__init__()\n",
        "        self.hidden = Quadric(4, 3)\n",
        "        self.act = nn.ReLU()\n",
        "        self.output = nn.Linear(3, 3)\n",
        "\n",
        "    def forward(self, x):\n",
        "        x = self.hidden(x)\n",
        "        x = self.act(x)\n",
        "        x = self.output(x)\n",
        "        return x\n",
        "\n",
        "# loss metric and optimizer\n",
        "model = Multiclass()\n",
        "loss_fn = nn.CrossEntropyLoss()\n",
        "optimizer = optim.Adam(model.parameters(), lr=0.001)\n",
        "\n",
        "# prepare model and training parameters\n",
        "n_epochs = 200\n",
        "batch_size = 5\n",
        "batches_per_epoch = len(X_train) // batch_size\n",
        "\n",
        "best_acc = - np.inf   # init to negative infinity\n",
        "best_weights = None\n",
        "train_loss_hist = []\n",
        "train_acc_hist = []\n",
        "test_loss_hist = []\n",
        "test_acc_hist = []\n",
        "\n",
        "# training loop\n",
        "for epoch in range(n_epochs):\n",
        "    epoch_loss = []\n",
        "    epoch_acc = []\n",
        "    # set model in training mode and run through each batch\n",
        "    model.train()\n",
        "    with tqdm.trange(batches_per_epoch, unit=\"batch\", mininterval=0) as bar:\n",
        "        bar.set_description(f\"Epoch {epoch}\")\n",
        "        for i in bar:\n",
        "            # take a batch\n",
        "            start = i * batch_size\n",
        "            X_batch = X_train[start:start+batch_size]\n",
        "            y_batch = y_train[start:start+batch_size]\n",
        "            # forward pass\n",
        "            y_pred = model(X_batch)\n",
        "            loss = loss_fn(y_pred, y_batch)\n",
        "            # backward pass\n",
        "            optimizer.zero_grad()\n",
        "            loss.backward()\n",
        "            # update weights\n",
        "            optimizer.step()\n",
        "            # compute and store metrics\n",
        "            acc = (torch.argmax(y_pred, 1) == torch.argmax(y_batch, 1)).float().mean()\n",
        "            epoch_loss.append(float(loss))\n",
        "            epoch_acc.append(float(acc))\n",
        "            bar.set_postfix(\n",
        "                loss=float(loss),\n",
        "                acc=float(acc)\n",
        "            )\n",
        "    # set model in evaluation mode and run through the test set\n",
        "    model.eval()\n",
        "    y_pred = model(X_test)\n",
        "    ce = loss_fn(y_pred, y_test)\n",
        "    acc = (torch.argmax(y_pred, 1) == torch.argmax(y_test, 1)).float().mean()\n",
        "    ce = float(ce)\n",
        "    acc = float(acc)\n",
        "    train_loss_hist.append(np.mean(epoch_loss))\n",
        "    train_acc_hist.append(np.mean(epoch_acc))\n",
        "    test_loss_hist.append(ce)\n",
        "    test_acc_hist.append(acc)\n",
        "    if acc > best_acc:\n",
        "        best_acc = acc\n",
        "        best_weights = copy.deepcopy(model.state_dict())\n",
        "    print(f\"Epoch {epoch} validation: Cross-entropy={ce:.2f}, Accuracy={acc*100:.1f}%\")\n",
        "\n",
        "# Restore best model\n",
        "model.load_state_dict(best_weights)\n",
        "\n",
        "# Plot the loss and accuracy\n",
        "plt.plot(train_loss_hist, label=\"train\")\n",
        "plt.plot(test_loss_hist, label=\"test\")\n",
        "plt.xlabel(\"epochs\")\n",
        "plt.ylabel(\"cross entropy\")\n",
        "plt.legend()\n",
        "plt.show()\n",
        "\n",
        "plt.plot(train_acc_hist, label=\"train\")\n",
        "plt.plot(test_acc_hist, label=\"test\")\n",
        "plt.xlabel(\"epochs\")\n",
        "plt.ylabel(\"accuracy\")\n",
        "plt.legend()\n",
        "plt.show()"
      ],
      "metadata": {
        "colab": {
          "base_uri": "https://localhost:8080/",
          "height": 1000
        },
        "id": "K5EU9glXh3ui",
        "outputId": "8440fdae-7dcd-4282-d273-5e92badbd8ee"
      },
      "execution_count": 11,
      "outputs": [
        {
          "output_type": "stream",
          "name": "stderr",
          "text": [
            "Epoch 0: 100%|██████████| 21/21 [00:00<00:00, 124.40batch/s, acc=0.4, loss=7.99]\n"
          ]
        },
        {
          "output_type": "stream",
          "name": "stdout",
          "text": [
            "Epoch 0 validation: Cross-entropy=7.88, Accuracy=35.6%\n"
          ]
        },
        {
          "output_type": "stream",
          "name": "stderr",
          "text": [
            "Epoch 1: 100%|██████████| 21/21 [00:00<00:00, 147.90batch/s, acc=0.4, loss=6.13]\n"
          ]
        },
        {
          "output_type": "stream",
          "name": "stdout",
          "text": [
            "Epoch 1 validation: Cross-entropy=5.92, Accuracy=35.6%\n"
          ]
        },
        {
          "output_type": "stream",
          "name": "stderr",
          "text": [
            "Epoch 2: 100%|██████████| 21/21 [00:00<00:00, 159.03batch/s, acc=0.4, loss=4.48]\n"
          ]
        },
        {
          "output_type": "stream",
          "name": "stdout",
          "text": [
            "Epoch 2 validation: Cross-entropy=4.19, Accuracy=35.6%\n"
          ]
        },
        {
          "output_type": "stream",
          "name": "stderr",
          "text": [
            "Epoch 3: 100%|██████████| 21/21 [00:00<00:00, 160.79batch/s, acc=0, loss=3.24]\n"
          ]
        },
        {
          "output_type": "stream",
          "name": "stdout",
          "text": [
            "Epoch 3 validation: Cross-entropy=2.94, Accuracy=0.0%\n"
          ]
        },
        {
          "output_type": "stream",
          "name": "stderr",
          "text": [
            "Epoch 4: 100%|██████████| 21/21 [00:00<00:00, 208.06batch/s, acc=0, loss=2.34]\n"
          ]
        },
        {
          "output_type": "stream",
          "name": "stdout",
          "text": [
            "Epoch 4 validation: Cross-entropy=2.10, Accuracy=24.4%\n"
          ]
        },
        {
          "output_type": "stream",
          "name": "stderr",
          "text": [
            "Epoch 5: 100%|██████████| 21/21 [00:00<00:00, 197.49batch/s, acc=0.2, loss=1.65]\n"
          ]
        },
        {
          "output_type": "stream",
          "name": "stdout",
          "text": [
            "Epoch 5 validation: Cross-entropy=1.52, Accuracy=28.9%\n"
          ]
        },
        {
          "output_type": "stream",
          "name": "stderr",
          "text": [
            "Epoch 6: 100%|██████████| 21/21 [00:00<00:00, 188.33batch/s, acc=0.4, loss=1.37]\n"
          ]
        },
        {
          "output_type": "stream",
          "name": "stdout",
          "text": [
            "Epoch 6 validation: Cross-entropy=1.31, Accuracy=40.0%\n"
          ]
        },
        {
          "output_type": "stream",
          "name": "stderr",
          "text": [
            "Epoch 7: 100%|██████████| 21/21 [00:00<00:00, 197.25batch/s, acc=0.2, loss=1.28]\n"
          ]
        },
        {
          "output_type": "stream",
          "name": "stdout",
          "text": [
            "Epoch 7 validation: Cross-entropy=1.24, Accuracy=40.0%\n"
          ]
        },
        {
          "output_type": "stream",
          "name": "stderr",
          "text": [
            "Epoch 8: 100%|██████████| 21/21 [00:00<00:00, 206.20batch/s, acc=0.2, loss=1.22]\n"
          ]
        },
        {
          "output_type": "stream",
          "name": "stdout",
          "text": [
            "Epoch 8 validation: Cross-entropy=1.18, Accuracy=44.4%\n"
          ]
        },
        {
          "output_type": "stream",
          "name": "stderr",
          "text": [
            "Epoch 9: 100%|██████████| 21/21 [00:00<00:00, 206.70batch/s, acc=0.2, loss=1.16]\n"
          ]
        },
        {
          "output_type": "stream",
          "name": "stdout",
          "text": [
            "Epoch 9 validation: Cross-entropy=1.12, Accuracy=48.9%\n"
          ]
        },
        {
          "output_type": "stream",
          "name": "stderr",
          "text": [
            "Epoch 10: 100%|██████████| 21/21 [00:00<00:00, 177.50batch/s, acc=0.4, loss=1.1]\n"
          ]
        },
        {
          "output_type": "stream",
          "name": "stdout",
          "text": [
            "Epoch 10 validation: Cross-entropy=1.07, Accuracy=51.1%\n"
          ]
        },
        {
          "output_type": "stream",
          "name": "stderr",
          "text": [
            "Epoch 11: 100%|██████████| 21/21 [00:00<00:00, 193.38batch/s, acc=0.4, loss=1.05]\n"
          ]
        },
        {
          "output_type": "stream",
          "name": "stdout",
          "text": [
            "Epoch 11 validation: Cross-entropy=1.02, Accuracy=51.1%\n"
          ]
        },
        {
          "output_type": "stream",
          "name": "stderr",
          "text": [
            "Epoch 12: 100%|██████████| 21/21 [00:00<00:00, 76.71batch/s, acc=0.4, loss=1]\n"
          ]
        },
        {
          "output_type": "stream",
          "name": "stdout",
          "text": [
            "Epoch 12 validation: Cross-entropy=0.98, Accuracy=51.1%\n"
          ]
        },
        {
          "output_type": "stream",
          "name": "stderr",
          "text": [
            "Epoch 13: 100%|██████████| 21/21 [00:00<00:00, 179.42batch/s, acc=0.4, loss=0.96]\n"
          ]
        },
        {
          "output_type": "stream",
          "name": "stdout",
          "text": [
            "Epoch 13 validation: Cross-entropy=0.94, Accuracy=53.3%\n"
          ]
        },
        {
          "output_type": "stream",
          "name": "stderr",
          "text": [
            "Epoch 14: 100%|██████████| 21/21 [00:00<00:00, 201.67batch/s, acc=0.4, loss=0.922]\n"
          ]
        },
        {
          "output_type": "stream",
          "name": "stdout",
          "text": [
            "Epoch 14 validation: Cross-entropy=0.90, Accuracy=60.0%\n"
          ]
        },
        {
          "output_type": "stream",
          "name": "stderr",
          "text": [
            "Epoch 15: 100%|██████████| 21/21 [00:00<00:00, 200.60batch/s, acc=0.4, loss=0.888]\n"
          ]
        },
        {
          "output_type": "stream",
          "name": "stdout",
          "text": [
            "Epoch 15 validation: Cross-entropy=0.87, Accuracy=64.4%\n"
          ]
        },
        {
          "output_type": "stream",
          "name": "stderr",
          "text": [
            "Epoch 16: 100%|██████████| 21/21 [00:00<00:00, 210.28batch/s, acc=0.4, loss=0.856]\n"
          ]
        },
        {
          "output_type": "stream",
          "name": "stdout",
          "text": [
            "Epoch 16 validation: Cross-entropy=0.84, Accuracy=68.9%\n"
          ]
        },
        {
          "output_type": "stream",
          "name": "stderr",
          "text": [
            "Epoch 17: 100%|██████████| 21/21 [00:00<00:00, 195.73batch/s, acc=0.4, loss=0.827]\n"
          ]
        },
        {
          "output_type": "stream",
          "name": "stdout",
          "text": [
            "Epoch 17 validation: Cross-entropy=0.82, Accuracy=75.6%\n"
          ]
        },
        {
          "output_type": "stream",
          "name": "stderr",
          "text": [
            "Epoch 18: 100%|██████████| 21/21 [00:00<00:00, 206.16batch/s, acc=0.6, loss=0.8]\n"
          ]
        },
        {
          "output_type": "stream",
          "name": "stdout",
          "text": [
            "Epoch 18 validation: Cross-entropy=0.79, Accuracy=82.2%\n"
          ]
        },
        {
          "output_type": "stream",
          "name": "stderr",
          "text": [
            "Epoch 19: 100%|██████████| 21/21 [00:00<00:00, 168.87batch/s, acc=0.8, loss=0.775]\n"
          ]
        },
        {
          "output_type": "stream",
          "name": "stdout",
          "text": [
            "Epoch 19 validation: Cross-entropy=0.77, Accuracy=86.7%\n"
          ]
        },
        {
          "output_type": "stream",
          "name": "stderr",
          "text": [
            "Epoch 20: 100%|██████████| 21/21 [00:00<00:00, 147.51batch/s, acc=0.8, loss=0.752]\n"
          ]
        },
        {
          "output_type": "stream",
          "name": "stdout",
          "text": [
            "Epoch 20 validation: Cross-entropy=0.75, Accuracy=86.7%\n"
          ]
        },
        {
          "output_type": "stream",
          "name": "stderr",
          "text": [
            "Epoch 21: 100%|██████████| 21/21 [00:00<00:00, 198.98batch/s, acc=0.8, loss=0.73]\n"
          ]
        },
        {
          "output_type": "stream",
          "name": "stdout",
          "text": [
            "Epoch 21 validation: Cross-entropy=0.73, Accuracy=88.9%\n"
          ]
        },
        {
          "output_type": "stream",
          "name": "stderr",
          "text": [
            "Epoch 22: 100%|██████████| 21/21 [00:00<00:00, 205.27batch/s, acc=0.8, loss=0.71]\n"
          ]
        },
        {
          "output_type": "stream",
          "name": "stdout",
          "text": [
            "Epoch 22 validation: Cross-entropy=0.71, Accuracy=93.3%\n"
          ]
        },
        {
          "output_type": "stream",
          "name": "stderr",
          "text": [
            "Epoch 23: 100%|██████████| 21/21 [00:00<00:00, 94.60batch/s, acc=0.8, loss=0.69] \n"
          ]
        },
        {
          "output_type": "stream",
          "name": "stdout",
          "text": [
            "Epoch 23 validation: Cross-entropy=0.69, Accuracy=93.3%\n"
          ]
        },
        {
          "output_type": "stream",
          "name": "stderr",
          "text": [
            "Epoch 24: 100%|██████████| 21/21 [00:00<00:00, 195.42batch/s, acc=0.8, loss=0.672]\n"
          ]
        },
        {
          "output_type": "stream",
          "name": "stdout",
          "text": [
            "Epoch 24 validation: Cross-entropy=0.67, Accuracy=91.1%\n"
          ]
        },
        {
          "output_type": "stream",
          "name": "stderr",
          "text": [
            "Epoch 25: 100%|██████████| 21/21 [00:00<00:00, 211.69batch/s, acc=0.8, loss=0.655]\n"
          ]
        },
        {
          "output_type": "stream",
          "name": "stdout",
          "text": [
            "Epoch 25 validation: Cross-entropy=0.66, Accuracy=91.1%\n"
          ]
        },
        {
          "output_type": "stream",
          "name": "stderr",
          "text": [
            "Epoch 26: 100%|██████████| 21/21 [00:00<00:00, 189.89batch/s, acc=0.8, loss=0.638]\n"
          ]
        },
        {
          "output_type": "stream",
          "name": "stdout",
          "text": [
            "Epoch 26 validation: Cross-entropy=0.64, Accuracy=91.1%\n"
          ]
        },
        {
          "output_type": "stream",
          "name": "stderr",
          "text": [
            "Epoch 27: 100%|██████████| 21/21 [00:00<00:00, 208.99batch/s, acc=0.8, loss=0.622]\n"
          ]
        },
        {
          "output_type": "stream",
          "name": "stdout",
          "text": [
            "Epoch 27 validation: Cross-entropy=0.63, Accuracy=93.3%\n"
          ]
        },
        {
          "output_type": "stream",
          "name": "stderr",
          "text": [
            "Epoch 28: 100%|██████████| 21/21 [00:00<00:00, 81.01batch/s, acc=0.8, loss=0.607] \n"
          ]
        },
        {
          "output_type": "stream",
          "name": "stdout",
          "text": [
            "Epoch 28 validation: Cross-entropy=0.61, Accuracy=93.3%\n"
          ]
        },
        {
          "output_type": "stream",
          "name": "stderr",
          "text": [
            "Epoch 29: 100%|██████████| 21/21 [00:00<00:00, 205.52batch/s, acc=0.8, loss=0.592]\n"
          ]
        },
        {
          "output_type": "stream",
          "name": "stdout",
          "text": [
            "Epoch 29 validation: Cross-entropy=0.60, Accuracy=93.3%\n"
          ]
        },
        {
          "output_type": "stream",
          "name": "stderr",
          "text": [
            "Epoch 30: 100%|██████████| 21/21 [00:00<00:00, 201.03batch/s, acc=0.8, loss=0.578]\n"
          ]
        },
        {
          "output_type": "stream",
          "name": "stdout",
          "text": [
            "Epoch 30 validation: Cross-entropy=0.58, Accuracy=93.3%\n"
          ]
        },
        {
          "output_type": "stream",
          "name": "stderr",
          "text": [
            "Epoch 31: 100%|██████████| 21/21 [00:00<00:00, 191.51batch/s, acc=0.8, loss=0.564]\n"
          ]
        },
        {
          "output_type": "stream",
          "name": "stdout",
          "text": [
            "Epoch 31 validation: Cross-entropy=0.57, Accuracy=93.3%\n"
          ]
        },
        {
          "output_type": "stream",
          "name": "stderr",
          "text": [
            "Epoch 32: 100%|██████████| 21/21 [00:00<00:00, 193.02batch/s, acc=1, loss=0.551]\n"
          ]
        },
        {
          "output_type": "stream",
          "name": "stdout",
          "text": [
            "Epoch 32 validation: Cross-entropy=0.56, Accuracy=93.3%\n"
          ]
        },
        {
          "output_type": "stream",
          "name": "stderr",
          "text": [
            "Epoch 33: 100%|██████████| 21/21 [00:00<00:00, 75.60batch/s, acc=1, loss=0.538]\n"
          ]
        },
        {
          "output_type": "stream",
          "name": "stdout",
          "text": [
            "Epoch 33 validation: Cross-entropy=0.55, Accuracy=93.3%\n"
          ]
        },
        {
          "output_type": "stream",
          "name": "stderr",
          "text": [
            "Epoch 34: 100%|██████████| 21/21 [00:00<00:00, 207.11batch/s, acc=1, loss=0.525]\n"
          ]
        },
        {
          "output_type": "stream",
          "name": "stdout",
          "text": [
            "Epoch 34 validation: Cross-entropy=0.53, Accuracy=93.3%\n"
          ]
        },
        {
          "output_type": "stream",
          "name": "stderr",
          "text": [
            "Epoch 35: 100%|██████████| 21/21 [00:00<00:00, 177.52batch/s, acc=1, loss=0.513]\n"
          ]
        },
        {
          "output_type": "stream",
          "name": "stdout",
          "text": [
            "Epoch 35 validation: Cross-entropy=0.52, Accuracy=93.3%\n"
          ]
        },
        {
          "output_type": "stream",
          "name": "stderr",
          "text": [
            "Epoch 36: 100%|██████████| 21/21 [00:00<00:00, 200.83batch/s, acc=1, loss=0.502]\n"
          ]
        },
        {
          "output_type": "stream",
          "name": "stdout",
          "text": [
            "Epoch 36 validation: Cross-entropy=0.51, Accuracy=93.3%\n"
          ]
        },
        {
          "output_type": "stream",
          "name": "stderr",
          "text": [
            "Epoch 37: 100%|██████████| 21/21 [00:00<00:00, 200.52batch/s, acc=1, loss=0.49]\n"
          ]
        },
        {
          "output_type": "stream",
          "name": "stdout",
          "text": [
            "Epoch 37 validation: Cross-entropy=0.50, Accuracy=93.3%\n"
          ]
        },
        {
          "output_type": "stream",
          "name": "stderr",
          "text": [
            "Epoch 38: 100%|██████████| 21/21 [00:00<00:00, 195.88batch/s, acc=1, loss=0.479]\n"
          ]
        },
        {
          "output_type": "stream",
          "name": "stdout",
          "text": [
            "Epoch 38 validation: Cross-entropy=0.49, Accuracy=93.3%\n"
          ]
        },
        {
          "output_type": "stream",
          "name": "stderr",
          "text": [
            "Epoch 39: 100%|██████████| 21/21 [00:00<00:00, 76.04batch/s, acc=1, loss=0.469] \n"
          ]
        },
        {
          "output_type": "stream",
          "name": "stdout",
          "text": [
            "Epoch 39 validation: Cross-entropy=0.48, Accuracy=93.3%\n"
          ]
        },
        {
          "output_type": "stream",
          "name": "stderr",
          "text": [
            "Epoch 40: 100%|██████████| 21/21 [00:00<00:00, 210.62batch/s, acc=1, loss=0.458]\n"
          ]
        },
        {
          "output_type": "stream",
          "name": "stdout",
          "text": [
            "Epoch 40 validation: Cross-entropy=0.47, Accuracy=93.3%\n"
          ]
        },
        {
          "output_type": "stream",
          "name": "stderr",
          "text": [
            "Epoch 41: 100%|██████████| 21/21 [00:00<00:00, 188.05batch/s, acc=1, loss=0.448]\n"
          ]
        },
        {
          "output_type": "stream",
          "name": "stdout",
          "text": [
            "Epoch 41 validation: Cross-entropy=0.46, Accuracy=93.3%\n"
          ]
        },
        {
          "output_type": "stream",
          "name": "stderr",
          "text": [
            "Epoch 42: 100%|██████████| 21/21 [00:00<00:00, 186.46batch/s, acc=1, loss=0.439]\n"
          ]
        },
        {
          "output_type": "stream",
          "name": "stdout",
          "text": [
            "Epoch 42 validation: Cross-entropy=0.45, Accuracy=95.6%\n"
          ]
        },
        {
          "output_type": "stream",
          "name": "stderr",
          "text": [
            "Epoch 43: 100%|██████████| 21/21 [00:00<00:00, 171.36batch/s, acc=1, loss=0.429]\n"
          ]
        },
        {
          "output_type": "stream",
          "name": "stdout",
          "text": [
            "Epoch 43 validation: Cross-entropy=0.44, Accuracy=95.6%\n"
          ]
        },
        {
          "output_type": "stream",
          "name": "stderr",
          "text": [
            "Epoch 44: 100%|██████████| 21/21 [00:00<00:00, 78.12batch/s, acc=1, loss=0.42] \n"
          ]
        },
        {
          "output_type": "stream",
          "name": "stdout",
          "text": [
            "Epoch 44 validation: Cross-entropy=0.43, Accuracy=95.6%\n"
          ]
        },
        {
          "output_type": "stream",
          "name": "stderr",
          "text": [
            "Epoch 45: 100%|██████████| 21/21 [00:00<00:00, 198.47batch/s, acc=1, loss=0.411]\n"
          ]
        },
        {
          "output_type": "stream",
          "name": "stdout",
          "text": [
            "Epoch 45 validation: Cross-entropy=0.42, Accuracy=95.6%\n"
          ]
        },
        {
          "output_type": "stream",
          "name": "stderr",
          "text": [
            "Epoch 46: 100%|██████████| 21/21 [00:00<00:00, 187.66batch/s, acc=1, loss=0.402]\n"
          ]
        },
        {
          "output_type": "stream",
          "name": "stdout",
          "text": [
            "Epoch 46 validation: Cross-entropy=0.41, Accuracy=95.6%\n"
          ]
        },
        {
          "output_type": "stream",
          "name": "stderr",
          "text": [
            "Epoch 47: 100%|██████████| 21/21 [00:00<00:00, 206.27batch/s, acc=1, loss=0.394]\n"
          ]
        },
        {
          "output_type": "stream",
          "name": "stdout",
          "text": [
            "Epoch 47 validation: Cross-entropy=0.41, Accuracy=95.6%\n"
          ]
        },
        {
          "output_type": "stream",
          "name": "stderr",
          "text": [
            "Epoch 48: 100%|██████████| 21/21 [00:00<00:00, 209.82batch/s, acc=1, loss=0.386]\n"
          ]
        },
        {
          "output_type": "stream",
          "name": "stdout",
          "text": [
            "Epoch 48 validation: Cross-entropy=0.40, Accuracy=95.6%\n"
          ]
        },
        {
          "output_type": "stream",
          "name": "stderr",
          "text": [
            "Epoch 49: 100%|██████████| 21/21 [00:00<00:00, 79.37batch/s, acc=1, loss=0.378] \n"
          ]
        },
        {
          "output_type": "stream",
          "name": "stdout",
          "text": [
            "Epoch 49 validation: Cross-entropy=0.39, Accuracy=95.6%\n"
          ]
        },
        {
          "output_type": "stream",
          "name": "stderr",
          "text": [
            "Epoch 50: 100%|██████████| 21/21 [00:00<00:00, 205.07batch/s, acc=1, loss=0.37]\n"
          ]
        },
        {
          "output_type": "stream",
          "name": "stdout",
          "text": [
            "Epoch 50 validation: Cross-entropy=0.38, Accuracy=95.6%\n"
          ]
        },
        {
          "output_type": "stream",
          "name": "stderr",
          "text": [
            "Epoch 51: 100%|██████████| 21/21 [00:00<00:00, 212.38batch/s, acc=1, loss=0.363]\n"
          ]
        },
        {
          "output_type": "stream",
          "name": "stdout",
          "text": [
            "Epoch 51 validation: Cross-entropy=0.38, Accuracy=95.6%\n"
          ]
        },
        {
          "output_type": "stream",
          "name": "stderr",
          "text": [
            "Epoch 52: 100%|██████████| 21/21 [00:00<00:00, 204.28batch/s, acc=1, loss=0.356]\n"
          ]
        },
        {
          "output_type": "stream",
          "name": "stdout",
          "text": [
            "Epoch 52 validation: Cross-entropy=0.37, Accuracy=95.6%\n"
          ]
        },
        {
          "output_type": "stream",
          "name": "stderr",
          "text": [
            "Epoch 53: 100%|██████████| 21/21 [00:00<00:00, 200.48batch/s, acc=1, loss=0.349]\n"
          ]
        },
        {
          "output_type": "stream",
          "name": "stdout",
          "text": [
            "Epoch 53 validation: Cross-entropy=0.36, Accuracy=95.6%\n"
          ]
        },
        {
          "output_type": "stream",
          "name": "stderr",
          "text": [
            "Epoch 54: 100%|██████████| 21/21 [00:00<00:00, 77.36batch/s, acc=1, loss=0.342]\n"
          ]
        },
        {
          "output_type": "stream",
          "name": "stdout",
          "text": [
            "Epoch 54 validation: Cross-entropy=0.36, Accuracy=95.6%\n"
          ]
        },
        {
          "output_type": "stream",
          "name": "stderr",
          "text": [
            "Epoch 55: 100%|██████████| 21/21 [00:00<00:00, 53.33batch/s, acc=1, loss=0.335] \n"
          ]
        },
        {
          "output_type": "stream",
          "name": "stdout",
          "text": [
            "Epoch 55 validation: Cross-entropy=0.35, Accuracy=95.6%\n"
          ]
        },
        {
          "output_type": "stream",
          "name": "stderr",
          "text": [
            "Epoch 56: 100%|██████████| 21/21 [00:00<00:00, 156.60batch/s, acc=1, loss=0.329]\n"
          ]
        },
        {
          "output_type": "stream",
          "name": "stdout",
          "text": [
            "Epoch 56 validation: Cross-entropy=0.34, Accuracy=95.6%\n"
          ]
        },
        {
          "output_type": "stream",
          "name": "stderr",
          "text": [
            "Epoch 57: 100%|██████████| 21/21 [00:00<00:00, 168.81batch/s, acc=1, loss=0.322]\n"
          ]
        },
        {
          "output_type": "stream",
          "name": "stdout",
          "text": [
            "Epoch 57 validation: Cross-entropy=0.34, Accuracy=95.6%\n"
          ]
        },
        {
          "output_type": "stream",
          "name": "stderr",
          "text": [
            "Epoch 58: 100%|██████████| 21/21 [00:00<00:00, 82.50batch/s, acc=1, loss=0.316]\n"
          ]
        },
        {
          "output_type": "stream",
          "name": "stdout",
          "text": [
            "Epoch 58 validation: Cross-entropy=0.33, Accuracy=95.6%\n"
          ]
        },
        {
          "output_type": "stream",
          "name": "stderr",
          "text": [
            "Epoch 59: 100%|██████████| 21/21 [00:00<00:00, 144.77batch/s, acc=1, loss=0.31]\n"
          ]
        },
        {
          "output_type": "stream",
          "name": "stdout",
          "text": [
            "Epoch 59 validation: Cross-entropy=0.33, Accuracy=95.6%\n"
          ]
        },
        {
          "output_type": "stream",
          "name": "stderr",
          "text": [
            "Epoch 60: 100%|██████████| 21/21 [00:00<00:00, 135.39batch/s, acc=1, loss=0.305]\n"
          ]
        },
        {
          "output_type": "stream",
          "name": "stdout",
          "text": [
            "Epoch 60 validation: Cross-entropy=0.32, Accuracy=95.6%\n"
          ]
        },
        {
          "output_type": "stream",
          "name": "stderr",
          "text": [
            "Epoch 61: 100%|██████████| 21/21 [00:00<00:00, 137.18batch/s, acc=1, loss=0.299]\n"
          ]
        },
        {
          "output_type": "stream",
          "name": "stdout",
          "text": [
            "Epoch 61 validation: Cross-entropy=0.32, Accuracy=95.6%\n"
          ]
        },
        {
          "output_type": "stream",
          "name": "stderr",
          "text": [
            "Epoch 62: 100%|██████████| 21/21 [00:00<00:00, 122.20batch/s, acc=1, loss=0.293]\n"
          ]
        },
        {
          "output_type": "stream",
          "name": "stdout",
          "text": [
            "Epoch 62 validation: Cross-entropy=0.31, Accuracy=95.6%\n"
          ]
        },
        {
          "output_type": "stream",
          "name": "stderr",
          "text": [
            "Epoch 63: 100%|██████████| 21/21 [00:00<00:00, 137.68batch/s, acc=1, loss=0.288]\n"
          ]
        },
        {
          "output_type": "stream",
          "name": "stdout",
          "text": [
            "Epoch 63 validation: Cross-entropy=0.31, Accuracy=95.6%\n"
          ]
        },
        {
          "output_type": "stream",
          "name": "stderr",
          "text": [
            "Epoch 64: 100%|██████████| 21/21 [00:00<00:00, 131.07batch/s, acc=1, loss=0.283]\n"
          ]
        },
        {
          "output_type": "stream",
          "name": "stdout",
          "text": [
            "Epoch 64 validation: Cross-entropy=0.30, Accuracy=95.6%\n"
          ]
        },
        {
          "output_type": "stream",
          "name": "stderr",
          "text": [
            "Epoch 65: 100%|██████████| 21/21 [00:00<00:00, 133.30batch/s, acc=1, loss=0.278]\n"
          ]
        },
        {
          "output_type": "stream",
          "name": "stdout",
          "text": [
            "Epoch 65 validation: Cross-entropy=0.30, Accuracy=95.6%\n"
          ]
        },
        {
          "output_type": "stream",
          "name": "stderr",
          "text": [
            "Epoch 66: 100%|██████████| 21/21 [00:00<00:00, 157.14batch/s, acc=1, loss=0.273]\n"
          ]
        },
        {
          "output_type": "stream",
          "name": "stdout",
          "text": [
            "Epoch 66 validation: Cross-entropy=0.29, Accuracy=95.6%\n"
          ]
        },
        {
          "output_type": "stream",
          "name": "stderr",
          "text": [
            "Epoch 67: 100%|██████████| 21/21 [00:00<00:00, 151.65batch/s, acc=1, loss=0.268]\n"
          ]
        },
        {
          "output_type": "stream",
          "name": "stdout",
          "text": [
            "Epoch 67 validation: Cross-entropy=0.29, Accuracy=95.6%\n"
          ]
        },
        {
          "output_type": "stream",
          "name": "stderr",
          "text": [
            "Epoch 68: 100%|██████████| 21/21 [00:00<00:00, 147.39batch/s, acc=1, loss=0.263]\n"
          ]
        },
        {
          "output_type": "stream",
          "name": "stdout",
          "text": [
            "Epoch 68 validation: Cross-entropy=0.28, Accuracy=95.6%\n"
          ]
        },
        {
          "output_type": "stream",
          "name": "stderr",
          "text": [
            "Epoch 69: 100%|██████████| 21/21 [00:00<00:00, 146.59batch/s, acc=1, loss=0.259]\n"
          ]
        },
        {
          "output_type": "stream",
          "name": "stdout",
          "text": [
            "Epoch 69 validation: Cross-entropy=0.28, Accuracy=95.6%\n"
          ]
        },
        {
          "output_type": "stream",
          "name": "stderr",
          "text": [
            "Epoch 70: 100%|██████████| 21/21 [00:00<00:00, 158.81batch/s, acc=1, loss=0.254]\n"
          ]
        },
        {
          "output_type": "stream",
          "name": "stdout",
          "text": [
            "Epoch 70 validation: Cross-entropy=0.28, Accuracy=95.6%\n"
          ]
        },
        {
          "output_type": "stream",
          "name": "stderr",
          "text": [
            "Epoch 71: 100%|██████████| 21/21 [00:00<00:00, 220.09batch/s, acc=1, loss=0.25]\n"
          ]
        },
        {
          "output_type": "stream",
          "name": "stdout",
          "text": [
            "Epoch 71 validation: Cross-entropy=0.27, Accuracy=95.6%\n"
          ]
        },
        {
          "output_type": "stream",
          "name": "stderr",
          "text": [
            "Epoch 72: 100%|██████████| 21/21 [00:00<00:00, 225.56batch/s, acc=1, loss=0.245]\n"
          ]
        },
        {
          "output_type": "stream",
          "name": "stdout",
          "text": [
            "Epoch 72 validation: Cross-entropy=0.27, Accuracy=95.6%\n"
          ]
        },
        {
          "output_type": "stream",
          "name": "stderr",
          "text": [
            "Epoch 73: 100%|██████████| 21/21 [00:00<00:00, 229.66batch/s, acc=1, loss=0.241]\n"
          ]
        },
        {
          "output_type": "stream",
          "name": "stdout",
          "text": [
            "Epoch 73 validation: Cross-entropy=0.26, Accuracy=95.6%\n"
          ]
        },
        {
          "output_type": "stream",
          "name": "stderr",
          "text": [
            "Epoch 74: 100%|██████████| 21/21 [00:00<00:00, 225.58batch/s, acc=1, loss=0.237]\n"
          ]
        },
        {
          "output_type": "stream",
          "name": "stdout",
          "text": [
            "Epoch 74 validation: Cross-entropy=0.26, Accuracy=95.6%\n"
          ]
        },
        {
          "output_type": "stream",
          "name": "stderr",
          "text": [
            "Epoch 75: 100%|██████████| 21/21 [00:00<00:00, 202.01batch/s, acc=1, loss=0.233]\n"
          ]
        },
        {
          "output_type": "stream",
          "name": "stdout",
          "text": [
            "Epoch 75 validation: Cross-entropy=0.26, Accuracy=95.6%\n"
          ]
        },
        {
          "output_type": "stream",
          "name": "stderr",
          "text": [
            "Epoch 76: 100%|██████████| 21/21 [00:00<00:00, 173.73batch/s, acc=1, loss=0.229]\n"
          ]
        },
        {
          "output_type": "stream",
          "name": "stdout",
          "text": [
            "Epoch 76 validation: Cross-entropy=0.25, Accuracy=95.6%\n"
          ]
        },
        {
          "output_type": "stream",
          "name": "stderr",
          "text": [
            "Epoch 77: 100%|██████████| 21/21 [00:00<00:00, 211.51batch/s, acc=1, loss=0.225]\n"
          ]
        },
        {
          "output_type": "stream",
          "name": "stdout",
          "text": [
            "Epoch 77 validation: Cross-entropy=0.25, Accuracy=95.6%\n"
          ]
        },
        {
          "output_type": "stream",
          "name": "stderr",
          "text": [
            "Epoch 78: 100%|██████████| 21/21 [00:00<00:00, 226.31batch/s, acc=1, loss=0.222]\n"
          ]
        },
        {
          "output_type": "stream",
          "name": "stdout",
          "text": [
            "Epoch 78 validation: Cross-entropy=0.25, Accuracy=95.6%\n"
          ]
        },
        {
          "output_type": "stream",
          "name": "stderr",
          "text": [
            "Epoch 79: 100%|██████████| 21/21 [00:00<00:00, 212.44batch/s, acc=1, loss=0.218]\n"
          ]
        },
        {
          "output_type": "stream",
          "name": "stdout",
          "text": [
            "Epoch 79 validation: Cross-entropy=0.25, Accuracy=95.6%\n"
          ]
        },
        {
          "output_type": "stream",
          "name": "stderr",
          "text": [
            "Epoch 80: 100%|██████████| 21/21 [00:00<00:00, 218.45batch/s, acc=1, loss=0.214]\n"
          ]
        },
        {
          "output_type": "stream",
          "name": "stdout",
          "text": [
            "Epoch 80 validation: Cross-entropy=0.24, Accuracy=95.6%\n"
          ]
        },
        {
          "output_type": "stream",
          "name": "stderr",
          "text": [
            "Epoch 81: 100%|██████████| 21/21 [00:00<00:00, 102.20batch/s, acc=1, loss=0.211]\n"
          ]
        },
        {
          "output_type": "stream",
          "name": "stdout",
          "text": [
            "Epoch 81 validation: Cross-entropy=0.24, Accuracy=95.6%\n"
          ]
        },
        {
          "output_type": "stream",
          "name": "stderr",
          "text": [
            "Epoch 82: 100%|██████████| 21/21 [00:00<00:00, 209.11batch/s, acc=1, loss=0.207]\n"
          ]
        },
        {
          "output_type": "stream",
          "name": "stdout",
          "text": [
            "Epoch 82 validation: Cross-entropy=0.24, Accuracy=95.6%\n"
          ]
        },
        {
          "output_type": "stream",
          "name": "stderr",
          "text": [
            "Epoch 83: 100%|██████████| 21/21 [00:00<00:00, 221.80batch/s, acc=1, loss=0.204]\n"
          ]
        },
        {
          "output_type": "stream",
          "name": "stdout",
          "text": [
            "Epoch 83 validation: Cross-entropy=0.23, Accuracy=95.6%\n"
          ]
        },
        {
          "output_type": "stream",
          "name": "stderr",
          "text": [
            "Epoch 84: 100%|██████████| 21/21 [00:00<00:00, 226.06batch/s, acc=1, loss=0.201]\n"
          ]
        },
        {
          "output_type": "stream",
          "name": "stdout",
          "text": [
            "Epoch 84 validation: Cross-entropy=0.23, Accuracy=95.6%\n"
          ]
        },
        {
          "output_type": "stream",
          "name": "stderr",
          "text": [
            "Epoch 85: 100%|██████████| 21/21 [00:00<00:00, 204.89batch/s, acc=1, loss=0.197]\n"
          ]
        },
        {
          "output_type": "stream",
          "name": "stdout",
          "text": [
            "Epoch 85 validation: Cross-entropy=0.23, Accuracy=95.6%\n"
          ]
        },
        {
          "output_type": "stream",
          "name": "stderr",
          "text": [
            "Epoch 86: 100%|██████████| 21/21 [00:00<00:00, 85.46batch/s, acc=1, loss=0.194] \n"
          ]
        },
        {
          "output_type": "stream",
          "name": "stdout",
          "text": [
            "Epoch 86 validation: Cross-entropy=0.23, Accuracy=95.6%\n"
          ]
        },
        {
          "output_type": "stream",
          "name": "stderr",
          "text": [
            "Epoch 87: 100%|██████████| 21/21 [00:00<00:00, 207.15batch/s, acc=1, loss=0.191]\n"
          ]
        },
        {
          "output_type": "stream",
          "name": "stdout",
          "text": [
            "Epoch 87 validation: Cross-entropy=0.22, Accuracy=95.6%\n"
          ]
        },
        {
          "output_type": "stream",
          "name": "stderr",
          "text": [
            "Epoch 88: 100%|██████████| 21/21 [00:00<00:00, 223.77batch/s, acc=1, loss=0.188]\n"
          ]
        },
        {
          "output_type": "stream",
          "name": "stdout",
          "text": [
            "Epoch 88 validation: Cross-entropy=0.22, Accuracy=95.6%\n"
          ]
        },
        {
          "output_type": "stream",
          "name": "stderr",
          "text": [
            "Epoch 89: 100%|██████████| 21/21 [00:00<00:00, 222.72batch/s, acc=1, loss=0.185]\n"
          ]
        },
        {
          "output_type": "stream",
          "name": "stdout",
          "text": [
            "Epoch 89 validation: Cross-entropy=0.22, Accuracy=95.6%\n"
          ]
        },
        {
          "output_type": "stream",
          "name": "stderr",
          "text": [
            "Epoch 90: 100%|██████████| 21/21 [00:00<00:00, 206.25batch/s, acc=1, loss=0.182]\n"
          ]
        },
        {
          "output_type": "stream",
          "name": "stdout",
          "text": [
            "Epoch 90 validation: Cross-entropy=0.22, Accuracy=95.6%\n"
          ]
        },
        {
          "output_type": "stream",
          "name": "stderr",
          "text": [
            "Epoch 91: 100%|██████████| 21/21 [00:00<00:00, 86.98batch/s, acc=1, loss=0.179]\n"
          ]
        },
        {
          "output_type": "stream",
          "name": "stdout",
          "text": [
            "Epoch 91 validation: Cross-entropy=0.21, Accuracy=95.6%\n"
          ]
        },
        {
          "output_type": "stream",
          "name": "stderr",
          "text": [
            "Epoch 92: 100%|██████████| 21/21 [00:00<00:00, 51.75batch/s, acc=1, loss=0.176]\n"
          ]
        },
        {
          "output_type": "stream",
          "name": "stdout",
          "text": [
            "Epoch 92 validation: Cross-entropy=0.21, Accuracy=95.6%\n"
          ]
        },
        {
          "output_type": "stream",
          "name": "stderr",
          "text": [
            "Epoch 93: 100%|██████████| 21/21 [00:00<00:00, 153.65batch/s, acc=1, loss=0.173]\n"
          ]
        },
        {
          "output_type": "stream",
          "name": "stdout",
          "text": [
            "Epoch 93 validation: Cross-entropy=0.21, Accuracy=95.6%\n"
          ]
        },
        {
          "output_type": "stream",
          "name": "stderr",
          "text": [
            "Epoch 104: 100%|██████████| 21/21 [00:00<00:00, 119.97batch/s, acc=1, loss=0.146]\n"
          ]
        },
        {
          "output_type": "stream",
          "name": "stdout",
          "text": [
            "Epoch 104 validation: Cross-entropy=0.19, Accuracy=97.8%\n"
          ]
        },
        {
          "output_type": "stream",
          "name": "stderr",
          "text": [
            "Epoch 105: 100%|██████████| 21/21 [00:00<00:00, 183.61batch/s, acc=1, loss=0.144]\n"
          ]
        },
        {
          "output_type": "stream",
          "name": "stdout",
          "text": [
            "Epoch 105 validation: Cross-entropy=0.19, Accuracy=97.8%\n"
          ]
        },
        {
          "output_type": "stream",
          "name": "stderr",
          "text": [
            "Epoch 106: 100%|██████████| 21/21 [00:00<00:00, 195.97batch/s, acc=1, loss=0.141]\n"
          ]
        },
        {
          "output_type": "stream",
          "name": "stdout",
          "text": [
            "Epoch 106 validation: Cross-entropy=0.19, Accuracy=97.8%\n"
          ]
        },
        {
          "output_type": "stream",
          "name": "stderr",
          "text": [
            "Epoch 107: 100%|██████████| 21/21 [00:00<00:00, 196.43batch/s, acc=1, loss=0.139]\n"
          ]
        },
        {
          "output_type": "stream",
          "name": "stdout",
          "text": [
            "Epoch 107 validation: Cross-entropy=0.19, Accuracy=97.8%\n"
          ]
        },
        {
          "output_type": "stream",
          "name": "stderr",
          "text": [
            "Epoch 108: 100%|██████████| 21/21 [00:00<00:00, 188.73batch/s, acc=1, loss=0.137]\n"
          ]
        },
        {
          "output_type": "stream",
          "name": "stdout",
          "text": [
            "Epoch 108 validation: Cross-entropy=0.19, Accuracy=97.8%\n"
          ]
        },
        {
          "output_type": "stream",
          "name": "stderr",
          "text": [
            "Epoch 109: 100%|██████████| 21/21 [00:00<00:00, 194.25batch/s, acc=1, loss=0.135]\n"
          ]
        },
        {
          "output_type": "stream",
          "name": "stdout",
          "text": [
            "Epoch 109 validation: Cross-entropy=0.18, Accuracy=97.8%\n"
          ]
        },
        {
          "output_type": "stream",
          "name": "stderr",
          "text": [
            "Epoch 110: 100%|██████████| 21/21 [00:00<00:00, 183.42batch/s, acc=1, loss=0.133]\n"
          ]
        },
        {
          "output_type": "stream",
          "name": "stdout",
          "text": [
            "Epoch 110 validation: Cross-entropy=0.18, Accuracy=97.8%\n"
          ]
        },
        {
          "output_type": "stream",
          "name": "stderr",
          "text": [
            "Epoch 111: 100%|██████████| 21/21 [00:00<00:00, 189.57batch/s, acc=1, loss=0.131]\n"
          ]
        },
        {
          "output_type": "stream",
          "name": "stdout",
          "text": [
            "Epoch 111 validation: Cross-entropy=0.18, Accuracy=97.8%\n"
          ]
        },
        {
          "output_type": "stream",
          "name": "stderr",
          "text": [
            "Epoch 112: 100%|██████████| 21/21 [00:00<00:00, 109.37batch/s, acc=1, loss=0.129]\n"
          ]
        },
        {
          "output_type": "stream",
          "name": "stdout",
          "text": [
            "Epoch 112 validation: Cross-entropy=0.18, Accuracy=97.8%\n"
          ]
        },
        {
          "output_type": "stream",
          "name": "stderr",
          "text": [
            "Epoch 113: 100%|██████████| 21/21 [00:00<00:00, 188.23batch/s, acc=1, loss=0.127]\n"
          ]
        },
        {
          "output_type": "stream",
          "name": "stdout",
          "text": [
            "Epoch 113 validation: Cross-entropy=0.18, Accuracy=97.8%\n"
          ]
        },
        {
          "output_type": "stream",
          "name": "stderr",
          "text": [
            "Epoch 114: 100%|██████████| 21/21 [00:00<00:00, 180.09batch/s, acc=1, loss=0.126]\n"
          ]
        },
        {
          "output_type": "stream",
          "name": "stdout",
          "text": [
            "Epoch 114 validation: Cross-entropy=0.18, Accuracy=97.8%\n"
          ]
        },
        {
          "output_type": "stream",
          "name": "stderr",
          "text": [
            "Epoch 123: 100%|██████████| 21/21 [00:00<00:00, 85.56batch/s, acc=1, loss=0.11] \n"
          ]
        },
        {
          "output_type": "stream",
          "name": "stdout",
          "text": [
            "Epoch 123 validation: Cross-entropy=0.17, Accuracy=97.8%\n"
          ]
        },
        {
          "output_type": "stream",
          "name": "stderr",
          "text": [
            "Epoch 124: 100%|██████████| 21/21 [00:00<00:00, 191.28batch/s, acc=1, loss=0.109]\n"
          ]
        },
        {
          "output_type": "stream",
          "name": "stdout",
          "text": [
            "Epoch 124 validation: Cross-entropy=0.17, Accuracy=97.8%\n"
          ]
        },
        {
          "output_type": "stream",
          "name": "stderr",
          "text": [
            "Epoch 125: 100%|██████████| 21/21 [00:00<00:00, 196.45batch/s, acc=1, loss=0.107]\n"
          ]
        },
        {
          "output_type": "stream",
          "name": "stdout",
          "text": [
            "Epoch 125 validation: Cross-entropy=0.17, Accuracy=97.8%\n"
          ]
        },
        {
          "output_type": "stream",
          "name": "stderr",
          "text": [
            "Epoch 126: 100%|██████████| 21/21 [00:00<00:00, 189.91batch/s, acc=1, loss=0.105]\n"
          ]
        },
        {
          "output_type": "stream",
          "name": "stdout",
          "text": [
            "Epoch 126 validation: Cross-entropy=0.17, Accuracy=97.8%\n"
          ]
        },
        {
          "output_type": "stream",
          "name": "stderr",
          "text": [
            "Epoch 127: 100%|██████████| 21/21 [00:00<00:00, 188.90batch/s, acc=1, loss=0.104]\n"
          ]
        },
        {
          "output_type": "stream",
          "name": "stdout",
          "text": [
            "Epoch 127 validation: Cross-entropy=0.16, Accuracy=97.8%\n"
          ]
        },
        {
          "output_type": "stream",
          "name": "stderr",
          "text": [
            "Epoch 128: 100%|██████████| 21/21 [00:00<00:00, 85.34batch/s, acc=1, loss=0.103] \n"
          ]
        },
        {
          "output_type": "stream",
          "name": "stdout",
          "text": [
            "Epoch 128 validation: Cross-entropy=0.16, Accuracy=97.8%\n"
          ]
        },
        {
          "output_type": "stream",
          "name": "stderr",
          "text": [
            "Epoch 129: 100%|██████████| 21/21 [00:00<00:00, 220.75batch/s, acc=1, loss=0.101]\n"
          ]
        },
        {
          "output_type": "stream",
          "name": "stdout",
          "text": [
            "Epoch 129 validation: Cross-entropy=0.16, Accuracy=97.8%\n"
          ]
        },
        {
          "output_type": "stream",
          "name": "stderr",
          "text": [
            "Epoch 130: 100%|██████████| 21/21 [00:00<00:00, 194.42batch/s, acc=1, loss=0.0997]\n"
          ]
        },
        {
          "output_type": "stream",
          "name": "stdout",
          "text": [
            "Epoch 130 validation: Cross-entropy=0.16, Accuracy=97.8%\n"
          ]
        },
        {
          "output_type": "stream",
          "name": "stderr",
          "text": [
            "Epoch 131: 100%|██████████| 21/21 [00:00<00:00, 208.77batch/s, acc=1, loss=0.0984]\n"
          ]
        },
        {
          "output_type": "stream",
          "name": "stdout",
          "text": [
            "Epoch 131 validation: Cross-entropy=0.16, Accuracy=97.8%\n"
          ]
        },
        {
          "output_type": "stream",
          "name": "stderr",
          "text": [
            "Epoch 132: 100%|██████████| 21/21 [00:00<00:00, 209.29batch/s, acc=1, loss=0.097]\n"
          ]
        },
        {
          "output_type": "stream",
          "name": "stdout",
          "text": [
            "Epoch 132 validation: Cross-entropy=0.16, Accuracy=97.8%\n"
          ]
        },
        {
          "output_type": "stream",
          "name": "stderr",
          "text": [
            "Epoch 144: 100%|██████████| 21/21 [00:00<00:00, 93.36batch/s, acc=1, loss=0.0827] \n"
          ]
        },
        {
          "output_type": "stream",
          "name": "stdout",
          "text": [
            "Epoch 144 validation: Cross-entropy=0.15, Accuracy=97.8%\n"
          ]
        },
        {
          "output_type": "stream",
          "name": "stderr",
          "text": [
            "Epoch 145: 100%|██████████| 21/21 [00:00<00:00, 206.83batch/s, acc=1, loss=0.0816]\n"
          ]
        },
        {
          "output_type": "stream",
          "name": "stdout",
          "text": [
            "Epoch 145 validation: Cross-entropy=0.15, Accuracy=97.8%\n"
          ]
        },
        {
          "output_type": "stream",
          "name": "stderr",
          "text": [
            "Epoch 146: 100%|██████████| 21/21 [00:00<00:00, 194.27batch/s, acc=1, loss=0.0806]\n"
          ]
        },
        {
          "output_type": "stream",
          "name": "stdout",
          "text": [
            "Epoch 146 validation: Cross-entropy=0.15, Accuracy=97.8%\n"
          ]
        },
        {
          "output_type": "stream",
          "name": "stderr",
          "text": [
            "Epoch 147: 100%|██████████| 21/21 [00:00<00:00, 208.71batch/s, acc=1, loss=0.0796]\n"
          ]
        },
        {
          "output_type": "stream",
          "name": "stdout",
          "text": [
            "Epoch 147 validation: Cross-entropy=0.15, Accuracy=97.8%\n"
          ]
        },
        {
          "output_type": "stream",
          "name": "stderr",
          "text": [
            "Epoch 148: 100%|██████████| 21/21 [00:00<00:00, 194.58batch/s, acc=1, loss=0.0786]\n"
          ]
        },
        {
          "output_type": "stream",
          "name": "stdout",
          "text": [
            "Epoch 148 validation: Cross-entropy=0.15, Accuracy=97.8%\n"
          ]
        },
        {
          "output_type": "stream",
          "name": "stderr",
          "text": [
            "Epoch 149: 100%|██████████| 21/21 [00:00<00:00, 87.69batch/s, acc=1, loss=0.0776] \n"
          ]
        },
        {
          "output_type": "stream",
          "name": "stdout",
          "text": [
            "Epoch 149 validation: Cross-entropy=0.15, Accuracy=97.8%\n"
          ]
        },
        {
          "output_type": "stream",
          "name": "stderr",
          "text": [
            "Epoch 150: 100%|██████████| 21/21 [00:00<00:00, 199.03batch/s, acc=1, loss=0.0766]\n"
          ]
        },
        {
          "output_type": "stream",
          "name": "stdout",
          "text": [
            "Epoch 150 validation: Cross-entropy=0.15, Accuracy=97.8%\n"
          ]
        },
        {
          "output_type": "stream",
          "name": "stderr",
          "text": [
            "Epoch 151: 100%|██████████| 21/21 [00:00<00:00, 203.04batch/s, acc=1, loss=0.0756]\n"
          ]
        },
        {
          "output_type": "stream",
          "name": "stdout",
          "text": [
            "Epoch 151 validation: Cross-entropy=0.15, Accuracy=97.8%\n"
          ]
        },
        {
          "output_type": "stream",
          "name": "stderr",
          "text": [
            "Epoch 152: 100%|██████████| 21/21 [00:00<00:00, 211.15batch/s, acc=1, loss=0.0747]\n"
          ]
        },
        {
          "output_type": "stream",
          "name": "stdout",
          "text": [
            "Epoch 152 validation: Cross-entropy=0.15, Accuracy=97.8%\n"
          ]
        },
        {
          "output_type": "stream",
          "name": "stderr",
          "text": [
            "Epoch 153: 100%|██████████| 21/21 [00:00<00:00, 194.24batch/s, acc=1, loss=0.0738]\n"
          ]
        },
        {
          "output_type": "stream",
          "name": "stdout",
          "text": [
            "Epoch 153 validation: Cross-entropy=0.15, Accuracy=97.8%\n"
          ]
        },
        {
          "output_type": "stream",
          "name": "stderr",
          "text": [
            "Epoch 165: 100%|██████████| 21/21 [00:00<00:00, 98.75batch/s, acc=1, loss=0.0637] \n"
          ]
        },
        {
          "output_type": "stream",
          "name": "stdout",
          "text": [
            "Epoch 165 validation: Cross-entropy=0.14, Accuracy=97.8%\n"
          ]
        },
        {
          "output_type": "stream",
          "name": "stderr",
          "text": [
            "Epoch 166: 100%|██████████| 21/21 [00:00<00:00, 188.60batch/s, acc=1, loss=0.063]\n"
          ]
        },
        {
          "output_type": "stream",
          "name": "stdout",
          "text": [
            "Epoch 166 validation: Cross-entropy=0.14, Accuracy=97.8%\n"
          ]
        },
        {
          "output_type": "stream",
          "name": "stderr",
          "text": [
            "Epoch 167: 100%|██████████| 21/21 [00:00<00:00, 202.36batch/s, acc=1, loss=0.0623]\n"
          ]
        },
        {
          "output_type": "stream",
          "name": "stdout",
          "text": [
            "Epoch 167 validation: Cross-entropy=0.14, Accuracy=97.8%\n"
          ]
        },
        {
          "output_type": "stream",
          "name": "stderr",
          "text": [
            "Epoch 168: 100%|██████████| 21/21 [00:00<00:00, 189.18batch/s, acc=1, loss=0.0615]\n"
          ]
        },
        {
          "output_type": "stream",
          "name": "stdout",
          "text": [
            "Epoch 168 validation: Cross-entropy=0.14, Accuracy=97.8%\n"
          ]
        },
        {
          "output_type": "stream",
          "name": "stderr",
          "text": [
            "Epoch 169: 100%|██████████| 21/21 [00:00<00:00, 192.88batch/s, acc=1, loss=0.0608]\n"
          ]
        },
        {
          "output_type": "stream",
          "name": "stdout",
          "text": [
            "Epoch 169 validation: Cross-entropy=0.14, Accuracy=97.8%\n"
          ]
        },
        {
          "output_type": "stream",
          "name": "stderr",
          "text": [
            "Epoch 170: 100%|██████████| 21/21 [00:00<00:00, 73.38batch/s, acc=1, loss=0.0601] \n"
          ]
        },
        {
          "output_type": "stream",
          "name": "stdout",
          "text": [
            "Epoch 170 validation: Cross-entropy=0.14, Accuracy=97.8%\n"
          ]
        },
        {
          "output_type": "stream",
          "name": "stderr",
          "text": [
            "Epoch 171: 100%|██████████| 21/21 [00:00<00:00, 202.21batch/s, acc=1, loss=0.0594]\n"
          ]
        },
        {
          "output_type": "stream",
          "name": "stdout",
          "text": [
            "Epoch 171 validation: Cross-entropy=0.14, Accuracy=97.8%\n"
          ]
        },
        {
          "output_type": "stream",
          "name": "stderr",
          "text": [
            "Epoch 172: 100%|██████████| 21/21 [00:00<00:00, 181.92batch/s, acc=1, loss=0.0588]\n"
          ]
        },
        {
          "output_type": "stream",
          "name": "stdout",
          "text": [
            "Epoch 172 validation: Cross-entropy=0.14, Accuracy=97.8%\n"
          ]
        },
        {
          "output_type": "stream",
          "name": "stderr",
          "text": [
            "Epoch 173: 100%|██████████| 21/21 [00:00<00:00, 211.63batch/s, acc=1, loss=0.0581]\n"
          ]
        },
        {
          "output_type": "stream",
          "name": "stdout",
          "text": [
            "Epoch 173 validation: Cross-entropy=0.14, Accuracy=97.8%\n"
          ]
        },
        {
          "output_type": "stream",
          "name": "stderr",
          "text": [
            "Epoch 174: 100%|██████████| 21/21 [00:00<00:00, 190.56batch/s, acc=1, loss=0.0574]\n"
          ]
        },
        {
          "output_type": "stream",
          "name": "stdout",
          "text": [
            "Epoch 174 validation: Cross-entropy=0.14, Accuracy=97.8%\n"
          ]
        },
        {
          "output_type": "stream",
          "name": "stderr",
          "text": [
            "Epoch 175: 100%|██████████| 21/21 [00:00<00:00, 109.77batch/s, acc=1, loss=0.0568]\n"
          ]
        },
        {
          "output_type": "stream",
          "name": "stdout",
          "text": [
            "Epoch 175 validation: Cross-entropy=0.14, Accuracy=97.8%\n"
          ]
        },
        {
          "output_type": "stream",
          "name": "stderr",
          "text": [
            "Epoch 176:  19%|█▉        | 4/21 [00:00<00:00, 242.94batch/s, acc=1, loss=0.164]\n"
          ]
        },
        {
          "output_type": "stream",
          "name": "stdout",
          "text": [
            "Epoch 199 validation: Cross-entropy=0.13, Accuracy=97.8%\n"
          ]
        },
        {
          "output_type": "display_data",
          "data": {
            "text/plain": [
              "<Figure size 640x480 with 1 Axes>"
            ],
            "image/png": "[encoded data removed]"
          },
          "metadata": {}
        },
        {
          "output_type": "display_data",
          "data": {
            "text/plain": [
              "<Figure size 640x480 with 1 Axes>"
            ],
            "image/png": "[encoded data removed]"
          },
          "metadata": {}
        }
      ]
    },
    {
      "cell_type": "markdown",
      "source": [
        "# Summary\n",
        "\n",
        "Let's define some things:\n",
        "\n",
        "$i$ = number of inputs\n",
        "\n",
        "Quadric neuron: $2i+1$ parameters, $3i$ multiplications, $2i+1$ additions\n",
        "\n",
        "Linear neuron: $i+1$ parameters, $i$ multiplications, $i+1$ additions\n",
        "\n",
        "$n$ = number of units in layer\n",
        "\n",
        "$p$ = number of parameters (weights and bias)\n",
        "\n",
        "$m$ = number of multiplications\n",
        "\n",
        "$a$ = number of additions\n",
        "\n",
        "Quadric layer: $p = n(2i+1)$, $m = n(3i)$, $a = n(2i+1)$\n",
        "\n",
        "Linear layer: $p = n(i+1)$, $m = ni$, $a = n(i+1)$\n",
        "\n",
        "Now let's compare the complexity of above models:\n",
        "\n",
        "Linear model:\n",
        " - linear hidden layer with 4 inputs and 8 units: $p_h = 40$, $m_h = 32$, $a_h = 40$\n",
        " - linear output layer with 8 inputs and 3 units: $p_h = 27$, $m_h = 24$, $a_h =27$\n",
        " - total: $p = 67$, $m = 56$, $a = 67$\n",
        "\n",
        "Quadric (hybrid) model:\n",
        "- quadric hidden layer with 4 inputs and 3 units: $p_h = 27$, $m_h = 36$, $a_h = 27$\n",
        "- linear output layer with 3 inputs and 3 units: $p_h = 12$, $m_h = 9$, $a_h = 12$\n",
        "- total: $p = 39$, $m = 45$, $a = 39$\n",
        "\n",
        "The results are by no means a scientific study but even in this small example we can see the following reductions:\n",
        "\n",
        "- reduction in model size (parameters): ~42%\n",
        "- reduction in multiplications: ~20%\n",
        "- reduction in additions: ~42%\n",
        "\n",
        "This is very encouraging for further studies in all kinds of applications like vision, transformers, GAN, LLMs etc. where we encounter many more layers and many more units per layer and will be able to significantly reduce model size by introducing quadric layers and hybrid models or even purely quadric models.\n",
        "\n",
        "In my humble opinion deep quadric learning is a valuable contribution towards much smaller models of the same level of performance with all the advantages mentioned in Episode 1 like democratization of access to AI, reduction and therefore decentralization of compute power, smaller carbon foot print etc.\n",
        "\n"
      ],
      "metadata": {
        "id": "36qo997EYKwP"
      }
    }
  ]
}
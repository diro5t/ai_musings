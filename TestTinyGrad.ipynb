{
  "nbformat": 4,
  "nbformat_minor": 0,
  "metadata": {
    "colab": {
      "provenance": [],
      "mount_file_id": "1RslENvDNQtzjfUYe_Xweq_o9z0cd6BKY",
      "authorship_tag": "ABX9TyOGn2r0rODRzhGlqAK1I+E7",
      "include_colab_link": true
    },
    "kernelspec": {
      "name": "python3",
      "display_name": "Python 3"
    },
    "language_info": {
      "name": "python"
    }
  },
  "cells": [
    {
      "cell_type": "markdown",
      "metadata": {
        "id": "view-in-github",
        "colab_type": "text"
      },
      "source": [
        "<a href=\"https://colab.research.google.com/github/diro5t/deep_quadric_learning/blob/main/TestTinyGrad.ipynb\" target=\"_parent\"><img src=\"https://colab.research.google.com/assets/colab-badge.svg\" alt=\"Open In Colab\"/></a>"
      ]
    },
    {
      "cell_type": "markdown",
      "source": [
        "### Install tinygrad"
      ],
      "metadata": {
        "id": "K2cj-VLY_Xvm"
      }
    },
    {
      "cell_type": "code",
      "source": [
        "%cd /content"
      ],
      "metadata": {
        "colab": {
          "base_uri": "https://localhost:8080/"
        },
        "id": "0S3mazdk6DMy",
        "outputId": "87e613ff-1526-44ce-a99f-f29dcf996b01"
      },
      "execution_count": null,
      "outputs": [
        {
          "output_type": "stream",
          "name": "stdout",
          "text": [
            "/content\n"
          ]
        }
      ]
    },
    {
      "cell_type": "code",
      "source": [
        "import shutil\n",
        "shutil.rmtree('tinygrad')"
      ],
      "metadata": {
        "id": "PEDAFyxQ5RP4"
      },
      "execution_count": null,
      "outputs": []
    },
    {
      "cell_type": "code",
      "source": [
        "!git clone https://github.com/geohot/tinygrad.git"
      ],
      "metadata": {
        "colab": {
          "base_uri": "https://localhost:8080/"
        },
        "id": "8m3Bn7mE0yfe",
        "outputId": "21241bda-1fcc-4503-d84b-456322d52d70"
      },
      "execution_count": null,
      "outputs": [
        {
          "output_type": "stream",
          "name": "stdout",
          "text": [
            "Cloning into 'tinygrad'...\n",
            "remote: Enumerating objects: 14716, done.\u001b[K\n",
            "remote: Counting objects: 100% (4132/4132), done.\u001b[K\n",
            "remote: Compressing objects: 100% (387/387), done.\u001b[K\n",
            "remote: Total 14716 (delta 3830), reused 3763 (delta 3742), pack-reused 10584\u001b[K\n",
            "Receiving objects: 100% (14716/14716), 18.38 MiB | 36.40 MiB/s, done.\n",
            "Resolving deltas: 100% (10508/10508), done.\n"
          ]
        }
      ]
    },
    {
      "cell_type": "code",
      "source": [
        "%cd tinygrad"
      ],
      "metadata": {
        "colab": {
          "base_uri": "https://localhost:8080/"
        },
        "id": "u4Lt8PJV1jA5",
        "outputId": "6f798110-9e0d-4d02-b85d-ab6aabd7b29c"
      },
      "execution_count": null,
      "outputs": [
        {
          "output_type": "stream",
          "name": "stdout",
          "text": [
            "/content/tinygrad\n"
          ]
        }
      ]
    },
    {
      "cell_type": "code",
      "source": [
        "!python3 -m pip install -e ."
      ],
      "metadata": {
        "colab": {
          "base_uri": "https://localhost:8080/"
        },
        "id": "xRqwqTsE1mhM",
        "outputId": "15ff78f7-67d5-40a6-ac88-3f65c3b14e75"
      },
      "execution_count": null,
      "outputs": [
        {
          "output_type": "stream",
          "name": "stdout",
          "text": [
            "Obtaining file:///content/tinygrad\n",
            "  Preparing metadata (setup.py) ... \u001b[?25l\u001b[?25hdone\n",
            "Requirement already satisfied: numpy in /usr/local/lib/python3.10/dist-packages (from tinygrad==0.6.0) (1.22.4)\n",
            "Requirement already satisfied: requests in /usr/local/lib/python3.10/dist-packages (from tinygrad==0.6.0) (2.27.1)\n",
            "Requirement already satisfied: pillow in /usr/local/lib/python3.10/dist-packages (from tinygrad==0.6.0) (8.4.0)\n",
            "Requirement already satisfied: tqdm in /usr/local/lib/python3.10/dist-packages (from tinygrad==0.6.0) (4.65.0)\n",
            "Requirement already satisfied: networkx in /usr/local/lib/python3.10/dist-packages (from tinygrad==0.6.0) (3.1)\n",
            "Requirement already satisfied: pyopencl in /usr/local/lib/python3.10/dist-packages (from tinygrad==0.6.0) (2023.1.1)\n",
            "Requirement already satisfied: PyYAML in /usr/local/lib/python3.10/dist-packages (from tinygrad==0.6.0) (6.0)\n",
            "Requirement already satisfied: pytools>=2021.2.7 in /usr/local/lib/python3.10/dist-packages (from pyopencl->tinygrad==0.6.0) (2023.1)\n",
            "Requirement already satisfied: platformdirs>=2.2.0 in /usr/local/lib/python3.10/dist-packages (from pyopencl->tinygrad==0.6.0) (3.7.0)\n",
            "Requirement already satisfied: urllib3<1.27,>=1.21.1 in /usr/local/lib/python3.10/dist-packages (from requests->tinygrad==0.6.0) (1.26.16)\n",
            "Requirement already satisfied: certifi>=2017.4.17 in /usr/local/lib/python3.10/dist-packages (from requests->tinygrad==0.6.0) (2023.5.7)\n",
            "Requirement already satisfied: charset-normalizer~=2.0.0 in /usr/local/lib/python3.10/dist-packages (from requests->tinygrad==0.6.0) (2.0.12)\n",
            "Requirement already satisfied: idna<4,>=2.5 in /usr/local/lib/python3.10/dist-packages (from requests->tinygrad==0.6.0) (3.4)\n",
            "Requirement already satisfied: typing-extensions>=4.0 in /usr/local/lib/python3.10/dist-packages (from pytools>=2021.2.7->pyopencl->tinygrad==0.6.0) (4.6.3)\n",
            "Installing collected packages: tinygrad\n",
            "  Running setup.py develop for tinygrad\n",
            "Successfully installed tinygrad-0.6.0\n"
          ]
        }
      ]
    },
    {
      "cell_type": "code",
      "source": [
        "!pip show tinygrad"
      ],
      "metadata": {
        "colab": {
          "base_uri": "https://localhost:8080/"
        },
        "id": "PMIp_hXT6olF",
        "outputId": "be2652a6-edf4-4175-8884-554da17f6978"
      },
      "execution_count": null,
      "outputs": [
        {
          "output_type": "stream",
          "name": "stdout",
          "text": [
            "Name: tinygrad\n",
            "Version: 0.6.0\n",
            "Summary: You like pytorch? You like micrograd? You love tinygrad! <3\n",
            "Home-page: \n",
            "Author: George Hotz\n",
            "Author-email: \n",
            "License: MIT\n",
            "Location: /content/tinygrad\n",
            "Editable project location: /content/tinygrad\n",
            "Requires: networkx, numpy, pillow, pyopencl, PyYAML, requests, tqdm\n",
            "Required-by: \n"
          ]
        }
      ]
    },
    {
      "cell_type": "markdown",
      "source": [
        "### Test it"
      ],
      "metadata": {
        "id": "4nAh4c0A_h7I"
      }
    },
    {
      "cell_type": "code",
      "source": [
        "from tinygrad.tensor import Tensor\n",
        "x = Tensor.eye(3, requires_grad=True)\n",
        "y = Tensor([[2.0,0,-2.0]], requires_grad=True)\n",
        "z = y.matmul(x).sum()\n",
        "z.backward()\n",
        "\n",
        "print(x.grad.numpy())  # dz/dx\n",
        "print(y.grad.numpy())  # dz/dy"
      ],
      "metadata": {
        "colab": {
          "base_uri": "https://localhost:8080/"
        },
        "id": "MJO2ShAF_Gxh",
        "outputId": "9555603e-fa12-45f3-8cb2-17f562713c63"
      },
      "execution_count": null,
      "outputs": [
        {
          "output_type": "stream",
          "name": "stdout",
          "text": [
            "[[ 2.  2.  2.]\n",
            " [ 0.  0.  0.]\n",
            " [-2. -2. -2.]]\n",
            "[[1. 1. 1.]]\n"
          ]
        }
      ]
    }
  ]
}
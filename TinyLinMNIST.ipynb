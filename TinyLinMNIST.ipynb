{
  "nbformat": 4,
  "nbformat_minor": 0,
  "metadata": {
    "colab": {
      "provenance": [],
      "mount_file_id": "1RslENvDNQtzjfUYe_Xweq_o9z0cd6BKY",
      "authorship_tag": "ABX9TyOUzq/N7/dd5/4JfZVCKhiZ",
      "include_colab_link": true
    },
    "kernelspec": {
      "name": "python3",
      "display_name": "Python 3"
    },
    "language_info": {
      "name": "python"
    }
  },
  "cells": [
    {
      "cell_type": "markdown",
      "metadata": {
        "id": "view-in-github",
        "colab_type": "text"
      },
      "source": [
        "<a href=\"https://colab.research.google.com/github/diro5t/deep_quadric_learning/blob/main/TinyLinMNIST.ipynb\" target=\"_parent\"><img src=\"https://colab.research.google.com/assets/colab-badge.svg\" alt=\"Open In Colab\"/></a>"
      ]
    },
    {
      "cell_type": "markdown",
      "source": [
        "(C) Dirk Roeckmann 2023\n",
        "\n",
        "Simple tinygrad MNIST ~100K parameter classifier with linear layers 784-128-10 and batch size of 64 modeled after the tinygrad quickstart.md\n",
        "\n",
        "NOTE: The goal is NOT to find the minimum model or a certain target accuracy, but to compare it with a ~25K quadric model after the same number of epochs (see TinyQuadMNIST.ipynb).\n",
        "\n",
        "More about quadric models here:\n",
        "\n",
        "https://github.com/diro5t/deep_quadric_learning\n",
        "\n",
        "This paradigm is based on my research here:\n",
        "\n",
        "https://scholar.google.com/citations?hl=en&user=hamuGh4AAAAJ"
      ],
      "metadata": {
        "id": "grsZyPZ5VvFE"
      }
    },
    {
      "cell_type": "markdown",
      "source": [
        "### Install fresh tinygrad"
      ],
      "metadata": {
        "id": "K2cj-VLY_Xvm"
      }
    },
    {
      "cell_type": "code",
      "source": [
        "%cd /content"
      ],
      "metadata": {
        "colab": {
          "base_uri": "https://localhost:8080/"
        },
        "id": "0S3mazdk6DMy",
        "outputId": "2b7e1396-7c73-4d69-ba79-dbee245d29de"
      },
      "execution_count": null,
      "outputs": [
        {
          "output_type": "stream",
          "name": "stdout",
          "text": [
            "/content\n"
          ]
        }
      ]
    },
    {
      "cell_type": "code",
      "source": [
        "import shutil\n",
        "def handler(func, path, exc_info):\n",
        "    print(exc_info)\n",
        "shutil.rmtree('tinygrad', onerror=handler)"
      ],
      "metadata": {
        "id": "PEDAFyxQ5RP4"
      },
      "execution_count": null,
      "outputs": []
    },
    {
      "cell_type": "code",
      "source": [
        "!git clone https://github.com/geohot/tinygrad.git"
      ],
      "metadata": {
        "colab": {
          "base_uri": "https://localhost:8080/"
        },
        "id": "8m3Bn7mE0yfe",
        "outputId": "08cfac7c-66a6-4df1-a9c1-946b8788f6be"
      },
      "execution_count": null,
      "outputs": [
        {
          "output_type": "stream",
          "name": "stdout",
          "text": [
            "Cloning into 'tinygrad'...\n",
            "remote: Enumerating objects: 14767, done.\u001b[K\n",
            "remote: Counting objects: 100% (4251/4251), done.\u001b[K\n",
            "remote: Compressing objects: 100% (445/445), done.\u001b[K\n",
            "remote: Total 14767 (delta 3922), reused 3839 (delta 3802), pack-reused 10516\u001b[K\n",
            "Receiving objects: 100% (14767/14767), 18.44 MiB | 23.17 MiB/s, done.\n",
            "Resolving deltas: 100% (10534/10534), done.\n"
          ]
        }
      ]
    },
    {
      "cell_type": "code",
      "source": [
        "%cd tinygrad"
      ],
      "metadata": {
        "colab": {
          "base_uri": "https://localhost:8080/"
        },
        "id": "u4Lt8PJV1jA5",
        "outputId": "06204d6d-0089-4dd8-943d-d4b2eb98290d"
      },
      "execution_count": null,
      "outputs": [
        {
          "output_type": "stream",
          "name": "stdout",
          "text": [
            "/content/tinygrad\n"
          ]
        }
      ]
    },
    {
      "cell_type": "code",
      "source": [
        "!python3 -m pip install -e ."
      ],
      "metadata": {
        "colab": {
          "base_uri": "https://localhost:8080/"
        },
        "id": "xRqwqTsE1mhM",
        "outputId": "e49e52a6-a692-4d8a-af2b-fd534c8c4253"
      },
      "execution_count": null,
      "outputs": [
        {
          "output_type": "stream",
          "name": "stdout",
          "text": [
            "Obtaining file:///content/tinygrad\n",
            "  Preparing metadata (setup.py) ... \u001b[?25l\u001b[?25hdone\n",
            "Requirement already satisfied: numpy in /usr/local/lib/python3.10/dist-packages (from tinygrad==0.6.0) (1.22.4)\n",
            "Requirement already satisfied: requests in /usr/local/lib/python3.10/dist-packages (from tinygrad==0.6.0) (2.27.1)\n",
            "Requirement already satisfied: pillow in /usr/local/lib/python3.10/dist-packages (from tinygrad==0.6.0) (8.4.0)\n",
            "Requirement already satisfied: tqdm in /usr/local/lib/python3.10/dist-packages (from tinygrad==0.6.0) (4.65.0)\n",
            "Requirement already satisfied: networkx in /usr/local/lib/python3.10/dist-packages (from tinygrad==0.6.0) (3.1)\n",
            "Requirement already satisfied: pyopencl in /usr/local/lib/python3.10/dist-packages (from tinygrad==0.6.0) (2023.1.1)\n",
            "Requirement already satisfied: PyYAML in /usr/local/lib/python3.10/dist-packages (from tinygrad==0.6.0) (6.0)\n",
            "Requirement already satisfied: pytools>=2021.2.7 in /usr/local/lib/python3.10/dist-packages (from pyopencl->tinygrad==0.6.0) (2023.1)\n",
            "Requirement already satisfied: platformdirs>=2.2.0 in /usr/local/lib/python3.10/dist-packages (from pyopencl->tinygrad==0.6.0) (3.8.1)\n",
            "Requirement already satisfied: urllib3<1.27,>=1.21.1 in /usr/local/lib/python3.10/dist-packages (from requests->tinygrad==0.6.0) (1.26.16)\n",
            "Requirement already satisfied: certifi>=2017.4.17 in /usr/local/lib/python3.10/dist-packages (from requests->tinygrad==0.6.0) (2023.5.7)\n",
            "Requirement already satisfied: charset-normalizer~=2.0.0 in /usr/local/lib/python3.10/dist-packages (from requests->tinygrad==0.6.0) (2.0.12)\n",
            "Requirement already satisfied: idna<4,>=2.5 in /usr/local/lib/python3.10/dist-packages (from requests->tinygrad==0.6.0) (3.4)\n",
            "Requirement already satisfied: typing-extensions>=4.0 in /usr/local/lib/python3.10/dist-packages (from pytools>=2021.2.7->pyopencl->tinygrad==0.6.0) (4.7.1)\n",
            "Installing collected packages: tinygrad\n",
            "  Running setup.py develop for tinygrad\n",
            "Successfully installed tinygrad-0.6.0\n"
          ]
        }
      ]
    },
    {
      "cell_type": "code",
      "source": [
        "!pip show tinygrad"
      ],
      "metadata": {
        "colab": {
          "base_uri": "https://localhost:8080/"
        },
        "id": "PMIp_hXT6olF",
        "outputId": "d60ec621-5570-40fe-a1d8-fa6606271cfc"
      },
      "execution_count": null,
      "outputs": [
        {
          "output_type": "stream",
          "name": "stdout",
          "text": [
            "Name: tinygrad\n",
            "Version: 0.6.0\n",
            "Summary: You like pytorch? You like micrograd? You love tinygrad! <3\n",
            "Home-page: \n",
            "Author: George Hotz\n",
            "Author-email: \n",
            "License: MIT\n",
            "Location: /content/tinygrad\n",
            "Editable project location: /content/tinygrad\n",
            "Requires: networkx, numpy, pillow, pyopencl, PyYAML, requests, tqdm\n",
            "Required-by: \n"
          ]
        }
      ]
    },
    {
      "cell_type": "markdown",
      "source": [
        "### Train and test the model"
      ],
      "metadata": {
        "id": "4nAh4c0A_h7I"
      }
    },
    {
      "cell_type": "code",
      "source": [
        "# fetch mnist data\n",
        "import numpy as np\n",
        "import matplotlib.pyplot as plt\n",
        "\n",
        "from extra.datasets import fetch_mnist\n",
        "X_train, Y_train, X_test, Y_test = fetch_mnist()\n",
        "X_train, X_test = X_train/255, X_test/255"
      ],
      "metadata": {
        "id": "MJO2ShAF_Gxh"
      },
      "execution_count": null,
      "outputs": []
    },
    {
      "cell_type": "code",
      "source": [
        "# samples\n",
        "figure = plt.figure()\n",
        "for i in range(1, 61):\n",
        "    plt.subplot(10, 6, i)\n",
        "    plt.axis('off')\n",
        "    plt.imshow(np.reshape(X_train[i], (28, 28)), cmap='gray_r')"
      ],
      "metadata": {
        "colab": {
          "base_uri": "https://localhost:8080/",
          "height": 406
        },
        "id": "3yjiZ0b-0Ok7",
        "outputId": "57c3fe14-bf24-406e-981d-2b7285e240a5"
      },
      "execution_count": null,
      "outputs": [
        {
          "output_type": "display_data",
          "data": {
            "text/plain": [
              "<Figure size 640x480 with 60 Axes>"
            ],
            "image/png": "[encoded data removed]"
          },
          "metadata": {}
        }
      ]
    },
    {
      "cell_type": "code",
      "source": [
        "# linear model\n",
        "from tinygrad.tensor import Tensor\n",
        "from tinygrad.nn import Linear\n",
        "from tinygrad.state import get_parameters\n",
        "\n",
        "class TinyLinMnist:\n",
        "  def __init__(self):\n",
        "    self.l1 = Linear(784, 128, bias=False)\n",
        "    self.l2 = Linear(128, 10, bias=False)\n",
        "\n",
        "  def parameters(self):\n",
        "    return get_parameters(self)\n",
        "\n",
        "  def __call__(self, x):\n",
        "    x = self.l1(x)\n",
        "    x = x.leakyrelu()\n",
        "    x = self.l2(x)\n",
        "    return x.log_softmax()\n",
        "\n",
        "model = TinyLinMnist()\n",
        "model.parameters()"
      ],
      "metadata": {
        "colab": {
          "base_uri": "https://localhost:8080/"
        },
        "id": "hzN4OpARl-Jk",
        "outputId": "abf3a80b-713e-4c5b-80a9-7bac0b8a4c86"
      },
      "execution_count": null,
      "outputs": [
        {
          "output_type": "execute_result",
          "data": {
            "text/plain": [
              "[<Tensor <LB (128, 784) dtypes.float op=BinaryOps.ADD st=ShapeTracker(shape=(128, 784), views=[View(shape=(128, 784), strides=(784, 1), offset=0, mask=None, contiguous=True, shape_strides=((100352, 1),))])> on CPU with grad None>,\n",
              " <Tensor <LB (10, 128) dtypes.float op=BinaryOps.ADD st=ShapeTracker(shape=(10, 128), views=[View(shape=(10, 128), strides=(128, 1), offset=0, mask=None, contiguous=True, shape_strides=((1280, 1),))])> on CPU with grad None>]"
            ]
          },
          "metadata": {},
          "execution_count": 142
        }
      ]
    },
    {
      "cell_type": "code",
      "source": [
        "# training\n",
        "Tensor.training = True\n",
        "from extra.training import sparse_categorical_crossentropy\n",
        "from tinygrad.nn.optim import SGD\n",
        "opt = SGD([model.l1.weight, model.l2.weight], lr=0.003)\n",
        "steps = 2000\n",
        "for step in range(steps):\n",
        "  # random sample a batch\n",
        "  samp = np.random.randint(0, X_train.shape[0], size=(64))\n",
        "  batch = Tensor(X_train[samp], requires_grad=False)\n",
        "  # get the corresponding labels\n",
        "  labels = Y_train[samp]\n",
        "  # forward pass\n",
        "  out = model(batch)\n",
        "  # compute loss\n",
        "  loss = sparse_categorical_crossentropy(out, labels)\n",
        "  # zero gradients\n",
        "  opt.zero_grad()\n",
        "  # backward pass\n",
        "  loss.backward()\n",
        "  # update parameters\n",
        "  opt.step()\n",
        "  # calculate accuracy\n",
        "  pred = np.argmax(out.numpy(), axis=-1)\n",
        "  acc = (pred == labels).mean()\n",
        "  if step % 100 == 0:\n",
        "    print(f\"Step {step+1} | Loss: {loss.numpy()} | Accuracy: {acc}\")"
      ],
      "metadata": {
        "colab": {
          "base_uri": "https://localhost:8080/"
        },
        "id": "OM6ecU6OnzuW",
        "outputId": "4c205a2f-fd3a-414b-96e8-7ac188a66089"
      },
      "execution_count": null,
      "outputs": [
        {
          "output_type": "stream",
          "name": "stdout",
          "text": [
            "Step 1 | Loss: 0.412818044424057 | Accuracy: 0.890625\n",
            "Step 101 | Loss: 0.7298752069473267 | Accuracy: 0.78125\n",
            "Step 201 | Loss: 0.35981759428977966 | Accuracy: 0.890625\n",
            "Step 301 | Loss: 0.5592283606529236 | Accuracy: 0.859375\n",
            "Step 401 | Loss: 0.5854056477546692 | Accuracy: 0.875\n",
            "Step 501 | Loss: 0.3270707130432129 | Accuracy: 0.890625\n",
            "Step 601 | Loss: 0.36423200368881226 | Accuracy: 0.9375\n",
            "Step 701 | Loss: 0.41924038529396057 | Accuracy: 0.890625\n",
            "Step 801 | Loss: 0.36126789450645447 | Accuracy: 0.921875\n",
            "Step 901 | Loss: 0.2548820674419403 | Accuracy: 0.9375\n",
            "Step 1001 | Loss: 0.22326533496379852 | Accuracy: 0.984375\n",
            "Step 1101 | Loss: 0.2876150608062744 | Accuracy: 0.90625\n",
            "Step 1201 | Loss: 0.3491915762424469 | Accuracy: 0.890625\n",
            "Step 1301 | Loss: 0.44293737411499023 | Accuracy: 0.875\n",
            "Step 1401 | Loss: 0.43789204955101013 | Accuracy: 0.890625\n",
            "Step 1501 | Loss: 0.2676992118358612 | Accuracy: 0.953125\n",
            "Step 1601 | Loss: 0.3047407269477844 | Accuracy: 0.953125\n",
            "Step 1701 | Loss: 0.2625602185726166 | Accuracy: 0.9375\n",
            "Step 1801 | Loss: 0.33623039722442627 | Accuracy: 0.90625\n",
            "Step 1901 | Loss: 0.4237031042575836 | Accuracy: 0.890625\n"
          ]
        }
      ]
    },
    {
      "cell_type": "code",
      "source": [
        "# evaluation\n",
        "import time\n",
        "Tensor.training = False\n",
        "st = time.perf_counter()\n",
        "avg_acc = 0\n",
        "for step in range(steps):\n",
        "  # random sample a batch\n",
        "  samp = np.random.randint(0, X_test.shape[0], size=(64))\n",
        "  batch = Tensor(X_test[samp], requires_grad=False)\n",
        "  # get the corresponding labels\n",
        "  labels = Y_test[samp]\n",
        "  # forward pass\n",
        "  out = model(batch)\n",
        "  # calculate accuracy\n",
        "  pred = np.argmax(out.numpy(), axis=-1)\n",
        "  avg_acc += (pred == labels).mean()\n",
        "print(f\"Test Accuracy: {avg_acc/steps}\")\n",
        "print(f\"Time: {time.perf_counter() - st}\")"
      ],
      "metadata": {
        "colab": {
          "base_uri": "https://localhost:8080/"
        },
        "id": "qNZelqLpp7RP",
        "outputId": "c3ee3e65-5e41-4a3d-8c44-559535ab1874"
      },
      "execution_count": null,
      "outputs": [
        {
          "output_type": "stream",
          "name": "stdout",
          "text": [
            "Test Accuracy: 0.89709375\n",
            "Time: 11.318332430000737\n"
          ]
        }
      ]
    }
  ]
}